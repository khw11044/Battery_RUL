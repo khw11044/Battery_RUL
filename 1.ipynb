{
 "cells": [
  {
   "cell_type": "code",
   "execution_count": 5,
   "metadata": {},
   "outputs": [],
   "source": [
    "import pandas as pd\n",
    "import os"
   ]
  },
  {
   "cell_type": "code",
   "execution_count": 6,
   "metadata": {},
   "outputs": [],
   "source": [
    "dataset_raw = pd.read_csv(os.getcwd() + '/data/HNEI_Processed/Final Database.csv')\n",
    "dataset_raw.drop(['Unnamed: 0', 'Cycle_Index'], axis=1, inplace=True)"
   ]
  },
  {
   "cell_type": "code",
   "execution_count": 7,
   "metadata": {},
   "outputs": [
    {
     "data": {
      "text/html": [
       "<div>\n",
       "<style scoped>\n",
       "    .dataframe tbody tr th:only-of-type {\n",
       "        vertical-align: middle;\n",
       "    }\n",
       "\n",
       "    .dataframe tbody tr th {\n",
       "        vertical-align: top;\n",
       "    }\n",
       "\n",
       "    .dataframe thead th {\n",
       "        text-align: right;\n",
       "    }\n",
       "</style>\n",
       "<table border=\"1\" class=\"dataframe\">\n",
       "  <thead>\n",
       "    <tr style=\"text-align: right;\">\n",
       "      <th></th>\n",
       "      <th>Discharge Time (s)</th>\n",
       "      <th>Decrement 3.6-3.4V (s)</th>\n",
       "      <th>Max. Voltage Dischar. (V)</th>\n",
       "      <th>Min. Voltage Charg. (V)</th>\n",
       "      <th>Time at 4.15V (s)</th>\n",
       "      <th>Time constant current (s)</th>\n",
       "      <th>Charging time (s)</th>\n",
       "      <th>Total time (s)</th>\n",
       "      <th>RUL</th>\n",
       "    </tr>\n",
       "  </thead>\n",
       "  <tbody>\n",
       "    <tr>\n",
       "      <th>0</th>\n",
       "      <td>2595.30</td>\n",
       "      <td>1151.488500</td>\n",
       "      <td>3.670</td>\n",
       "      <td>3.211</td>\n",
       "      <td>5460.001</td>\n",
       "      <td>6755.01</td>\n",
       "      <td>10777.82</td>\n",
       "      <td>14648.45</td>\n",
       "      <td>1112</td>\n",
       "    </tr>\n",
       "    <tr>\n",
       "      <th>1</th>\n",
       "      <td>7408.64</td>\n",
       "      <td>1172.512500</td>\n",
       "      <td>4.246</td>\n",
       "      <td>3.220</td>\n",
       "      <td>5508.992</td>\n",
       "      <td>6762.02</td>\n",
       "      <td>10500.35</td>\n",
       "      <td>19124.28</td>\n",
       "      <td>1111</td>\n",
       "    </tr>\n",
       "    <tr>\n",
       "      <th>2</th>\n",
       "      <td>7393.76</td>\n",
       "      <td>1112.992000</td>\n",
       "      <td>4.249</td>\n",
       "      <td>3.224</td>\n",
       "      <td>5508.993</td>\n",
       "      <td>6762.02</td>\n",
       "      <td>10420.38</td>\n",
       "      <td>19029.51</td>\n",
       "      <td>1110</td>\n",
       "    </tr>\n",
       "    <tr>\n",
       "      <th>3</th>\n",
       "      <td>7385.50</td>\n",
       "      <td>1080.320667</td>\n",
       "      <td>4.250</td>\n",
       "      <td>3.225</td>\n",
       "      <td>5502.016</td>\n",
       "      <td>6762.02</td>\n",
       "      <td>10322.81</td>\n",
       "      <td>18923.65</td>\n",
       "      <td>1109</td>\n",
       "    </tr>\n",
       "    <tr>\n",
       "      <th>4</th>\n",
       "      <td>65022.75</td>\n",
       "      <td>29813.487000</td>\n",
       "      <td>4.290</td>\n",
       "      <td>3.398</td>\n",
       "      <td>5480.992</td>\n",
       "      <td>53213.54</td>\n",
       "      <td>56699.65</td>\n",
       "      <td>104171.80</td>\n",
       "      <td>1107</td>\n",
       "    </tr>\n",
       "  </tbody>\n",
       "</table>\n",
       "</div>"
      ],
      "text/plain": [
       "   Discharge Time (s)  Decrement 3.6-3.4V (s)  Max. Voltage Dischar. (V)  \\\n",
       "0             2595.30             1151.488500                      3.670   \n",
       "1             7408.64             1172.512500                      4.246   \n",
       "2             7393.76             1112.992000                      4.249   \n",
       "3             7385.50             1080.320667                      4.250   \n",
       "4            65022.75            29813.487000                      4.290   \n",
       "\n",
       "   Min. Voltage Charg. (V)  Time at 4.15V (s)  Time constant current (s)  \\\n",
       "0                    3.211           5460.001                    6755.01   \n",
       "1                    3.220           5508.992                    6762.02   \n",
       "2                    3.224           5508.993                    6762.02   \n",
       "3                    3.225           5502.016                    6762.02   \n",
       "4                    3.398           5480.992                   53213.54   \n",
       "\n",
       "   Charging time (s)  Total time (s)   RUL  \n",
       "0           10777.82        14648.45  1112  \n",
       "1           10500.35        19124.28  1111  \n",
       "2           10420.38        19029.51  1110  \n",
       "3           10322.81        18923.65  1109  \n",
       "4           56699.65       104171.80  1107  "
      ]
     },
     "execution_count": 7,
     "metadata": {},
     "output_type": "execute_result"
    }
   ],
   "source": [
    "dataset_raw.head()"
   ]
  },
  {
   "cell_type": "code",
   "execution_count": 8,
   "metadata": {},
   "outputs": [],
   "source": [
    "data = dataset_raw.values[:, :-1]"
   ]
  },
  {
   "cell_type": "code",
   "execution_count": 9,
   "metadata": {},
   "outputs": [
    {
     "ename": "AttributeError",
     "evalue": "'numpy.ndarray' object has no attribute 'head'",
     "output_type": "error",
     "traceback": [
      "\u001b[1;31m---------------------------------------------------------------------------\u001b[0m",
      "\u001b[1;31mAttributeError\u001b[0m                            Traceback (most recent call last)",
      "\u001b[1;32m~\\AppData\\Local\\Temp\\ipykernel_22040\\3870928973.py\u001b[0m in \u001b[0;36m<module>\u001b[1;34m\u001b[0m\n\u001b[1;32m----> 1\u001b[1;33m \u001b[0mdata\u001b[0m\u001b[1;33m.\u001b[0m\u001b[0mhead\u001b[0m\u001b[1;33m(\u001b[0m\u001b[1;33m)\u001b[0m\u001b[1;33m\u001b[0m\u001b[1;33m\u001b[0m\u001b[0m\n\u001b[0m",
      "\u001b[1;31mAttributeError\u001b[0m: 'numpy.ndarray' object has no attribute 'head'"
     ]
    }
   ],
   "source": [
    "data.head()"
   ]
  },
  {
   "cell_type": "code",
   "execution_count": 10,
   "metadata": {},
   "outputs": [],
   "source": [
    "class Pipeline:\n",
    "    def __init__(self, scalar):\n",
    "        self.scalar = scalar\n",
    "    \n",
    "    def fit(self, X, y):\n",
    "        X = self.scalar.fit_transform(X)\n",
    "        return X, y\n",
    "    \n",
    "    def transform(self, X, y):\n",
    "        X = self.scalar.transform(X)\n",
    "        return X, y"
   ]
  },
  {
   "cell_type": "code",
   "execution_count": 15,
   "metadata": {},
   "outputs": [],
   "source": [
    "from sklearn.preprocessing import RobustScaler\n",
    "from sklearn.model_selection import train_test_split\n",
    "import numpy as np "
   ]
  },
  {
   "cell_type": "code",
   "execution_count": 21,
   "metadata": {},
   "outputs": [],
   "source": [
    "# Import data\n",
    "data = pd.read_csv(os.getcwd() + '/data/HNEI_Processed/Final Database.csv')\n",
    "data.drop(['Unnamed: 0', 'Cycle_Index'], axis=1, inplace=True)\n",
    "X = data.drop(['RUL'], axis=1)\n",
    "y = data['RUL']\n",
    "scaler = RobustScaler()\n",
    "pipeline = Pipeline(scaler)\n",
    "X_train, X_test, y_train, y_test = train_test_split(X, y, test_size=0.33, random_state=2023, shuffle =True)\n",
    "X_train_s, y_train_s = pipeline.fit(X_train, y_train)\n",
    "X_test_s, y_test_s = pipeline.transform(X_test, y_test)"
   ]
  },
  {
   "cell_type": "code",
   "execution_count": 22,
   "metadata": {},
   "outputs": [],
   "source": [
    "dataset = pd.DataFrame(X_train_s).join(y_train_s)"
   ]
  },
  {
   "cell_type": "code",
   "execution_count": 23,
   "metadata": {},
   "outputs": [
    {
     "data": {
      "text/html": [
       "<div>\n",
       "<style scoped>\n",
       "    .dataframe tbody tr th:only-of-type {\n",
       "        vertical-align: middle;\n",
       "    }\n",
       "\n",
       "    .dataframe tbody tr th {\n",
       "        vertical-align: top;\n",
       "    }\n",
       "\n",
       "    .dataframe thead th {\n",
       "        text-align: right;\n",
       "    }\n",
       "</style>\n",
       "<table border=\"1\" class=\"dataframe\">\n",
       "  <thead>\n",
       "    <tr style=\"text-align: right;\">\n",
       "      <th></th>\n",
       "      <th>0</th>\n",
       "      <th>1</th>\n",
       "      <th>2</th>\n",
       "      <th>3</th>\n",
       "      <th>4</th>\n",
       "      <th>5</th>\n",
       "      <th>6</th>\n",
       "      <th>7</th>\n",
       "      <th>RUL</th>\n",
       "    </tr>\n",
       "  </thead>\n",
       "  <tbody>\n",
       "    <tr>\n",
       "      <th>0</th>\n",
       "      <td>-0.492032</td>\n",
       "      <td>-0.424887</td>\n",
       "      <td>-0.648</td>\n",
       "      <td>0.494253</td>\n",
       "      <td>-0.474185</td>\n",
       "      <td>-0.492741</td>\n",
       "      <td>-0.434818</td>\n",
       "      <td>-0.470196</td>\n",
       "      <td>1112.0</td>\n",
       "    </tr>\n",
       "    <tr>\n",
       "      <th>1</th>\n",
       "      <td>0.685912</td>\n",
       "      <td>0.902245</td>\n",
       "      <td>0.552</td>\n",
       "      <td>-0.747126</td>\n",
       "      <td>0.737836</td>\n",
       "      <td>0.681240</td>\n",
       "      <td>0.740116</td>\n",
       "      <td>0.646322</td>\n",
       "      <td>1111.0</td>\n",
       "    </tr>\n",
       "    <tr>\n",
       "      <th>2</th>\n",
       "      <td>0.663788</td>\n",
       "      <td>0.886463</td>\n",
       "      <td>0.640</td>\n",
       "      <td>-0.678161</td>\n",
       "      <td>0.716502</td>\n",
       "      <td>0.666723</td>\n",
       "      <td>0.698404</td>\n",
       "      <td>0.614969</td>\n",
       "      <td>1110.0</td>\n",
       "    </tr>\n",
       "    <tr>\n",
       "      <th>3</th>\n",
       "      <td>-0.091697</td>\n",
       "      <td>-0.023366</td>\n",
       "      <td>-0.024</td>\n",
       "      <td>-0.040230</td>\n",
       "      <td>-0.082596</td>\n",
       "      <td>-0.101403</td>\n",
       "      <td>-0.179224</td>\n",
       "      <td>-0.165418</td>\n",
       "      <td>1109.0</td>\n",
       "    </tr>\n",
       "    <tr>\n",
       "      <th>4</th>\n",
       "      <td>-0.795033</td>\n",
       "      <td>-0.683249</td>\n",
       "      <td>-0.984</td>\n",
       "      <td>0.689655</td>\n",
       "      <td>-0.704526</td>\n",
       "      <td>-0.753553</td>\n",
       "      <td>-1.080277</td>\n",
       "      <td>-0.938703</td>\n",
       "      <td>1107.0</td>\n",
       "    </tr>\n",
       "  </tbody>\n",
       "</table>\n",
       "</div>"
      ],
      "text/plain": [
       "          0         1      2         3         4         5         6  \\\n",
       "0 -0.492032 -0.424887 -0.648  0.494253 -0.474185 -0.492741 -0.434818   \n",
       "1  0.685912  0.902245  0.552 -0.747126  0.737836  0.681240  0.740116   \n",
       "2  0.663788  0.886463  0.640 -0.678161  0.716502  0.666723  0.698404   \n",
       "3 -0.091697 -0.023366 -0.024 -0.040230 -0.082596 -0.101403 -0.179224   \n",
       "4 -0.795033 -0.683249 -0.984  0.689655 -0.704526 -0.753553 -1.080277   \n",
       "\n",
       "          7     RUL  \n",
       "0 -0.470196  1112.0  \n",
       "1  0.646322  1111.0  \n",
       "2  0.614969  1110.0  \n",
       "3 -0.165418  1109.0  \n",
       "4 -0.938703  1107.0  "
      ]
     },
     "execution_count": 23,
     "metadata": {},
     "output_type": "execute_result"
    }
   ],
   "source": [
    "dataset.head()"
   ]
  },
  {
   "cell_type": "code",
   "execution_count": 16,
   "metadata": {},
   "outputs": [
    {
     "data": {
      "text/plain": [
       "((10092, 8), (10092,))"
      ]
     },
     "execution_count": 16,
     "metadata": {},
     "output_type": "execute_result"
    }
   ],
   "source": [
    "X_train_s.shape, y_train_s.shape"
   ]
  },
  {
   "cell_type": "code",
   "execution_count": 18,
   "metadata": {},
   "outputs": [
    {
     "ename": "ValueError",
     "evalue": "all the input arrays must have same number of dimensions, but the array at index 0 has 2 dimension(s) and the array at index 1 has 1 dimension(s)",
     "output_type": "error",
     "traceback": [
      "\u001b[1;31m---------------------------------------------------------------------------\u001b[0m",
      "\u001b[1;31mValueError\u001b[0m                                Traceback (most recent call last)",
      "\u001b[1;32m~\\AppData\\Local\\Temp\\ipykernel_22040\\1973836685.py\u001b[0m in \u001b[0;36m<module>\u001b[1;34m\u001b[0m\n\u001b[1;32m----> 1\u001b[1;33m \u001b[0mtrain_dataset\u001b[0m \u001b[1;33m=\u001b[0m \u001b[0mnp\u001b[0m\u001b[1;33m.\u001b[0m\u001b[0mconcatenate\u001b[0m\u001b[1;33m(\u001b[0m\u001b[1;33m(\u001b[0m\u001b[0mX_train_s\u001b[0m\u001b[1;33m,\u001b[0m\u001b[0my_train_s\u001b[0m\u001b[1;33m)\u001b[0m\u001b[1;33m,\u001b[0m \u001b[0maxis\u001b[0m\u001b[1;33m=\u001b[0m\u001b[1;36m0\u001b[0m\u001b[1;33m)\u001b[0m\u001b[1;33m\u001b[0m\u001b[1;33m\u001b[0m\u001b[0m\n\u001b[0m",
      "\u001b[1;32m<__array_function__ internals>\u001b[0m in \u001b[0;36mconcatenate\u001b[1;34m(*args, **kwargs)\u001b[0m\n",
      "\u001b[1;31mValueError\u001b[0m: all the input arrays must have same number of dimensions, but the array at index 0 has 2 dimension(s) and the array at index 1 has 1 dimension(s)"
     ]
    }
   ],
   "source": [
    "train_dataset = np.concatenate((X_train_s,y_train_s), axis=0)"
   ]
  },
  {
   "cell_type": "code",
   "execution_count": null,
   "metadata": {},
   "outputs": [],
   "source": [
    "train_dataset.shape"
   ]
  }
 ],
 "metadata": {
  "kernelspec": {
   "display_name": "battery",
   "language": "python",
   "name": "python3"
  },
  "language_info": {
   "codemirror_mode": {
    "name": "ipython",
    "version": 3
   },
   "file_extension": ".py",
   "mimetype": "text/x-python",
   "name": "python",
   "nbconvert_exporter": "python",
   "pygments_lexer": "ipython3",
   "version": "3.7.16"
  }
 },
 "nbformat": 4,
 "nbformat_minor": 2
}

{
 "cells": [
  {
   "cell_type": "code",
   "execution_count": 113,
   "metadata": {},
   "outputs": [],
   "source": [
    "import random\n",
    "import os\n",
    "\n",
    "import pandas as pd\n",
    "import numpy as np\n",
    "import matplotlib.pyplot as plt\n",
    "import seaborn as sns\n",
    "\n",
    "import torch\n",
    "import torch.nn as nn \n",
    "import torch.optim as optim\n",
    "\n",
    "from sklearn.model_selection import train_test_split\n",
    "from sklearn.metrics import * \n",
    "\n",
    "import warnings\n",
    "warnings.filterwarnings(\"ignore\")"
   ]
  },
  {
   "cell_type": "code",
   "execution_count": 114,
   "metadata": {},
   "outputs": [],
   "source": [
    "def seed_everything(seed):\n",
    "    random.seed(seed)\n",
    "    os.environ['PYTHONHASHSEED'] = str(seed)\n",
    "    np.random.seed(seed)\n",
    "    torch.manual_seed(seed)\n",
    "    torch.cuda.manual_seed_all(seed)\n",
    "    torch.backends.cudnn.deterministic = True\n",
    "    torch.backends.cudnn.benchmark = False\n",
    "\n",
    "seed_everything(42) # Seed 고정"
   ]
  },
  {
   "cell_type": "code",
   "execution_count": 115,
   "metadata": {},
   "outputs": [],
   "source": [
    "def RUL_metric(y_valid, y_pred, threshold=10):\n",
    "\n",
    "    error = y_valid.reshape(-1) - y_pred.reshape(-1)\n",
    "    per = np.where(error<=threshold, 1, 0)\n",
    "    \n",
    "    return sum(per) / len(per)\n"
   ]
  },
  {
   "cell_type": "code",
   "execution_count": 116,
   "metadata": {},
   "outputs": [],
   "source": [
    "path = \"data/Battery_RUL.csv\""
   ]
  },
  {
   "cell_type": "code",
   "execution_count": 117,
   "metadata": {},
   "outputs": [],
   "source": [
    "data = pd.read_csv(path)"
   ]
  },
  {
   "cell_type": "code",
   "execution_count": 118,
   "metadata": {},
   "outputs": [
    {
     "data": {
      "text/html": [
       "<div>\n",
       "<style scoped>\n",
       "    .dataframe tbody tr th:only-of-type {\n",
       "        vertical-align: middle;\n",
       "    }\n",
       "\n",
       "    .dataframe tbody tr th {\n",
       "        vertical-align: top;\n",
       "    }\n",
       "\n",
       "    .dataframe thead th {\n",
       "        text-align: right;\n",
       "    }\n",
       "</style>\n",
       "<table border=\"1\" class=\"dataframe\">\n",
       "  <thead>\n",
       "    <tr style=\"text-align: right;\">\n",
       "      <th></th>\n",
       "      <th>Cycle_Index</th>\n",
       "      <th>Discharge Time (s)</th>\n",
       "      <th>Decrement 3.6-3.4V (s)</th>\n",
       "      <th>Max. Voltage Dischar. (V)</th>\n",
       "      <th>Min. Voltage Charg. (V)</th>\n",
       "      <th>Time at 4.15V (s)</th>\n",
       "      <th>Time constant current (s)</th>\n",
       "      <th>Charging time (s)</th>\n",
       "      <th>RUL</th>\n",
       "    </tr>\n",
       "  </thead>\n",
       "  <tbody>\n",
       "    <tr>\n",
       "      <th>0</th>\n",
       "      <td>1.0</td>\n",
       "      <td>2595.30</td>\n",
       "      <td>1151.488500</td>\n",
       "      <td>3.670</td>\n",
       "      <td>3.211</td>\n",
       "      <td>5460.001</td>\n",
       "      <td>6755.01</td>\n",
       "      <td>10777.82</td>\n",
       "      <td>1112</td>\n",
       "    </tr>\n",
       "    <tr>\n",
       "      <th>1</th>\n",
       "      <td>2.0</td>\n",
       "      <td>7408.64</td>\n",
       "      <td>1172.512500</td>\n",
       "      <td>4.246</td>\n",
       "      <td>3.220</td>\n",
       "      <td>5508.992</td>\n",
       "      <td>6762.02</td>\n",
       "      <td>10500.35</td>\n",
       "      <td>1111</td>\n",
       "    </tr>\n",
       "    <tr>\n",
       "      <th>2</th>\n",
       "      <td>3.0</td>\n",
       "      <td>7393.76</td>\n",
       "      <td>1112.992000</td>\n",
       "      <td>4.249</td>\n",
       "      <td>3.224</td>\n",
       "      <td>5508.993</td>\n",
       "      <td>6762.02</td>\n",
       "      <td>10420.38</td>\n",
       "      <td>1110</td>\n",
       "    </tr>\n",
       "    <tr>\n",
       "      <th>3</th>\n",
       "      <td>4.0</td>\n",
       "      <td>7385.50</td>\n",
       "      <td>1080.320667</td>\n",
       "      <td>4.250</td>\n",
       "      <td>3.225</td>\n",
       "      <td>5502.016</td>\n",
       "      <td>6762.02</td>\n",
       "      <td>10322.81</td>\n",
       "      <td>1109</td>\n",
       "    </tr>\n",
       "    <tr>\n",
       "      <th>4</th>\n",
       "      <td>6.0</td>\n",
       "      <td>65022.75</td>\n",
       "      <td>29813.487000</td>\n",
       "      <td>4.290</td>\n",
       "      <td>3.398</td>\n",
       "      <td>5480.992</td>\n",
       "      <td>53213.54</td>\n",
       "      <td>56699.65</td>\n",
       "      <td>1107</td>\n",
       "    </tr>\n",
       "  </tbody>\n",
       "</table>\n",
       "</div>"
      ],
      "text/plain": [
       "   Cycle_Index  Discharge Time (s)  Decrement 3.6-3.4V (s)  \\\n",
       "0          1.0             2595.30             1151.488500   \n",
       "1          2.0             7408.64             1172.512500   \n",
       "2          3.0             7393.76             1112.992000   \n",
       "3          4.0             7385.50             1080.320667   \n",
       "4          6.0            65022.75            29813.487000   \n",
       "\n",
       "   Max. Voltage Dischar. (V)  Min. Voltage Charg. (V)  Time at 4.15V (s)  \\\n",
       "0                      3.670                    3.211           5460.001   \n",
       "1                      4.246                    3.220           5508.992   \n",
       "2                      4.249                    3.224           5508.993   \n",
       "3                      4.250                    3.225           5502.016   \n",
       "4                      4.290                    3.398           5480.992   \n",
       "\n",
       "   Time constant current (s)  Charging time (s)   RUL  \n",
       "0                    6755.01           10777.82  1112  \n",
       "1                    6762.02           10500.35  1111  \n",
       "2                    6762.02           10420.38  1110  \n",
       "3                    6762.02           10322.81  1109  \n",
       "4                   53213.54           56699.65  1107  "
      ]
     },
     "execution_count": 118,
     "metadata": {},
     "output_type": "execute_result"
    }
   ],
   "source": [
    "data.head()"
   ]
  },
  {
   "cell_type": "code",
   "execution_count": 119,
   "metadata": {},
   "outputs": [
    {
     "data": {
      "text/plain": [
       "(15064, 9)"
      ]
     },
     "execution_count": 119,
     "metadata": {},
     "output_type": "execute_result"
    }
   ],
   "source": [
    "data.shape"
   ]
  },
  {
   "cell_type": "code",
   "execution_count": 120,
   "metadata": {},
   "outputs": [],
   "source": [
    "# 다음 컬럼들은 RUL에 관계가 없기 때문에 제거한다.\n",
    "data=data.drop(['Cycle_Index','Discharge Time (s)', 'Decrement 3.6-3.4V (s)', 'Time constant current (s)','Charging time (s)'],axis=1)"
   ]
  },
  {
   "cell_type": "code",
   "execution_count": 121,
   "metadata": {},
   "outputs": [
    {
     "data": {
      "text/html": [
       "<div>\n",
       "<style scoped>\n",
       "    .dataframe tbody tr th:only-of-type {\n",
       "        vertical-align: middle;\n",
       "    }\n",
       "\n",
       "    .dataframe tbody tr th {\n",
       "        vertical-align: top;\n",
       "    }\n",
       "\n",
       "    .dataframe thead th {\n",
       "        text-align: right;\n",
       "    }\n",
       "</style>\n",
       "<table border=\"1\" class=\"dataframe\">\n",
       "  <thead>\n",
       "    <tr style=\"text-align: right;\">\n",
       "      <th></th>\n",
       "      <th>Max. Voltage Dischar. (V)</th>\n",
       "      <th>Min. Voltage Charg. (V)</th>\n",
       "      <th>Time at 4.15V (s)</th>\n",
       "      <th>RUL</th>\n",
       "    </tr>\n",
       "  </thead>\n",
       "  <tbody>\n",
       "    <tr>\n",
       "      <th>0</th>\n",
       "      <td>3.670</td>\n",
       "      <td>3.211</td>\n",
       "      <td>5460.001</td>\n",
       "      <td>1112</td>\n",
       "    </tr>\n",
       "    <tr>\n",
       "      <th>1</th>\n",
       "      <td>4.246</td>\n",
       "      <td>3.220</td>\n",
       "      <td>5508.992</td>\n",
       "      <td>1111</td>\n",
       "    </tr>\n",
       "    <tr>\n",
       "      <th>2</th>\n",
       "      <td>4.249</td>\n",
       "      <td>3.224</td>\n",
       "      <td>5508.993</td>\n",
       "      <td>1110</td>\n",
       "    </tr>\n",
       "    <tr>\n",
       "      <th>3</th>\n",
       "      <td>4.250</td>\n",
       "      <td>3.225</td>\n",
       "      <td>5502.016</td>\n",
       "      <td>1109</td>\n",
       "    </tr>\n",
       "    <tr>\n",
       "      <th>4</th>\n",
       "      <td>4.290</td>\n",
       "      <td>3.398</td>\n",
       "      <td>5480.992</td>\n",
       "      <td>1107</td>\n",
       "    </tr>\n",
       "  </tbody>\n",
       "</table>\n",
       "</div>"
      ],
      "text/plain": [
       "   Max. Voltage Dischar. (V)  Min. Voltage Charg. (V)  Time at 4.15V (s)   RUL\n",
       "0                      3.670                    3.211           5460.001  1112\n",
       "1                      4.246                    3.220           5508.992  1111\n",
       "2                      4.249                    3.224           5508.993  1110\n",
       "3                      4.250                    3.225           5502.016  1109\n",
       "4                      4.290                    3.398           5480.992  1107"
      ]
     },
     "execution_count": 121,
     "metadata": {},
     "output_type": "execute_result"
    }
   ],
   "source": [
    "data.head()"
   ]
  },
  {
   "cell_type": "markdown",
   "metadata": {},
   "source": [
    "## Modeling and Predections"
   ]
  },
  {
   "cell_type": "code",
   "execution_count": 122,
   "metadata": {},
   "outputs": [],
   "source": [
    "class Pipeline:\n",
    "    def __init__(self, scalar):\n",
    "        self.scalar = scalar\n",
    "    \n",
    "    def fit(self, X, y):\n",
    "        X = self.scalar.fit_transform(X)\n",
    "        return X, y.to_numpy(dtype=np.float32)\n",
    "    \n",
    "    def transform(self, X, y):\n",
    "        X = self.scalar.transform(X)\n",
    "        return X, y.to_numpy(dtype=np.float32)"
   ]
  },
  {
   "cell_type": "code",
   "execution_count": 123,
   "metadata": {},
   "outputs": [],
   "source": [
    "data = data[data['RUL']!=0]\n",
    "\n",
    "X = data.drop(['RUL'], axis=1)\n",
    "y = data['RUL']"
   ]
  },
  {
   "cell_type": "code",
   "execution_count": 124,
   "metadata": {},
   "outputs": [],
   "source": [
    "X_train, X_val, y_train, y_val = train_test_split(X, y, test_size=0.3, shuffle =False)\n",
    "X_val, X_test, y_val, y_test = train_test_split(X_val, y_val, test_size=0.2, shuffle =False)\n",
    "    "
   ]
  },
  {
   "cell_type": "code",
   "execution_count": 125,
   "metadata": {},
   "outputs": [],
   "source": [
    "from sklearn.preprocessing import RobustScaler\n",
    "scaler = RobustScaler()\n",
    "pipeline = Pipeline(scaler)"
   ]
  },
  {
   "cell_type": "code",
   "execution_count": 126,
   "metadata": {},
   "outputs": [],
   "source": [
    "X_train_s, y_train_s = pipeline.fit(X_train, y_train)\n",
    "X_val_s, y_val_s = pipeline.transform(X_val, y_val)\n",
    "X_test_s, y_test_s = pipeline.transform(X_test, y_test)"
   ]
  },
  {
   "cell_type": "code",
   "execution_count": 127,
   "metadata": {},
   "outputs": [],
   "source": [
    "from torch.utils.data import Dataset, DataLoader"
   ]
  },
  {
   "cell_type": "code",
   "execution_count": 128,
   "metadata": {},
   "outputs": [],
   "source": [
    "class BatteryDataSet(Dataset):\n",
    "\n",
    "    def __init__(self, X,y):\n",
    "        # Data loading\n",
    "        # self.x = torch.from_numpy(dataset[:, :-1])\n",
    "        # self.y = torch.from_numpy(dataset[:, [-1]])\n",
    "        # self.n_samples = self.x.shape[0]\n",
    "        self.x = torch.FloatTensor(X)\n",
    "        self.y = torch.FloatTensor(y).unsqueeze(-1)\n",
    "        self.n_samples = self.x.shape[0]\n",
    "\n",
    "    def __getitem__(self, index):\n",
    "        return self.x[index], self.y[index]\n",
    "\n",
    "    def __len__(self):\n",
    "        # len(Dataset)\n",
    "        return self.n_samples"
   ]
  },
  {
   "cell_type": "code",
   "execution_count": 129,
   "metadata": {},
   "outputs": [],
   "source": [
    "train_dataset = BatteryDataSet(X_train_s, y_train_s)\n",
    "valid_dataset = BatteryDataSet(X_val_s, y_val_s)\n",
    "test_dataset = BatteryDataSet(X_test_s, y_test_s)"
   ]
  },
  {
   "cell_type": "code",
   "execution_count": 130,
   "metadata": {},
   "outputs": [],
   "source": [
    "train_indices = list(range(len(train_dataset)))\n",
    "valid_indices = list(range(len(valid_dataset)))\n",
    "test_indices = list(range(len(test_dataset)))"
   ]
  },
  {
   "cell_type": "code",
   "execution_count": 131,
   "metadata": {},
   "outputs": [],
   "source": [
    "from torch.utils.data.sampler import SubsetRandomSampler"
   ]
  },
  {
   "cell_type": "code",
   "execution_count": 132,
   "metadata": {},
   "outputs": [],
   "source": [
    "batch_size = 32"
   ]
  },
  {
   "cell_type": "code",
   "execution_count": 133,
   "metadata": {},
   "outputs": [],
   "source": [
    "train_sampler = SubsetRandomSampler(train_indices)\n",
    "train_loader = torch.utils.data.DataLoader(train_dataset, batch_size=batch_size, sampler=train_sampler)\n",
    "\n",
    "# set valid dataset ot samplers and loader\n",
    "valid_sampler = SubsetRandomSampler(valid_indices)\n",
    "valid_loader = torch.utils.data.DataLoader(valid_dataset, batch_size=batch_size, sampler=valid_sampler)\n",
    "\n",
    "\n",
    "# set test dataset ot samplers and loader\n",
    "test_sampler = SubsetRandomSampler(test_indices)\n",
    "test_loader = torch.utils.data.DataLoader(test_dataset, batch_size=batch_size, sampler=test_sampler)\n"
   ]
  },
  {
   "cell_type": "code",
   "execution_count": 134,
   "metadata": {},
   "outputs": [
    {
     "data": {
      "text/plain": [
       "((10535, 3), (10535,))"
      ]
     },
     "execution_count": 134,
     "metadata": {},
     "output_type": "execute_result"
    }
   ],
   "source": [
    "X_train_s.shape, y_train_s.shape"
   ]
  },
  {
   "cell_type": "code",
   "execution_count": 135,
   "metadata": {},
   "outputs": [],
   "source": [
    "class NeuralNet(nn.Module):\n",
    "    def __init__(self, input_size, hidden_size, num_classes):\n",
    "        super(NeuralNet, self).__init__()\n",
    "        self.l1 = nn.Linear(input_size, hidden_size)\n",
    "        self.l2 = nn.Linear(hidden_size, num_classes)\n",
    "        self.relu = nn.ReLU()\n",
    "\n",
    "    def forward(self, x):\n",
    "        out = self.l1(x)\n",
    "        out = self.relu(out)\n",
    "        out = self.l2(out)\n",
    "        return out"
   ]
  },
  {
   "cell_type": "code",
   "execution_count": 136,
   "metadata": {},
   "outputs": [],
   "source": [
    "input_size = X_train_s.shape[1] #num of columns\n",
    "hidden_size = 16\n",
    "num_classes = 1\n",
    "\n",
    "model = NeuralNet(input_size, hidden_size, num_classes)\n",
    "criterion = nn.MSELoss()\n",
    "optimizer = optim.Adam(model.parameters(), lr=0.1)\n",
    "scheduler = optim.lr_scheduler.ReduceLROnPlateau(optimizer, 'min')\n"
   ]
  },
  {
   "cell_type": "code",
   "execution_count": 137,
   "metadata": {},
   "outputs": [],
   "source": [
    "from tqdm import tqdm"
   ]
  },
  {
   "cell_type": "code",
   "execution_count": 138,
   "metadata": {},
   "outputs": [],
   "source": [
    "min_diff_dict = {}"
   ]
  },
  {
   "cell_type": "code",
   "execution_count": 139,
   "metadata": {},
   "outputs": [],
   "source": [
    "train_loss_list = []\n",
    "\n",
    "def train_loop(epoch, train_loader, model, loss_fn, optimizer):\n",
    "    model.train()\n",
    "    size = len(train_loader)\n",
    "    train_loss = 0\n",
    "    with tqdm(train_loader) as pbar :\n",
    "        for idx, (inputs, y) in enumerate(pbar):\n",
    "            # Forward path\n",
    "            outputs = model(inputs)           # ([32, 6])\n",
    "            loss = loss_fn(outputs, y)\n",
    "\n",
    "            # Backwards path\n",
    "            optimizer.zero_grad()\n",
    "            loss.backward()\n",
    "            optimizer.step()\n",
    "            \n",
    "            train_loss += loss.item()\n",
    "            pbar.set_postfix({'loss' : f\"{loss.item()/batch_size}\"})\n",
    "\n",
    "    train_loss /= size\n",
    "    print('===> Epoch [{}] : loss : {:.5}'.format(epoch,  train_loss))\n",
    "    train_loss_list.append(train_loss)"
   ]
  },
  {
   "cell_type": "code",
   "execution_count": 140,
   "metadata": {},
   "outputs": [],
   "source": [
    "test_loss_list = []\n",
    "\n",
    "def val_loop(epoch, dataloader, model, best_model, best_RUL, loss_fn):\n",
    "    size = len(dataloader)\n",
    "    test_loss = 0\n",
    "    targets_list = []\n",
    "    pred_list = []\n",
    "    model.eval()\n",
    "    with torch.no_grad():\n",
    "        for X, y in dataloader:\n",
    "            pred = model(X)\n",
    "            test_loss += loss_fn(pred, y).item()\n",
    "\n",
    "            # # Target vs prediction\n",
    "            pred_np = pred.squeeze().tolist()\n",
    "            target_np = y.squeeze().tolist()\n",
    "\n",
    "            try:\n",
    "                for i,j in zip(pred_np,target_np):\n",
    "                    pred_list.append(i)\n",
    "                    targets_list.append(j)\n",
    "            except:\n",
    "                pass\n",
    "\n",
    "    # Average loss\n",
    "    test_loss /= size\n",
    "    test_loss_list.append(test_loss)\n",
    "    scheduler.step(test_loss)\n",
    "    \n",
    "    # pred = pred.detach().cpu().numpy()\n",
    "    # y = y_val_s.detach().cpu().numpy()\n",
    "    targets_list = np.array(targets_list)\n",
    "    pred_list = np.array(pred_list)\n",
    "    RMSE = mean_squared_error(targets_list, pred_list, squared=False)\n",
    "    MAE = mean_absolute_error(targets_list, pred_list)\n",
    "    MAPE = mean_absolute_percentage_error(targets_list, pred_list)\n",
    "    R2 = r2_score(targets_list, pred_list)\n",
    "    RUL_score = RUL_metric(targets_list, pred_list, threshold=100)\n",
    "    msg = f\"Test: \\n Avg loss: {test_loss:>8f}, \\n\"\n",
    "    print(msg) \n",
    "    msg = f\"- RMSE: {(RMSE):>0.2f}, - MAE: {(MAE):>0.2f}, - MAPE: {(MAPE):>0.2f},  - R2: {(R2):>0.2f},  - RUL_metric: {(RUL_score):>0.2f}, \\n\"\n",
    "    print(msg)\n",
    "    print('---'*20)\n",
    "    \n",
    "    if RUL_score > best_RUL:\n",
    "        best_RUL = RUL_score\n",
    "        best_model = model\n",
    "\n",
    "    return best_model, best_RUL\n"
   ]
  },
  {
   "cell_type": "code",
   "execution_count": 141,
   "metadata": {},
   "outputs": [],
   "source": [
    "epochs = 100"
   ]
  },
  {
   "cell_type": "code",
   "execution_count": 142,
   "metadata": {},
   "outputs": [
    {
     "name": "stdout",
     "output_type": "stream",
     "text": [
      "Epoch 1\n",
      "-------------------------------\n"
     ]
    },
    {
     "name": "stderr",
     "output_type": "stream",
     "text": [
      "100%|██████████| 330/330 [00:00<00:00, 592.24it/s, loss=181.3141326904297] \n"
     ]
    },
    {
     "name": "stdout",
     "output_type": "stream",
     "text": [
      "===> Epoch [0] : loss : 6.0566e+04\n",
      "Test: \n",
      " Avg loss: 22261.124214, \n",
      "\n",
      "- RMSE: 149.21, - MAE: 108.39, - MAPE: 0.71,  - R2: 0.81,  - RUL_metric: 0.61, \n",
      "\n",
      "------------------------------------------------------------\n",
      "Epoch 2\n",
      "-------------------------------\n"
     ]
    },
    {
     "name": "stderr",
     "output_type": "stream",
     "text": [
      "100%|██████████| 330/330 [00:00<00:00, 620.66it/s, loss=104.14192962646484]\n"
     ]
    },
    {
     "name": "stdout",
     "output_type": "stream",
     "text": [
      "===> Epoch [1] : loss : 1.2888e+04\n",
      "Test: \n",
      " Avg loss: 21663.223693, \n",
      "\n",
      "- RMSE: 147.20, - MAE: 119.61, - MAPE: 1.00,  - R2: 0.81,  - RUL_metric: 0.59, \n",
      "\n",
      "------------------------------------------------------------\n",
      "Epoch 3\n",
      "-------------------------------\n"
     ]
    },
    {
     "name": "stderr",
     "output_type": "stream",
     "text": [
      "100%|██████████| 330/330 [00:00<00:00, 629.82it/s, loss=149.32716369628906]\n"
     ]
    },
    {
     "name": "stdout",
     "output_type": "stream",
     "text": [
      "===> Epoch [2] : loss : 1.0845e+04\n",
      "Test: \n",
      " Avg loss: 17606.353135, \n",
      "\n",
      "- RMSE: 132.59, - MAE: 108.29, - MAPE: 1.11,  - R2: 0.85,  - RUL_metric: 0.62, \n",
      "\n",
      "------------------------------------------------------------\n",
      "Epoch 4\n",
      "-------------------------------\n"
     ]
    },
    {
     "name": "stderr",
     "output_type": "stream",
     "text": [
      "100%|██████████| 330/330 [00:00<00:00, 596.64it/s, loss=40.9658317565918]  \n"
     ]
    },
    {
     "name": "stdout",
     "output_type": "stream",
     "text": [
      "===> Epoch [3] : loss : 9091.1\n",
      "Test: \n",
      " Avg loss: 18246.605914, \n",
      "\n",
      "- RMSE: 135.11, - MAE: 95.69, - MAPE: 1.00,  - R2: 0.84,  - RUL_metric: 0.65, \n",
      "\n",
      "------------------------------------------------------------\n",
      "Epoch 5\n",
      "-------------------------------\n"
     ]
    },
    {
     "name": "stderr",
     "output_type": "stream",
     "text": [
      "100%|██████████| 330/330 [00:00<00:00, 613.15it/s, loss=130.7180938720703] \n"
     ]
    },
    {
     "name": "stdout",
     "output_type": "stream",
     "text": [
      "===> Epoch [4] : loss : 9172.2\n",
      "Test: \n",
      " Avg loss: 19692.118942, \n",
      "\n",
      "- RMSE: 140.37, - MAE: 97.23, - MAPE: 1.08,  - R2: 0.83,  - RUL_metric: 0.68, \n",
      "\n",
      "------------------------------------------------------------\n",
      "Epoch 6\n",
      "-------------------------------\n"
     ]
    },
    {
     "name": "stderr",
     "output_type": "stream",
     "text": [
      "100%|██████████| 330/330 [00:00<00:00, 627.17it/s, loss=89.99491119384766] \n"
     ]
    },
    {
     "name": "stdout",
     "output_type": "stream",
     "text": [
      "===> Epoch [5] : loss : 9369.2\n",
      "Test: \n",
      " Avg loss: 18992.183883, \n",
      "\n",
      "- RMSE: 137.86, - MAE: 98.65, - MAPE: 1.15,  - R2: 0.83,  - RUL_metric: 0.67, \n",
      "\n",
      "------------------------------------------------------------\n",
      "Epoch 7\n",
      "-------------------------------\n"
     ]
    },
    {
     "name": "stderr",
     "output_type": "stream",
     "text": [
      "100%|██████████| 330/330 [00:00<00:00, 597.20it/s, loss=115.22135925292969]\n"
     ]
    },
    {
     "name": "stdout",
     "output_type": "stream",
     "text": [
      "===> Epoch [6] : loss : 9076.6\n",
      "Test: \n",
      " Avg loss: 19342.748129, \n",
      "\n",
      "- RMSE: 139.12, - MAE: 102.60, - MAPE: 1.23,  - R2: 0.83,  - RUL_metric: 0.70, \n",
      "\n",
      "------------------------------------------------------------\n",
      "Epoch 8\n",
      "-------------------------------\n"
     ]
    },
    {
     "name": "stderr",
     "output_type": "stream",
     "text": [
      "100%|██████████| 330/330 [00:00<00:00, 627.76it/s, loss=375.96954345703125]\n"
     ]
    },
    {
     "name": "stdout",
     "output_type": "stream",
     "text": [
      "===> Epoch [7] : loss : 8997.1\n",
      "Test: \n",
      " Avg loss: 19902.315702, \n",
      "\n",
      "- RMSE: 141.09, - MAE: 106.96, - MAPE: 1.05,  - R2: 0.83,  - RUL_metric: 0.61, \n",
      "\n",
      "------------------------------------------------------------\n",
      "Epoch 9\n",
      "-------------------------------\n"
     ]
    },
    {
     "name": "stderr",
     "output_type": "stream",
     "text": [
      "100%|██████████| 330/330 [00:00<00:00, 614.05it/s, loss=276.4062805175781] \n"
     ]
    },
    {
     "name": "stdout",
     "output_type": "stream",
     "text": [
      "===> Epoch [8] : loss : 9185.6\n",
      "Test: \n",
      " Avg loss: 18977.374525, \n",
      "\n",
      "- RMSE: 137.78, - MAE: 95.75, - MAPE: 0.97,  - R2: 0.83,  - RUL_metric: 0.65, \n",
      "\n",
      "------------------------------------------------------------\n",
      "Epoch 10\n",
      "-------------------------------\n"
     ]
    },
    {
     "name": "stderr",
     "output_type": "stream",
     "text": [
      "100%|██████████| 330/330 [00:00<00:00, 588.58it/s, loss=54.2021484375]     \n"
     ]
    },
    {
     "name": "stdout",
     "output_type": "stream",
     "text": [
      "===> Epoch [9] : loss : 8755.9\n",
      "Test: \n",
      " Avg loss: 19250.880298, \n",
      "\n",
      "- RMSE: 138.51, - MAE: 97.14, - MAPE: 1.03,  - R2: 0.83,  - RUL_metric: 0.65, \n",
      "\n",
      "------------------------------------------------------------\n",
      "Epoch 11\n",
      "-------------------------------\n"
     ]
    },
    {
     "name": "stderr",
     "output_type": "stream",
     "text": [
      "100%|██████████| 330/330 [00:00<00:00, 615.86it/s, loss=93.51582336425781] \n"
     ]
    },
    {
     "name": "stdout",
     "output_type": "stream",
     "text": [
      "===> Epoch [10] : loss : 9369.5\n",
      "Test: \n",
      " Avg loss: 20893.941337, \n",
      "\n",
      "- RMSE: 144.58, - MAE: 101.57, - MAPE: 1.00,  - R2: 0.82,  - RUL_metric: 0.64, \n",
      "\n",
      "------------------------------------------------------------\n",
      "Epoch 12\n",
      "-------------------------------\n"
     ]
    },
    {
     "name": "stderr",
     "output_type": "stream",
     "text": [
      "100%|██████████| 330/330 [00:00<00:00, 632.22it/s, loss=46.613487243652344]\n"
     ]
    },
    {
     "name": "stdout",
     "output_type": "stream",
     "text": [
      "===> Epoch [11] : loss : 8934.0\n",
      "Test: \n",
      " Avg loss: 18469.380496, \n",
      "\n",
      "- RMSE: 135.94, - MAE: 97.83, - MAPE: 1.10,  - R2: 0.84,  - RUL_metric: 0.65, \n",
      "\n",
      "------------------------------------------------------------\n",
      "Epoch 13\n",
      "-------------------------------\n"
     ]
    },
    {
     "name": "stderr",
     "output_type": "stream",
     "text": [
      "100%|██████████| 330/330 [00:00<00:00, 604.91it/s, loss=223.3163604736328] \n"
     ]
    },
    {
     "name": "stdout",
     "output_type": "stream",
     "text": [
      "===> Epoch [12] : loss : 8944.9\n",
      "Test: \n",
      " Avg loss: 19425.726519, \n",
      "\n",
      "- RMSE: 139.42, - MAE: 100.64, - MAPE: 1.03,  - R2: 0.83,  - RUL_metric: 0.65, \n",
      "\n",
      "------------------------------------------------------------\n",
      "Epoch 14\n",
      "-------------------------------\n"
     ]
    },
    {
     "name": "stderr",
     "output_type": "stream",
     "text": [
      "100%|██████████| 330/330 [00:00<00:00, 616.74it/s, loss=46.240234375]      \n"
     ]
    },
    {
     "name": "stdout",
     "output_type": "stream",
     "text": [
      "===> Epoch [13] : loss : 8701.2\n",
      "Test: \n",
      " Avg loss: 19289.631145, \n",
      "\n",
      "- RMSE: 138.90, - MAE: 96.52, - MAPE: 1.06,  - R2: 0.83,  - RUL_metric: 0.66, \n",
      "\n",
      "------------------------------------------------------------\n",
      "Epoch 15\n",
      "-------------------------------\n"
     ]
    },
    {
     "name": "stderr",
     "output_type": "stream",
     "text": [
      "100%|██████████| 330/330 [00:00<00:00, 624.87it/s, loss=218.2372283935547] \n"
     ]
    },
    {
     "name": "stdout",
     "output_type": "stream",
     "text": [
      "===> Epoch [14] : loss : 8320.8\n",
      "Test: \n",
      " Avg loss: 18348.128755, \n",
      "\n",
      "- RMSE: 135.48, - MAE: 96.88, - MAPE: 1.01,  - R2: 0.84,  - RUL_metric: 0.65, \n",
      "\n",
      "------------------------------------------------------------\n",
      "Epoch 16\n",
      "-------------------------------\n"
     ]
    },
    {
     "name": "stderr",
     "output_type": "stream",
     "text": [
      "100%|██████████| 330/330 [00:00<00:00, 606.45it/s, loss=131.603271484375]  \n"
     ]
    },
    {
     "name": "stdout",
     "output_type": "stream",
     "text": [
      "===> Epoch [15] : loss : 8135.2\n",
      "Test: \n",
      " Avg loss: 18055.661219, \n",
      "\n",
      "- RMSE: 134.36, - MAE: 95.38, - MAPE: 1.06,  - R2: 0.84,  - RUL_metric: 0.66, \n",
      "\n",
      "------------------------------------------------------------\n",
      "Epoch 17\n",
      "-------------------------------\n"
     ]
    },
    {
     "name": "stderr",
     "output_type": "stream",
     "text": [
      "100%|██████████| 330/330 [00:00<00:00, 621.82it/s, loss=64.16606903076172] \n"
     ]
    },
    {
     "name": "stdout",
     "output_type": "stream",
     "text": [
      "===> Epoch [16] : loss : 8110.8\n",
      "Test: \n",
      " Avg loss: 18576.531198, \n",
      "\n",
      "- RMSE: 136.34, - MAE: 96.76, - MAPE: 1.05,  - R2: 0.84,  - RUL_metric: 0.65, \n",
      "\n",
      "------------------------------------------------------------\n",
      "Epoch 18\n",
      "-------------------------------\n"
     ]
    },
    {
     "name": "stderr",
     "output_type": "stream",
     "text": [
      "100%|██████████| 330/330 [00:00<00:00, 608.71it/s, loss=245.0198211669922] \n"
     ]
    },
    {
     "name": "stdout",
     "output_type": "stream",
     "text": [
      "===> Epoch [17] : loss : 8090.5\n",
      "Test: \n",
      " Avg loss: 18811.074400, \n",
      "\n",
      "- RMSE: 137.19, - MAE: 99.65, - MAPE: 1.08,  - R2: 0.84,  - RUL_metric: 0.65, \n",
      "\n",
      "------------------------------------------------------------\n",
      "Epoch 19\n",
      "-------------------------------\n"
     ]
    },
    {
     "name": "stderr",
     "output_type": "stream",
     "text": [
      "100%|██████████| 330/330 [00:00<00:00, 595.60it/s, loss=41.38154983520508] \n"
     ]
    },
    {
     "name": "stdout",
     "output_type": "stream",
     "text": [
      "===> Epoch [18] : loss : 8074.7\n",
      "Test: \n",
      " Avg loss: 18666.582217, \n",
      "\n",
      "- RMSE: 136.64, - MAE: 98.32, - MAPE: 1.09,  - R2: 0.84,  - RUL_metric: 0.65, \n",
      "\n",
      "------------------------------------------------------------\n",
      "Epoch 20\n",
      "-------------------------------\n"
     ]
    },
    {
     "name": "stderr",
     "output_type": "stream",
     "text": [
      "100%|██████████| 330/330 [00:00<00:00, 609.91it/s, loss=214.20651245117188]\n"
     ]
    },
    {
     "name": "stdout",
     "output_type": "stream",
     "text": [
      "===> Epoch [19] : loss : 8086.0\n",
      "Test: \n",
      " Avg loss: 18959.123008, \n",
      "\n",
      "- RMSE: 137.71, - MAE: 99.46, - MAPE: 1.08,  - R2: 0.83,  - RUL_metric: 0.65, \n",
      "\n",
      "------------------------------------------------------------\n",
      "Epoch 21\n",
      "-------------------------------\n"
     ]
    },
    {
     "name": "stderr",
     "output_type": "stream",
     "text": [
      "100%|██████████| 330/330 [00:00<00:00, 639.58it/s, loss=147.69761657714844]\n"
     ]
    },
    {
     "name": "stdout",
     "output_type": "stream",
     "text": [
      "===> Epoch [20] : loss : 8065.4\n",
      "Test: \n",
      " Avg loss: 18746.652201, \n",
      "\n",
      "- RMSE: 136.97, - MAE: 98.17, - MAPE: 1.07,  - R2: 0.84,  - RUL_metric: 0.65, \n",
      "\n",
      "------------------------------------------------------------\n",
      "Epoch 22\n",
      "-------------------------------\n"
     ]
    },
    {
     "name": "stderr",
     "output_type": "stream",
     "text": [
      "100%|██████████| 330/330 [00:00<00:00, 632.56it/s, loss=88.62995147705078] \n"
     ]
    },
    {
     "name": "stdout",
     "output_type": "stream",
     "text": [
      "===> Epoch [21] : loss : 8071.4\n",
      "Test: \n",
      " Avg loss: 18713.078125, \n",
      "\n",
      "- RMSE: 136.83, - MAE: 98.30, - MAPE: 1.11,  - R2: 0.84,  - RUL_metric: 0.66, \n",
      "\n",
      "------------------------------------------------------------\n",
      "Epoch 23\n",
      "-------------------------------\n"
     ]
    },
    {
     "name": "stderr",
     "output_type": "stream",
     "text": [
      "100%|██████████| 330/330 [00:00<00:00, 631.99it/s, loss=313.5851135253906] \n"
     ]
    },
    {
     "name": "stdout",
     "output_type": "stream",
     "text": [
      "===> Epoch [22] : loss : 8080.9\n",
      "Test: \n",
      " Avg loss: 19000.467225, \n",
      "\n",
      "- RMSE: 137.86, - MAE: 99.15, - MAPE: 1.08,  - R2: 0.83,  - RUL_metric: 0.65, \n",
      "\n",
      "------------------------------------------------------------\n",
      "Epoch 24\n",
      "-------------------------------\n"
     ]
    },
    {
     "name": "stderr",
     "output_type": "stream",
     "text": [
      "100%|██████████| 330/330 [00:00<00:00, 606.80it/s, loss=132.33306884765625]\n"
     ]
    },
    {
     "name": "stdout",
     "output_type": "stream",
     "text": [
      "===> Epoch [23] : loss : 8063.9\n",
      "Test: \n",
      " Avg loss: 19135.504697, \n",
      "\n",
      "- RMSE: 138.31, - MAE: 99.99, - MAPE: 1.10,  - R2: 0.83,  - RUL_metric: 0.65, \n",
      "\n",
      "------------------------------------------------------------\n",
      "Epoch 25\n",
      "-------------------------------\n"
     ]
    },
    {
     "name": "stderr",
     "output_type": "stream",
     "text": [
      "100%|██████████| 330/330 [00:00<00:00, 646.69it/s, loss=118.24163055419922]\n"
     ]
    },
    {
     "name": "stdout",
     "output_type": "stream",
     "text": [
      "===> Epoch [24] : loss : 8039.9\n",
      "Test: \n",
      " Avg loss: 18957.686446, \n",
      "\n",
      "- RMSE: 137.71, - MAE: 98.94, - MAPE: 1.11,  - R2: 0.83,  - RUL_metric: 0.66, \n",
      "\n",
      "------------------------------------------------------------\n",
      "Epoch 26\n",
      "-------------------------------\n"
     ]
    },
    {
     "name": "stderr",
     "output_type": "stream",
     "text": [
      "100%|██████████| 330/330 [00:00<00:00, 629.71it/s, loss=85.84678649902344] \n"
     ]
    },
    {
     "name": "stdout",
     "output_type": "stream",
     "text": [
      "===> Epoch [25] : loss : 7981.7\n",
      "Test: \n",
      " Avg loss: 18739.657252, \n",
      "\n",
      "- RMSE: 136.92, - MAE: 97.58, - MAPE: 1.10,  - R2: 0.84,  - RUL_metric: 0.66, \n",
      "\n",
      "------------------------------------------------------------\n",
      "Epoch 27\n",
      "-------------------------------\n"
     ]
    },
    {
     "name": "stderr",
     "output_type": "stream",
     "text": [
      "100%|██████████| 330/330 [00:00<00:00, 605.37it/s, loss=88.46537017822266] \n"
     ]
    },
    {
     "name": "stdout",
     "output_type": "stream",
     "text": [
      "===> Epoch [26] : loss : 7981.5\n",
      "Test: \n",
      " Avg loss: 18846.178179, \n",
      "\n",
      "- RMSE: 137.30, - MAE: 97.99, - MAPE: 1.09,  - R2: 0.84,  - RUL_metric: 0.65, \n",
      "\n",
      "------------------------------------------------------------\n",
      "Epoch 28\n",
      "-------------------------------\n"
     ]
    },
    {
     "name": "stderr",
     "output_type": "stream",
     "text": [
      "100%|██████████| 330/330 [00:00<00:00, 640.54it/s, loss=644.9368286132812] \n"
     ]
    },
    {
     "name": "stdout",
     "output_type": "stream",
     "text": [
      "===> Epoch [27] : loss : 8016.6\n",
      "Test: \n",
      " Avg loss: 18966.409551, \n",
      "\n",
      "- RMSE: 137.71, - MAE: 98.52, - MAPE: 1.09,  - R2: 0.83,  - RUL_metric: 0.65, \n",
      "\n",
      "------------------------------------------------------------\n",
      "Epoch 29\n",
      "-------------------------------\n"
     ]
    },
    {
     "name": "stderr",
     "output_type": "stream",
     "text": [
      "100%|██████████| 330/330 [00:00<00:00, 640.76it/s, loss=97.08194732666016] \n"
     ]
    },
    {
     "name": "stdout",
     "output_type": "stream",
     "text": [
      "===> Epoch [28] : loss : 7973.6\n",
      "Test: \n",
      " Avg loss: 18652.360710, \n",
      "\n",
      "- RMSE: 136.61, - MAE: 96.89, - MAPE: 1.09,  - R2: 0.84,  - RUL_metric: 0.65, \n",
      "\n",
      "------------------------------------------------------------\n",
      "Epoch 30\n",
      "-------------------------------\n"
     ]
    },
    {
     "name": "stderr",
     "output_type": "stream",
     "text": [
      "100%|██████████| 330/330 [00:00<00:00, 644.27it/s, loss=139.67698669433594]\n"
     ]
    },
    {
     "name": "stdout",
     "output_type": "stream",
     "text": [
      "===> Epoch [29] : loss : 7980.3\n",
      "Test: \n",
      " Avg loss: 18737.096209, \n",
      "\n",
      "- RMSE: 136.89, - MAE: 97.36, - MAPE: 1.09,  - R2: 0.84,  - RUL_metric: 0.65, \n",
      "\n",
      "------------------------------------------------------------\n",
      "Epoch 31\n",
      "-------------------------------\n"
     ]
    },
    {
     "name": "stderr",
     "output_type": "stream",
     "text": [
      "100%|██████████| 330/330 [00:00<00:00, 618.05it/s, loss=61.83143997192383] \n"
     ]
    },
    {
     "name": "stdout",
     "output_type": "stream",
     "text": [
      "===> Epoch [30] : loss : 7972.9\n",
      "Test: \n",
      " Avg loss: 18837.901406, \n",
      "\n",
      "- RMSE: 137.28, - MAE: 97.86, - MAPE: 1.09,  - R2: 0.84,  - RUL_metric: 0.65, \n",
      "\n",
      "------------------------------------------------------------\n",
      "Epoch 32\n",
      "-------------------------------\n"
     ]
    },
    {
     "name": "stderr",
     "output_type": "stream",
     "text": [
      "100%|██████████| 330/330 [00:00<00:00, 631.32it/s, loss=96.92095184326172] \n"
     ]
    },
    {
     "name": "stdout",
     "output_type": "stream",
     "text": [
      "===> Epoch [31] : loss : 7973.8\n",
      "Test: \n",
      " Avg loss: 18674.353870, \n",
      "\n",
      "- RMSE: 136.70, - MAE: 97.07, - MAPE: 1.09,  - R2: 0.84,  - RUL_metric: 0.65, \n",
      "\n",
      "------------------------------------------------------------\n",
      "Epoch 33\n",
      "-------------------------------\n"
     ]
    },
    {
     "name": "stderr",
     "output_type": "stream",
     "text": [
      "100%|██████████| 330/330 [00:00<00:00, 635.99it/s, loss=99.7210464477539]  \n"
     ]
    },
    {
     "name": "stdout",
     "output_type": "stream",
     "text": [
      "===> Epoch [32] : loss : 7972.9\n",
      "Test: \n",
      " Avg loss: 18661.941631, \n",
      "\n",
      "- RMSE: 136.63, - MAE: 96.90, - MAPE: 1.09,  - R2: 0.84,  - RUL_metric: 0.65, \n",
      "\n",
      "------------------------------------------------------------\n",
      "Epoch 34\n",
      "-------------------------------\n"
     ]
    },
    {
     "name": "stderr",
     "output_type": "stream",
     "text": [
      "100%|██████████| 330/330 [00:00<00:00, 605.34it/s, loss=136.53555297851562]\n"
     ]
    },
    {
     "name": "stdout",
     "output_type": "stream",
     "text": [
      "===> Epoch [33] : loss : 7979.8\n",
      "Test: \n",
      " Avg loss: 18770.949603, \n",
      "\n",
      "- RMSE: 137.04, - MAE: 97.40, - MAPE: 1.08,  - R2: 0.84,  - RUL_metric: 0.65, \n",
      "\n",
      "------------------------------------------------------------\n",
      "Epoch 35\n",
      "-------------------------------\n"
     ]
    },
    {
     "name": "stderr",
     "output_type": "stream",
     "text": [
      "100%|██████████| 330/330 [00:00<00:00, 637.98it/s, loss=34.242164611816406]\n"
     ]
    },
    {
     "name": "stdout",
     "output_type": "stream",
     "text": [
      "===> Epoch [34] : loss : 7968.4\n",
      "Test: \n",
      " Avg loss: 18841.296620, \n",
      "\n",
      "- RMSE: 137.11, - MAE: 97.55, - MAPE: 1.09,  - R2: 0.84,  - RUL_metric: 0.65, \n",
      "\n",
      "------------------------------------------------------------\n",
      "Epoch 36\n",
      "-------------------------------\n"
     ]
    },
    {
     "name": "stderr",
     "output_type": "stream",
     "text": [
      "100%|██████████| 330/330 [00:00<00:00, 640.53it/s, loss=403.9779968261719] \n"
     ]
    },
    {
     "name": "stdout",
     "output_type": "stream",
     "text": [
      "===> Epoch [35] : loss : 7996.6\n",
      "Test: \n",
      " Avg loss: 18837.646463, \n",
      "\n",
      "- RMSE: 137.29, - MAE: 97.81, - MAPE: 1.09,  - R2: 0.84,  - RUL_metric: 0.65, \n",
      "\n",
      "------------------------------------------------------------\n",
      "Epoch 37\n",
      "-------------------------------\n"
     ]
    },
    {
     "name": "stderr",
     "output_type": "stream",
     "text": [
      "100%|██████████| 330/330 [00:00<00:00, 643.02it/s, loss=42.33150863647461] \n"
     ]
    },
    {
     "name": "stdout",
     "output_type": "stream",
     "text": [
      "===> Epoch [36] : loss : 7960.5\n",
      "Test: \n",
      " Avg loss: 18822.589390, \n",
      "\n",
      "- RMSE: 137.24, - MAE: 97.74, - MAPE: 1.09,  - R2: 0.84,  - RUL_metric: 0.65, \n",
      "\n",
      "------------------------------------------------------------\n",
      "Epoch 38\n",
      "-------------------------------\n"
     ]
    },
    {
     "name": "stderr",
     "output_type": "stream",
     "text": [
      "100%|██████████| 330/330 [00:00<00:00, 618.11it/s, loss=284.02081298828125]\n"
     ]
    },
    {
     "name": "stdout",
     "output_type": "stream",
     "text": [
      "===> Epoch [37] : loss : 7978.7\n",
      "Test: \n",
      " Avg loss: 18817.296516, \n",
      "\n",
      "- RMSE: 137.21, - MAE: 97.70, - MAPE: 1.09,  - R2: 0.84,  - RUL_metric: 0.65, \n",
      "\n",
      "------------------------------------------------------------\n",
      "Epoch 39\n",
      "-------------------------------\n"
     ]
    },
    {
     "name": "stderr",
     "output_type": "stream",
     "text": [
      "100%|██████████| 330/330 [00:00<00:00, 641.96it/s, loss=115.8464126586914] \n"
     ]
    },
    {
     "name": "stdout",
     "output_type": "stream",
     "text": [
      "===> Epoch [38] : loss : 7965.5\n",
      "Test: \n",
      " Avg loss: 18806.607478, \n",
      "\n",
      "- RMSE: 137.16, - MAE: 97.63, - MAPE: 1.09,  - R2: 0.84,  - RUL_metric: 0.65, \n",
      "\n",
      "------------------------------------------------------------\n",
      "Epoch 40\n",
      "-------------------------------\n"
     ]
    },
    {
     "name": "stderr",
     "output_type": "stream",
     "text": [
      "100%|██████████| 330/330 [00:00<00:00, 639.14it/s, loss=227.45663452148438]\n"
     ]
    },
    {
     "name": "stdout",
     "output_type": "stream",
     "text": [
      "===> Epoch [39] : loss : 7974.0\n",
      "Test: \n",
      " Avg loss: 18804.107189, \n",
      "\n",
      "- RMSE: 137.16, - MAE: 97.63, - MAPE: 1.09,  - R2: 0.84,  - RUL_metric: 0.65, \n",
      "\n",
      "------------------------------------------------------------\n",
      "Epoch 41\n",
      "-------------------------------\n"
     ]
    },
    {
     "name": "stderr",
     "output_type": "stream",
     "text": [
      "100%|██████████| 330/330 [00:00<00:00, 614.99it/s, loss=389.41595458984375]\n"
     ]
    },
    {
     "name": "stdout",
     "output_type": "stream",
     "text": [
      "===> Epoch [40] : loss : 7986.4\n",
      "Test: \n",
      " Avg loss: 18800.123194, \n",
      "\n",
      "- RMSE: 137.15, - MAE: 97.61, - MAPE: 1.09,  - R2: 0.84,  - RUL_metric: 0.65, \n",
      "\n",
      "------------------------------------------------------------\n",
      "Epoch 42\n",
      "-------------------------------\n"
     ]
    },
    {
     "name": "stderr",
     "output_type": "stream",
     "text": [
      "100%|██████████| 330/330 [00:00<00:00, 645.53it/s, loss=258.78973388671875]\n"
     ]
    },
    {
     "name": "stdout",
     "output_type": "stream",
     "text": [
      "===> Epoch [41] : loss : 7976.2\n",
      "Test: \n",
      " Avg loss: 18806.458945, \n",
      "\n",
      "- RMSE: 137.15, - MAE: 97.60, - MAPE: 1.09,  - R2: 0.84,  - RUL_metric: 0.65, \n",
      "\n",
      "------------------------------------------------------------\n",
      "Epoch 43\n",
      "-------------------------------\n"
     ]
    },
    {
     "name": "stderr",
     "output_type": "stream",
     "text": [
      "100%|██████████| 330/330 [00:00<00:00, 653.40it/s, loss=91.500244140625]   \n"
     ]
    },
    {
     "name": "stdout",
     "output_type": "stream",
     "text": [
      "===> Epoch [42] : loss : 7963.4\n",
      "Test: \n",
      " Avg loss: 18806.074806, \n",
      "\n",
      "- RMSE: 137.14, - MAE: 97.59, - MAPE: 1.09,  - R2: 0.84,  - RUL_metric: 0.65, \n",
      "\n",
      "------------------------------------------------------------\n",
      "Epoch 44\n",
      "-------------------------------\n"
     ]
    },
    {
     "name": "stderr",
     "output_type": "stream",
     "text": [
      "100%|██████████| 330/330 [00:00<00:00, 653.98it/s, loss=207.5028076171875] \n"
     ]
    },
    {
     "name": "stdout",
     "output_type": "stream",
     "text": [
      "===> Epoch [43] : loss : 7972.1\n",
      "Test: \n",
      " Avg loss: 18797.947542, \n",
      "\n",
      "- RMSE: 137.14, - MAE: 97.60, - MAPE: 1.09,  - R2: 0.84,  - RUL_metric: 0.65, \n",
      "\n",
      "------------------------------------------------------------\n",
      "Epoch 45\n",
      "-------------------------------\n"
     ]
    },
    {
     "name": "stderr",
     "output_type": "stream",
     "text": [
      "100%|██████████| 330/330 [00:00<00:00, 614.99it/s, loss=153.880126953125]  \n"
     ]
    },
    {
     "name": "stdout",
     "output_type": "stream",
     "text": [
      "===> Epoch [44] : loss : 7968.4\n",
      "Test: \n",
      " Avg loss: 18792.600137, \n",
      "\n",
      "- RMSE: 137.12, - MAE: 97.57, - MAPE: 1.09,  - R2: 0.84,  - RUL_metric: 0.65, \n",
      "\n",
      "------------------------------------------------------------\n",
      "Epoch 46\n",
      "-------------------------------\n"
     ]
    },
    {
     "name": "stderr",
     "output_type": "stream",
     "text": [
      "100%|██████████| 330/330 [00:00<00:00, 648.79it/s, loss=333.2401428222656] \n"
     ]
    },
    {
     "name": "stdout",
     "output_type": "stream",
     "text": [
      "===> Epoch [45] : loss : 7981.8\n",
      "Test: \n",
      " Avg loss: 18813.113424, \n",
      "\n",
      "- RMSE: 137.13, - MAE: 97.57, - MAPE: 1.09,  - R2: 0.84,  - RUL_metric: 0.65, \n",
      "\n",
      "------------------------------------------------------------\n",
      "Epoch 47\n",
      "-------------------------------\n"
     ]
    },
    {
     "name": "stderr",
     "output_type": "stream",
     "text": [
      "100%|██████████| 330/330 [00:00<00:00, 646.73it/s, loss=39.42919921875]    \n"
     ]
    },
    {
     "name": "stdout",
     "output_type": "stream",
     "text": [
      "===> Epoch [46] : loss : 7959.3\n",
      "Test: \n",
      " Avg loss: 18790.674554, \n",
      "\n",
      "- RMSE: 137.12, - MAE: 97.56, - MAPE: 1.09,  - R2: 0.84,  - RUL_metric: 0.65, \n",
      "\n",
      "------------------------------------------------------------\n",
      "Epoch 48\n",
      "-------------------------------\n"
     ]
    },
    {
     "name": "stderr",
     "output_type": "stream",
     "text": [
      "100%|██████████| 330/330 [00:00<00:00, 651.37it/s, loss=199.62802124023438]\n"
     ]
    },
    {
     "name": "stdout",
     "output_type": "stream",
     "text": [
      "===> Epoch [47] : loss : 7970.3\n",
      "Test: \n",
      " Avg loss: 18810.034124, \n",
      "\n",
      "- RMSE: 137.13, - MAE: 97.56, - MAPE: 1.09,  - R2: 0.84,  - RUL_metric: 0.65, \n",
      "\n",
      "------------------------------------------------------------\n",
      "Epoch 49\n",
      "-------------------------------\n"
     ]
    },
    {
     "name": "stderr",
     "output_type": "stream",
     "text": [
      "100%|██████████| 330/330 [00:00<00:00, 621.32it/s, loss=89.38743591308594] \n"
     ]
    },
    {
     "name": "stdout",
     "output_type": "stream",
     "text": [
      "===> Epoch [48] : loss : 7962.0\n",
      "Test: \n",
      " Avg loss: 18795.868756, \n",
      "\n",
      "- RMSE: 137.13, - MAE: 97.56, - MAPE: 1.09,  - R2: 0.84,  - RUL_metric: 0.65, \n",
      "\n",
      "------------------------------------------------------------\n",
      "Epoch 50\n",
      "-------------------------------\n"
     ]
    },
    {
     "name": "stderr",
     "output_type": "stream",
     "text": [
      "100%|██████████| 330/330 [00:00<00:00, 652.29it/s, loss=183.14529418945312]\n"
     ]
    },
    {
     "name": "stdout",
     "output_type": "stream",
     "text": [
      "===> Epoch [49] : loss : 7969.1\n",
      "Test: \n",
      " Avg loss: 18792.755086, \n",
      "\n",
      "- RMSE: 137.13, - MAE: 97.56, - MAPE: 1.09,  - R2: 0.84,  - RUL_metric: 0.65, \n",
      "\n",
      "------------------------------------------------------------\n",
      "Epoch 51\n",
      "-------------------------------\n"
     ]
    },
    {
     "name": "stderr",
     "output_type": "stream",
     "text": [
      "100%|██████████| 330/330 [00:00<00:00, 647.58it/s, loss=265.2136535644531] \n"
     ]
    },
    {
     "name": "stdout",
     "output_type": "stream",
     "text": [
      "===> Epoch [50] : loss : 7975.3\n",
      "Test: \n",
      " Avg loss: 18841.646199, \n",
      "\n",
      "- RMSE: 137.13, - MAE: 97.56, - MAPE: 1.09,  - R2: 0.84,  - RUL_metric: 0.65, \n",
      "\n",
      "------------------------------------------------------------\n",
      "Epoch 52\n",
      "-------------------------------\n"
     ]
    },
    {
     "name": "stderr",
     "output_type": "stream",
     "text": [
      "100%|██████████| 330/330 [00:00<00:00, 646.80it/s, loss=81.77991485595703] \n"
     ]
    },
    {
     "name": "stdout",
     "output_type": "stream",
     "text": [
      "===> Epoch [51] : loss : 7961.4\n",
      "Test: \n",
      " Avg loss: 18793.170898, \n",
      "\n",
      "- RMSE: 137.13, - MAE: 97.56, - MAPE: 1.09,  - R2: 0.84,  - RUL_metric: 0.65, \n",
      "\n",
      "------------------------------------------------------------\n",
      "Epoch 53\n",
      "-------------------------------\n"
     ]
    },
    {
     "name": "stderr",
     "output_type": "stream",
     "text": [
      "100%|██████████| 330/330 [00:00<00:00, 626.76it/s, loss=24.815462112426758]\n"
     ]
    },
    {
     "name": "stdout",
     "output_type": "stream",
     "text": [
      "===> Epoch [52] : loss : 7957.1\n",
      "Test: \n",
      " Avg loss: 18796.415519, \n",
      "\n",
      "- RMSE: 137.13, - MAE: 97.56, - MAPE: 1.09,  - R2: 0.84,  - RUL_metric: 0.65, \n",
      "\n",
      "------------------------------------------------------------\n",
      "Epoch 54\n",
      "-------------------------------\n"
     ]
    },
    {
     "name": "stderr",
     "output_type": "stream",
     "text": [
      "100%|██████████| 330/330 [00:00<00:00, 649.31it/s, loss=136.17047119140625]\n"
     ]
    },
    {
     "name": "stdout",
     "output_type": "stream",
     "text": [
      "===> Epoch [53] : loss : 7965.5\n",
      "Test: \n",
      " Avg loss: 18797.782520, \n",
      "\n",
      "- RMSE: 137.13, - MAE: 97.56, - MAPE: 1.09,  - R2: 0.84,  - RUL_metric: 0.65, \n",
      "\n",
      "------------------------------------------------------------\n",
      "Epoch 55\n",
      "-------------------------------\n"
     ]
    },
    {
     "name": "stderr",
     "output_type": "stream",
     "text": [
      "100%|██████████| 330/330 [00:00<00:00, 650.97it/s, loss=126.90518951416016]\n"
     ]
    },
    {
     "name": "stdout",
     "output_type": "stream",
     "text": [
      "===> Epoch [54] : loss : 7964.8\n",
      "Test: \n",
      " Avg loss: 18841.410787, \n",
      "\n",
      "- RMSE: 137.12, - MAE: 97.55, - MAPE: 1.09,  - R2: 0.84,  - RUL_metric: 0.65, \n",
      "\n",
      "------------------------------------------------------------\n",
      "Epoch 56\n",
      "-------------------------------\n"
     ]
    },
    {
     "name": "stderr",
     "output_type": "stream",
     "text": [
      "100%|██████████| 330/330 [00:00<00:00, 646.12it/s, loss=113.22490692138672]\n"
     ]
    },
    {
     "name": "stdout",
     "output_type": "stream",
     "text": [
      "===> Epoch [55] : loss : 7963.8\n",
      "Test: \n",
      " Avg loss: 18799.130410, \n",
      "\n",
      "- RMSE: 137.13, - MAE: 97.55, - MAPE: 1.09,  - R2: 0.84,  - RUL_metric: 0.65, \n",
      "\n",
      "------------------------------------------------------------\n",
      "Epoch 57\n",
      "-------------------------------\n"
     ]
    },
    {
     "name": "stderr",
     "output_type": "stream",
     "text": [
      "100%|██████████| 330/330 [00:00<00:00, 598.43it/s, loss=248.85952758789062]\n"
     ]
    },
    {
     "name": "stdout",
     "output_type": "stream",
     "text": [
      "===> Epoch [56] : loss : 7974.0\n",
      "Test: \n",
      " Avg loss: 18794.177834, \n",
      "\n",
      "- RMSE: 137.13, - MAE: 97.56, - MAPE: 1.09,  - R2: 0.84,  - RUL_metric: 0.65, \n",
      "\n",
      "------------------------------------------------------------\n",
      "Epoch 58\n",
      "-------------------------------\n"
     ]
    },
    {
     "name": "stderr",
     "output_type": "stream",
     "text": [
      "100%|██████████| 330/330 [00:00<00:00, 633.21it/s, loss=17.077407836914062]\n"
     ]
    },
    {
     "name": "stdout",
     "output_type": "stream",
     "text": [
      "===> Epoch [57] : loss : 7956.5\n",
      "Test: \n",
      " Avg loss: 18870.556131, \n",
      "\n",
      "- RMSE: 137.13, - MAE: 97.56, - MAPE: 1.09,  - R2: 0.84,  - RUL_metric: 0.65, \n",
      "\n",
      "------------------------------------------------------------\n",
      "Epoch 59\n",
      "-------------------------------\n"
     ]
    },
    {
     "name": "stderr",
     "output_type": "stream",
     "text": [
      "100%|██████████| 330/330 [00:00<00:00, 634.98it/s, loss=58.72627639770508] \n"
     ]
    },
    {
     "name": "stdout",
     "output_type": "stream",
     "text": [
      "===> Epoch [58] : loss : 7959.5\n",
      "Test: \n",
      " Avg loss: 18792.517989, \n",
      "\n",
      "- RMSE: 137.13, - MAE: 97.56, - MAPE: 1.09,  - R2: 0.84,  - RUL_metric: 0.65, \n",
      "\n",
      "------------------------------------------------------------\n",
      "Epoch 60\n",
      "-------------------------------\n"
     ]
    },
    {
     "name": "stderr",
     "output_type": "stream",
     "text": [
      "100%|██████████| 330/330 [00:00<00:00, 645.32it/s, loss=181.8128204345703] \n"
     ]
    },
    {
     "name": "stdout",
     "output_type": "stream",
     "text": [
      "===> Epoch [59] : loss : 7968.8\n",
      "Test: \n",
      " Avg loss: 18795.998323, \n",
      "\n",
      "- RMSE: 137.13, - MAE: 97.56, - MAPE: 1.09,  - R2: 0.84,  - RUL_metric: 0.65, \n",
      "\n",
      "------------------------------------------------------------\n",
      "Epoch 61\n",
      "-------------------------------\n"
     ]
    },
    {
     "name": "stderr",
     "output_type": "stream",
     "text": [
      "100%|██████████| 330/330 [00:00<00:00, 621.37it/s, loss=222.85208129882812]\n"
     ]
    },
    {
     "name": "stdout",
     "output_type": "stream",
     "text": [
      "===> Epoch [60] : loss : 7971.9\n",
      "Test: \n",
      " Avg loss: 18799.857880, \n",
      "\n",
      "- RMSE: 137.13, - MAE: 97.56, - MAPE: 1.09,  - R2: 0.84,  - RUL_metric: 0.65, \n",
      "\n",
      "------------------------------------------------------------\n",
      "Epoch 62\n",
      "-------------------------------\n"
     ]
    },
    {
     "name": "stderr",
     "output_type": "stream",
     "text": [
      "100%|██████████| 330/330 [00:00<00:00, 651.36it/s, loss=196.91786193847656]\n"
     ]
    },
    {
     "name": "stdout",
     "output_type": "stream",
     "text": [
      "===> Epoch [61] : loss : 7970.0\n",
      "Test: \n",
      " Avg loss: 18791.891839, \n",
      "\n",
      "- RMSE: 137.13, - MAE: 97.56, - MAPE: 1.09,  - R2: 0.84,  - RUL_metric: 0.65, \n",
      "\n",
      "------------------------------------------------------------\n",
      "Epoch 63\n",
      "-------------------------------\n"
     ]
    },
    {
     "name": "stderr",
     "output_type": "stream",
     "text": [
      "100%|██████████| 330/330 [00:00<00:00, 641.27it/s, loss=204.7731475830078] \n"
     ]
    },
    {
     "name": "stdout",
     "output_type": "stream",
     "text": [
      "===> Epoch [62] : loss : 7970.6\n",
      "Test: \n",
      " Avg loss: 18805.269246, \n",
      "\n",
      "- RMSE: 137.13, - MAE: 97.56, - MAPE: 1.09,  - R2: 0.84,  - RUL_metric: 0.65, \n",
      "\n",
      "------------------------------------------------------------\n",
      "Epoch 64\n",
      "-------------------------------\n"
     ]
    },
    {
     "name": "stderr",
     "output_type": "stream",
     "text": [
      "100%|██████████| 330/330 [00:00<00:00, 646.73it/s, loss=153.96096801757812]\n"
     ]
    },
    {
     "name": "stdout",
     "output_type": "stream",
     "text": [
      "===> Epoch [63] : loss : 7966.7\n",
      "Test: \n",
      " Avg loss: 18794.259813, \n",
      "\n",
      "- RMSE: 137.13, - MAE: 97.56, - MAPE: 1.09,  - R2: 0.84,  - RUL_metric: 0.65, \n",
      "\n",
      "------------------------------------------------------------\n",
      "Epoch 65\n",
      "-------------------------------\n"
     ]
    },
    {
     "name": "stderr",
     "output_type": "stream",
     "text": [
      "100%|██████████| 330/330 [00:00<00:00, 620.50it/s, loss=152.5552215576172] \n"
     ]
    },
    {
     "name": "stdout",
     "output_type": "stream",
     "text": [
      "===> Epoch [64] : loss : 7966.6\n",
      "Test: \n",
      " Avg loss: 18793.268607, \n",
      "\n",
      "- RMSE: 137.13, - MAE: 97.56, - MAPE: 1.09,  - R2: 0.84,  - RUL_metric: 0.65, \n",
      "\n",
      "------------------------------------------------------------\n",
      "Epoch 66\n",
      "-------------------------------\n"
     ]
    },
    {
     "name": "stderr",
     "output_type": "stream",
     "text": [
      "100%|██████████| 330/330 [00:00<00:00, 651.68it/s, loss=42.33629608154297] \n"
     ]
    },
    {
     "name": "stdout",
     "output_type": "stream",
     "text": [
      "===> Epoch [65] : loss : 7958.3\n",
      "Test: \n",
      " Avg loss: 18802.944937, \n",
      "\n",
      "- RMSE: 137.13, - MAE: 97.56, - MAPE: 1.09,  - R2: 0.84,  - RUL_metric: 0.65, \n",
      "\n",
      "------------------------------------------------------------\n",
      "Epoch 67\n",
      "-------------------------------\n"
     ]
    },
    {
     "name": "stderr",
     "output_type": "stream",
     "text": [
      "100%|██████████| 330/330 [00:00<00:00, 557.89it/s, loss=235.20870971679688]\n"
     ]
    },
    {
     "name": "stdout",
     "output_type": "stream",
     "text": [
      "===> Epoch [66] : loss : 7972.9\n",
      "Test: \n",
      " Avg loss: 18818.725158, \n",
      "\n",
      "- RMSE: 137.13, - MAE: 97.56, - MAPE: 1.09,  - R2: 0.84,  - RUL_metric: 0.65, \n",
      "\n",
      "------------------------------------------------------------\n",
      "Epoch 68\n",
      "-------------------------------\n"
     ]
    },
    {
     "name": "stderr",
     "output_type": "stream",
     "text": [
      "100%|██████████| 330/330 [00:00<00:00, 618.38it/s, loss=80.84566497802734] \n"
     ]
    },
    {
     "name": "stdout",
     "output_type": "stream",
     "text": [
      "===> Epoch [67] : loss : 7961.2\n",
      "Test: \n",
      " Avg loss: 18792.948778, \n",
      "\n",
      "- RMSE: 137.13, - MAE: 97.56, - MAPE: 1.09,  - R2: 0.84,  - RUL_metric: 0.65, \n",
      "\n",
      "------------------------------------------------------------\n",
      "Epoch 69\n",
      "-------------------------------\n"
     ]
    },
    {
     "name": "stderr",
     "output_type": "stream",
     "text": [
      "100%|██████████| 330/330 [00:00<00:00, 619.83it/s, loss=187.56838989257812]\n"
     ]
    },
    {
     "name": "stdout",
     "output_type": "stream",
     "text": [
      "===> Epoch [68] : loss : 7969.3\n",
      "Test: \n",
      " Avg loss: 18795.197382, \n",
      "\n",
      "- RMSE: 137.13, - MAE: 97.56, - MAPE: 1.09,  - R2: 0.84,  - RUL_metric: 0.65, \n",
      "\n",
      "------------------------------------------------------------\n",
      "Epoch 70\n",
      "-------------------------------\n"
     ]
    },
    {
     "name": "stderr",
     "output_type": "stream",
     "text": [
      "100%|██████████| 330/330 [00:00<00:00, 588.05it/s, loss=184.30160522460938]\n"
     ]
    },
    {
     "name": "stdout",
     "output_type": "stream",
     "text": [
      "===> Epoch [69] : loss : 7969.0\n",
      "Test: \n",
      " Avg loss: 18852.566847, \n",
      "\n",
      "- RMSE: 137.13, - MAE: 97.56, - MAPE: 1.09,  - R2: 0.84,  - RUL_metric: 0.65, \n",
      "\n",
      "------------------------------------------------------------\n",
      "Epoch 71\n",
      "-------------------------------\n"
     ]
    },
    {
     "name": "stderr",
     "output_type": "stream",
     "text": [
      "100%|██████████| 330/330 [00:00<00:00, 625.99it/s, loss=263.2876892089844] \n"
     ]
    },
    {
     "name": "stdout",
     "output_type": "stream",
     "text": [
      "===> Epoch [70] : loss : 7975.0\n",
      "Test: \n",
      " Avg loss: 18798.604916, \n",
      "\n",
      "- RMSE: 137.13, - MAE: 97.56, - MAPE: 1.09,  - R2: 0.84,  - RUL_metric: 0.65, \n",
      "\n",
      "------------------------------------------------------------\n",
      "Epoch 72\n",
      "-------------------------------\n"
     ]
    },
    {
     "name": "stderr",
     "output_type": "stream",
     "text": [
      "100%|██████████| 330/330 [00:00<00:00, 627.18it/s, loss=141.5642547607422] \n"
     ]
    },
    {
     "name": "stdout",
     "output_type": "stream",
     "text": [
      "===> Epoch [71] : loss : 7965.8\n",
      "Test: \n",
      " Avg loss: 18798.769687, \n",
      "\n",
      "- RMSE: 137.13, - MAE: 97.56, - MAPE: 1.09,  - R2: 0.84,  - RUL_metric: 0.65, \n",
      "\n",
      "------------------------------------------------------------\n",
      "Epoch 73\n",
      "-------------------------------\n"
     ]
    },
    {
     "name": "stderr",
     "output_type": "stream",
     "text": [
      "100%|██████████| 330/330 [00:00<00:00, 603.70it/s, loss=99.53946685791016] \n"
     ]
    },
    {
     "name": "stdout",
     "output_type": "stream",
     "text": [
      "===> Epoch [72] : loss : 7962.6\n",
      "Test: \n",
      " Avg loss: 18794.720427, \n",
      "\n",
      "- RMSE: 137.13, - MAE: 97.56, - MAPE: 1.09,  - R2: 0.84,  - RUL_metric: 0.65, \n",
      "\n",
      "------------------------------------------------------------\n",
      "Epoch 74\n",
      "-------------------------------\n"
     ]
    },
    {
     "name": "stderr",
     "output_type": "stream",
     "text": [
      "100%|██████████| 330/330 [00:00<00:00, 626.02it/s, loss=154.9338836669922] \n"
     ]
    },
    {
     "name": "stdout",
     "output_type": "stream",
     "text": [
      "===> Epoch [73] : loss : 7966.8\n",
      "Test: \n",
      " Avg loss: 18796.778994, \n",
      "\n",
      "- RMSE: 137.13, - MAE: 97.56, - MAPE: 1.09,  - R2: 0.84,  - RUL_metric: 0.65, \n",
      "\n",
      "------------------------------------------------------------\n",
      "Epoch 75\n",
      "-------------------------------\n"
     ]
    },
    {
     "name": "stderr",
     "output_type": "stream",
     "text": [
      "100%|██████████| 330/330 [00:00<00:00, 624.81it/s, loss=206.75009155273438]\n"
     ]
    },
    {
     "name": "stdout",
     "output_type": "stream",
     "text": [
      "===> Epoch [74] : loss : 7970.7\n",
      "Test: \n",
      " Avg loss: 18793.472021, \n",
      "\n",
      "- RMSE: 137.13, - MAE: 97.56, - MAPE: 1.09,  - R2: 0.84,  - RUL_metric: 0.65, \n",
      "\n",
      "------------------------------------------------------------\n",
      "Epoch 76\n",
      "-------------------------------\n"
     ]
    },
    {
     "name": "stderr",
     "output_type": "stream",
     "text": [
      "100%|██████████| 330/330 [00:00<00:00, 600.60it/s, loss=350.1864318847656] \n"
     ]
    },
    {
     "name": "stdout",
     "output_type": "stream",
     "text": [
      "===> Epoch [75] : loss : 7981.6\n",
      "Test: \n",
      " Avg loss: 18806.942158, \n",
      "\n",
      "- RMSE: 137.13, - MAE: 97.56, - MAPE: 1.09,  - R2: 0.84,  - RUL_metric: 0.65, \n",
      "\n",
      "------------------------------------------------------------\n",
      "Epoch 77\n",
      "-------------------------------\n"
     ]
    },
    {
     "name": "stderr",
     "output_type": "stream",
     "text": [
      "100%|██████████| 330/330 [00:00<00:00, 625.38it/s, loss=59.981163024902344]\n"
     ]
    },
    {
     "name": "stdout",
     "output_type": "stream",
     "text": [
      "===> Epoch [76] : loss : 7959.6\n",
      "Test: \n",
      " Avg loss: 18790.888849, \n",
      "\n",
      "- RMSE: 137.13, - MAE: 97.56, - MAPE: 1.09,  - R2: 0.84,  - RUL_metric: 0.65, \n",
      "\n",
      "------------------------------------------------------------\n",
      "Epoch 78\n",
      "-------------------------------\n"
     ]
    },
    {
     "name": "stderr",
     "output_type": "stream",
     "text": [
      "100%|██████████| 330/330 [00:00<00:00, 620.19it/s, loss=19.007719039916992]\n"
     ]
    },
    {
     "name": "stdout",
     "output_type": "stream",
     "text": [
      "===> Epoch [77] : loss : 7956.5\n",
      "Test: \n",
      " Avg loss: 18840.128453, \n",
      "\n",
      "- RMSE: 137.13, - MAE: 97.56, - MAPE: 1.09,  - R2: 0.84,  - RUL_metric: 0.65, \n",
      "\n",
      "------------------------------------------------------------\n",
      "Epoch 79\n",
      "-------------------------------\n"
     ]
    },
    {
     "name": "stderr",
     "output_type": "stream",
     "text": [
      "100%|██████████| 330/330 [00:00<00:00, 596.80it/s, loss=91.17296600341797] \n"
     ]
    },
    {
     "name": "stdout",
     "output_type": "stream",
     "text": [
      "===> Epoch [78] : loss : 7962.0\n",
      "Test: \n",
      " Avg loss: 18843.380795, \n",
      "\n",
      "- RMSE: 137.13, - MAE: 97.56, - MAPE: 1.09,  - R2: 0.84,  - RUL_metric: 0.65, \n",
      "\n",
      "------------------------------------------------------------\n",
      "Epoch 80\n",
      "-------------------------------\n"
     ]
    },
    {
     "name": "stderr",
     "output_type": "stream",
     "text": [
      "100%|██████████| 330/330 [00:00<00:00, 620.12it/s, loss=74.91102600097656] \n"
     ]
    },
    {
     "name": "stdout",
     "output_type": "stream",
     "text": [
      "===> Epoch [79] : loss : 7960.7\n",
      "Test: \n",
      " Avg loss: 18796.729527, \n",
      "\n",
      "- RMSE: 137.13, - MAE: 97.56, - MAPE: 1.09,  - R2: 0.84,  - RUL_metric: 0.65, \n",
      "\n",
      "------------------------------------------------------------\n",
      "Epoch 81\n",
      "-------------------------------\n"
     ]
    },
    {
     "name": "stderr",
     "output_type": "stream",
     "text": [
      "100%|██████████| 330/330 [00:00<00:00, 622.68it/s, loss=110.37480926513672]\n"
     ]
    },
    {
     "name": "stdout",
     "output_type": "stream",
     "text": [
      "===> Epoch [80] : loss : 7963.4\n",
      "Test: \n",
      " Avg loss: 18802.604885, \n",
      "\n",
      "- RMSE: 137.13, - MAE: 97.56, - MAPE: 1.09,  - R2: 0.84,  - RUL_metric: 0.65, \n",
      "\n",
      "------------------------------------------------------------\n",
      "Epoch 82\n",
      "-------------------------------\n"
     ]
    },
    {
     "name": "stderr",
     "output_type": "stream",
     "text": [
      "100%|██████████| 330/330 [00:00<00:00, 595.06it/s, loss=109.71620178222656]\n"
     ]
    },
    {
     "name": "stdout",
     "output_type": "stream",
     "text": [
      "===> Epoch [81] : loss : 7963.4\n",
      "Test: \n",
      " Avg loss: 18799.696782, \n",
      "\n",
      "- RMSE: 137.13, - MAE: 97.56, - MAPE: 1.09,  - R2: 0.84,  - RUL_metric: 0.65, \n",
      "\n",
      "------------------------------------------------------------\n",
      "Epoch 83\n",
      "-------------------------------\n"
     ]
    },
    {
     "name": "stderr",
     "output_type": "stream",
     "text": [
      "100%|██████████| 330/330 [00:00<00:00, 619.73it/s, loss=128.51976013183594]\n"
     ]
    },
    {
     "name": "stdout",
     "output_type": "stream",
     "text": [
      "===> Epoch [82] : loss : 7964.8\n",
      "Test: \n",
      " Avg loss: 18796.451928, \n",
      "\n",
      "- RMSE: 137.13, - MAE: 97.56, - MAPE: 1.09,  - R2: 0.84,  - RUL_metric: 0.65, \n",
      "\n",
      "------------------------------------------------------------\n",
      "Epoch 84\n",
      "-------------------------------\n"
     ]
    },
    {
     "name": "stderr",
     "output_type": "stream",
     "text": [
      "100%|██████████| 330/330 [00:00<00:00, 617.22it/s, loss=130.15481567382812]\n"
     ]
    },
    {
     "name": "stdout",
     "output_type": "stream",
     "text": [
      "===> Epoch [83] : loss : 7964.9\n",
      "Test: \n",
      " Avg loss: 18799.490010, \n",
      "\n",
      "- RMSE: 137.13, - MAE: 97.56, - MAPE: 1.09,  - R2: 0.84,  - RUL_metric: 0.65, \n",
      "\n",
      "------------------------------------------------------------\n",
      "Epoch 85\n",
      "-------------------------------\n"
     ]
    },
    {
     "name": "stderr",
     "output_type": "stream",
     "text": [
      "100%|██████████| 330/330 [00:00<00:00, 584.75it/s, loss=31.795503616333008]\n"
     ]
    },
    {
     "name": "stdout",
     "output_type": "stream",
     "text": [
      "===> Epoch [84] : loss : 7957.5\n",
      "Test: \n",
      " Avg loss: 18794.440222, \n",
      "\n",
      "- RMSE: 137.13, - MAE: 97.56, - MAPE: 1.09,  - R2: 0.84,  - RUL_metric: 0.65, \n",
      "\n",
      "------------------------------------------------------------\n",
      "Epoch 86\n",
      "-------------------------------\n"
     ]
    },
    {
     "name": "stderr",
     "output_type": "stream",
     "text": [
      "100%|██████████| 330/330 [00:00<00:00, 620.42it/s, loss=77.1563491821289]  \n"
     ]
    },
    {
     "name": "stdout",
     "output_type": "stream",
     "text": [
      "===> Epoch [85] : loss : 7960.9\n",
      "Test: \n",
      " Avg loss: 18795.457010, \n",
      "\n",
      "- RMSE: 137.13, - MAE: 97.56, - MAPE: 1.09,  - R2: 0.84,  - RUL_metric: 0.65, \n",
      "\n",
      "------------------------------------------------------------\n",
      "Epoch 87\n",
      "-------------------------------\n"
     ]
    },
    {
     "name": "stderr",
     "output_type": "stream",
     "text": [
      "100%|██████████| 330/330 [00:00<00:00, 614.37it/s, loss=174.7328338623047] \n"
     ]
    },
    {
     "name": "stdout",
     "output_type": "stream",
     "text": [
      "===> Epoch [86] : loss : 7968.3\n",
      "Test: \n",
      " Avg loss: 18799.404612, \n",
      "\n",
      "- RMSE: 137.13, - MAE: 97.56, - MAPE: 1.09,  - R2: 0.84,  - RUL_metric: 0.65, \n",
      "\n",
      "------------------------------------------------------------\n",
      "Epoch 88\n",
      "-------------------------------\n"
     ]
    },
    {
     "name": "stderr",
     "output_type": "stream",
     "text": [
      "100%|██████████| 330/330 [00:00<00:00, 595.57it/s, loss=242.07675170898438]\n"
     ]
    },
    {
     "name": "stdout",
     "output_type": "stream",
     "text": [
      "===> Epoch [87] : loss : 7973.4\n",
      "Test: \n",
      " Avg loss: 18795.395158, \n",
      "\n",
      "- RMSE: 137.13, - MAE: 97.56, - MAPE: 1.09,  - R2: 0.84,  - RUL_metric: 0.65, \n",
      "\n",
      "------------------------------------------------------------\n",
      "Epoch 89\n",
      "-------------------------------\n"
     ]
    },
    {
     "name": "stderr",
     "output_type": "stream",
     "text": [
      "100%|██████████| 330/330 [00:00<00:00, 613.71it/s, loss=225.4353790283203] \n"
     ]
    },
    {
     "name": "stdout",
     "output_type": "stream",
     "text": [
      "===> Epoch [88] : loss : 7972.1\n",
      "Test: \n",
      " Avg loss: 18792.338267, \n",
      "\n",
      "- RMSE: 137.13, - MAE: 97.56, - MAPE: 1.09,  - R2: 0.84,  - RUL_metric: 0.65, \n",
      "\n",
      "------------------------------------------------------------\n",
      "Epoch 90\n",
      "-------------------------------\n"
     ]
    },
    {
     "name": "stderr",
     "output_type": "stream",
     "text": [
      "100%|██████████| 330/330 [00:00<00:00, 618.76it/s, loss=57.458290100097656]\n"
     ]
    },
    {
     "name": "stdout",
     "output_type": "stream",
     "text": [
      "===> Epoch [89] : loss : 7959.4\n",
      "Test: \n",
      " Avg loss: 18795.533799, \n",
      "\n",
      "- RMSE: 137.13, - MAE: 97.56, - MAPE: 1.09,  - R2: 0.84,  - RUL_metric: 0.65, \n",
      "\n",
      "------------------------------------------------------------\n",
      "Epoch 91\n",
      "-------------------------------\n"
     ]
    },
    {
     "name": "stderr",
     "output_type": "stream",
     "text": [
      "100%|██████████| 330/330 [00:00<00:00, 562.78it/s, loss=191.34048461914062]\n"
     ]
    },
    {
     "name": "stdout",
     "output_type": "stream",
     "text": [
      "===> Epoch [90] : loss : 7969.5\n",
      "Test: \n",
      " Avg loss: 18795.426862, \n",
      "\n",
      "- RMSE: 137.13, - MAE: 97.56, - MAPE: 1.09,  - R2: 0.84,  - RUL_metric: 0.65, \n",
      "\n",
      "------------------------------------------------------------\n",
      "Epoch 92\n",
      "-------------------------------\n"
     ]
    },
    {
     "name": "stderr",
     "output_type": "stream",
     "text": [
      "100%|██████████| 330/330 [00:00<00:00, 625.99it/s, loss=134.3203582763672] \n"
     ]
    },
    {
     "name": "stdout",
     "output_type": "stream",
     "text": [
      "===> Epoch [91] : loss : 7965.2\n",
      "Test: \n",
      " Avg loss: 18795.465894, \n",
      "\n",
      "- RMSE: 137.13, - MAE: 97.56, - MAPE: 1.09,  - R2: 0.84,  - RUL_metric: 0.65, \n",
      "\n",
      "------------------------------------------------------------\n",
      "Epoch 93\n",
      "-------------------------------\n"
     ]
    },
    {
     "name": "stderr",
     "output_type": "stream",
     "text": [
      "100%|██████████| 330/330 [00:00<00:00, 625.04it/s, loss=127.50128173828125]\n"
     ]
    },
    {
     "name": "stdout",
     "output_type": "stream",
     "text": [
      "===> Epoch [92] : loss : 7964.7\n",
      "Test: \n",
      " Avg loss: 18854.379576, \n",
      "\n",
      "- RMSE: 137.13, - MAE: 97.56, - MAPE: 1.09,  - R2: 0.84,  - RUL_metric: 0.65, \n",
      "\n",
      "------------------------------------------------------------\n",
      "Epoch 94\n",
      "-------------------------------\n"
     ]
    },
    {
     "name": "stderr",
     "output_type": "stream",
     "text": [
      "100%|██████████| 330/330 [00:00<00:00, 599.32it/s, loss=66.86263275146484] \n"
     ]
    },
    {
     "name": "stdout",
     "output_type": "stream",
     "text": [
      "===> Epoch [93] : loss : 7960.1\n",
      "Test: \n",
      " Avg loss: 18791.446146, \n",
      "\n",
      "- RMSE: 137.13, - MAE: 97.56, - MAPE: 1.09,  - R2: 0.84,  - RUL_metric: 0.65, \n",
      "\n",
      "------------------------------------------------------------\n",
      "Epoch 95\n",
      "-------------------------------\n"
     ]
    },
    {
     "name": "stderr",
     "output_type": "stream",
     "text": [
      "100%|██████████| 330/330 [00:00<00:00, 625.34it/s, loss=290.6455383300781] \n"
     ]
    },
    {
     "name": "stdout",
     "output_type": "stream",
     "text": [
      "===> Epoch [94] : loss : 7977.1\n",
      "Test: \n",
      " Avg loss: 18793.171741, \n",
      "\n",
      "- RMSE: 137.13, - MAE: 97.56, - MAPE: 1.09,  - R2: 0.84,  - RUL_metric: 0.65, \n",
      "\n",
      "------------------------------------------------------------\n",
      "Epoch 96\n",
      "-------------------------------\n"
     ]
    },
    {
     "name": "stderr",
     "output_type": "stream",
     "text": [
      "100%|██████████| 330/330 [00:00<00:00, 625.99it/s, loss=111.04804229736328]\n"
     ]
    },
    {
     "name": "stdout",
     "output_type": "stream",
     "text": [
      "===> Epoch [95] : loss : 7963.5\n",
      "Test: \n",
      " Avg loss: 18797.183369, \n",
      "\n",
      "- RMSE: 137.13, - MAE: 97.56, - MAPE: 1.09,  - R2: 0.84,  - RUL_metric: 0.65, \n",
      "\n",
      "------------------------------------------------------------\n",
      "Epoch 97\n",
      "-------------------------------\n"
     ]
    },
    {
     "name": "stderr",
     "output_type": "stream",
     "text": [
      "100%|██████████| 330/330 [00:00<00:00, 596.38it/s, loss=128.65794372558594]\n"
     ]
    },
    {
     "name": "stdout",
     "output_type": "stream",
     "text": [
      "===> Epoch [96] : loss : 7964.8\n",
      "Test: \n",
      " Avg loss: 18794.688135, \n",
      "\n",
      "- RMSE: 137.13, - MAE: 97.56, - MAPE: 1.09,  - R2: 0.84,  - RUL_metric: 0.65, \n",
      "\n",
      "------------------------------------------------------------\n",
      "Epoch 98\n",
      "-------------------------------\n"
     ]
    },
    {
     "name": "stderr",
     "output_type": "stream",
     "text": [
      "100%|██████████| 330/330 [00:00<00:00, 626.64it/s, loss=273.0744323730469] \n"
     ]
    },
    {
     "name": "stdout",
     "output_type": "stream",
     "text": [
      "===> Epoch [97] : loss : 7975.7\n",
      "Test: \n",
      " Avg loss: 18795.190762, \n",
      "\n",
      "- RMSE: 137.13, - MAE: 97.56, - MAPE: 1.09,  - R2: 0.84,  - RUL_metric: 0.65, \n",
      "\n",
      "------------------------------------------------------------\n",
      "Epoch 99\n",
      "-------------------------------\n"
     ]
    },
    {
     "name": "stderr",
     "output_type": "stream",
     "text": [
      "100%|██████████| 330/330 [00:00<00:00, 623.02it/s, loss=104.20904541015625]\n"
     ]
    },
    {
     "name": "stdout",
     "output_type": "stream",
     "text": [
      "===> Epoch [98] : loss : 7962.9\n",
      "Test: \n",
      " Avg loss: 18796.706569, \n",
      "\n",
      "- RMSE: 137.13, - MAE: 97.56, - MAPE: 1.09,  - R2: 0.84,  - RUL_metric: 0.65, \n",
      "\n",
      "------------------------------------------------------------\n",
      "Epoch 100\n",
      "-------------------------------\n"
     ]
    },
    {
     "name": "stderr",
     "output_type": "stream",
     "text": [
      "100%|██████████| 330/330 [00:00<00:00, 599.32it/s, loss=79.7672119140625]  \n"
     ]
    },
    {
     "name": "stdout",
     "output_type": "stream",
     "text": [
      "===> Epoch [99] : loss : 7961.1\n",
      "Test: \n",
      " Avg loss: 18794.527486, \n",
      "\n",
      "- RMSE: 137.13, - MAE: 97.56, - MAPE: 1.09,  - R2: 0.84,  - RUL_metric: 0.65, \n",
      "\n",
      "------------------------------------------------------------\n",
      "Fertig!\n"
     ]
    }
   ],
   "source": [
    "best_model = 0\n",
    "best_RUL = 0\n",
    "for epoch in range(epochs):\n",
    "    print(f\"Epoch {epoch+1}\\n-------------------------------\")\n",
    "\n",
    "    train_loop(epoch, train_loader, model, criterion, optimizer)\n",
    "    best_model, best_RUL = val_loop(epoch, valid_loader, model, best_model, best_RUL, criterion)\n",
    "\n",
    "\n",
    "print(\"Fertig!\")\n"
   ]
  },
  {
   "cell_type": "code",
   "execution_count": 143,
   "metadata": {},
   "outputs": [],
   "source": [
    "# 함수로 만들어서 사용합시다.\n",
    "def dl_history_plot(train_loss_list, test_loss_list):\n",
    "    plt.figure(figsize=(10,6))\n",
    "    plt.plot(train_loss_list, label='train_err', marker = '.')\n",
    "    plt.plot(test_loss_list, label='val_err', marker = '.')\n",
    "\n",
    "    plt.ylabel('Loss')\n",
    "    plt.xlabel('Epoch')\n",
    "    plt.legend()\n",
    "    plt.grid()\n",
    "    plt.show()"
   ]
  },
  {
   "cell_type": "code",
   "execution_count": 144,
   "metadata": {},
   "outputs": [],
   "source": [
    "def visualization_result(y_val,pred, size=100):\n",
    "  sns.lineplot(y_val[:size].values, label='valid train')\n",
    "  sns.lineplot(pred.reshape(pred.shape[0],)[:size], label='pred')\n",
    "  plt.legend(loc='upper right')\n",
    "  plt.show()"
   ]
  },
  {
   "cell_type": "code",
   "execution_count": 145,
   "metadata": {},
   "outputs": [
    {
     "data": {
      "image/png": "[encoded data removed]",
      "text/plain": [
       "<Figure size 1000x600 with 1 Axes>"
      ]
     },
     "metadata": {},
     "output_type": "display_data"
    }
   ],
   "source": [
    "dl_history_plot(train_loss_list, test_loss_list)"
   ]
  },
  {
   "cell_type": "code",
   "execution_count": 146,
   "metadata": {},
   "outputs": [],
   "source": [
    "X_test_s = torch.FloatTensor(X_test_s)\n",
    "y_test_s = torch.FloatTensor(y_test_s).unsqueeze(-1)"
   ]
  },
  {
   "cell_type": "code",
   "execution_count": 147,
   "metadata": {},
   "outputs": [],
   "source": [
    "pred = best_model(X_test_s)"
   ]
  },
  {
   "cell_type": "code",
   "execution_count": 148,
   "metadata": {},
   "outputs": [],
   "source": [
    "pred = pred.detach().cpu().numpy()"
   ]
  },
  {
   "cell_type": "code",
   "execution_count": 149,
   "metadata": {},
   "outputs": [
    {
     "name": "stdout",
     "output_type": "stream",
     "text": [
      "RMSE : 156.9910125732422\n",
      "MAE  : 94.30843353271484\n",
      "MAPE : 0.4231770634651184\n",
      "R2 : 0.6827826427736399\n",
      "RUL_metric : 0.7320044296788483\n"
     ]
    }
   ],
   "source": [
    "from sklearn.metrics import * \n",
    "\n",
    "def RUL_metric(y_valid, y_pred, threshold=10):\n",
    "\n",
    "    error = y_valid.reshape(-1) - y_pred.reshape(-1)\n",
    "    per = np.where(error<=threshold, 1, 0)\n",
    "    \n",
    "    return sum(per) / len(per)\n",
    "\n",
    "print(f'RMSE : {mean_squared_error(y_test_s, pred, squared=False)}')\n",
    "print(f'MAE  : {mean_absolute_error(y_test_s, pred)}')\n",
    "print(f'MAPE : {mean_absolute_percentage_error(y_test_s, pred)}')\n",
    "print(f'R2 : {r2_score(y_test_s, pred)}')\n",
    "print(f'RUL_metric : {RUL_metric(y_test_s, pred, threshold=100)}')"
   ]
  },
  {
   "cell_type": "code",
   "execution_count": null,
   "metadata": {},
   "outputs": [],
   "source": []
  }
 ],
 "metadata": {
  "kernelspec": {
   "display_name": "base",
   "language": "python",
   "name": "python3"
  },
  "language_info": {
   "codemirror_mode": {
    "name": "ipython",
    "version": 3
   },
   "file_extension": ".py",
   "mimetype": "text/x-python",
   "name": "python",
   "nbconvert_exporter": "python",
   "pygments_lexer": "ipython3",
   "version": "3.12.2"
  }
 },
 "nbformat": 4,
 "nbformat_minor": 2
}

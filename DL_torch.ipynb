{
 "cells": [
  {
   "cell_type": "code",
   "execution_count": 62,
   "metadata": {},
   "outputs": [],
   "source": [
    "import pandas as pd\n",
    "import numpy as np\n",
    "import matplotlib.pyplot as plt\n",
    "import seaborn as sns\n",
    "\n",
    "import torch\n",
    "import torch.nn as nn \n",
    "import torch.optim as optim\n",
    "\n",
    "from sklearn.model_selection import train_test_split\n",
    "from sklearn.metrics import * \n",
    "\n",
    "import warnings\n",
    "warnings.filterwarnings(\"ignore\")"
   ]
  },
  {
   "cell_type": "code",
   "execution_count": 91,
   "metadata": {},
   "outputs": [],
   "source": [
    "def RUL_metric(y_valid, y_pred, threshold=10):\n",
    "\n",
    "    error = y_valid.reshape(-1) - y_pred.reshape(-1)\n",
    "    per = np.where(error<=threshold, 1, 0)\n",
    "    \n",
    "    return sum(per) / len(per)\n"
   ]
  },
  {
   "cell_type": "code",
   "execution_count": 64,
   "metadata": {},
   "outputs": [],
   "source": [
    "path = \"data/Battery_RUL.csv\""
   ]
  },
  {
   "cell_type": "code",
   "execution_count": 65,
   "metadata": {},
   "outputs": [],
   "source": [
    "data = pd.read_csv(path)"
   ]
  },
  {
   "cell_type": "code",
   "execution_count": 66,
   "metadata": {},
   "outputs": [
    {
     "data": {
      "text/html": [
       "<div>\n",
       "<style scoped>\n",
       "    .dataframe tbody tr th:only-of-type {\n",
       "        vertical-align: middle;\n",
       "    }\n",
       "\n",
       "    .dataframe tbody tr th {\n",
       "        vertical-align: top;\n",
       "    }\n",
       "\n",
       "    .dataframe thead th {\n",
       "        text-align: right;\n",
       "    }\n",
       "</style>\n",
       "<table border=\"1\" class=\"dataframe\">\n",
       "  <thead>\n",
       "    <tr style=\"text-align: right;\">\n",
       "      <th></th>\n",
       "      <th>Cycle_Index</th>\n",
       "      <th>Discharge Time (s)</th>\n",
       "      <th>Decrement 3.6-3.4V (s)</th>\n",
       "      <th>Max. Voltage Dischar. (V)</th>\n",
       "      <th>Min. Voltage Charg. (V)</th>\n",
       "      <th>Time at 4.15V (s)</th>\n",
       "      <th>Time constant current (s)</th>\n",
       "      <th>Charging time (s)</th>\n",
       "      <th>RUL</th>\n",
       "    </tr>\n",
       "  </thead>\n",
       "  <tbody>\n",
       "    <tr>\n",
       "      <th>0</th>\n",
       "      <td>1.0</td>\n",
       "      <td>2595.30</td>\n",
       "      <td>1151.488500</td>\n",
       "      <td>3.670</td>\n",
       "      <td>3.211</td>\n",
       "      <td>5460.001</td>\n",
       "      <td>6755.01</td>\n",
       "      <td>10777.82</td>\n",
       "      <td>1112</td>\n",
       "    </tr>\n",
       "    <tr>\n",
       "      <th>1</th>\n",
       "      <td>2.0</td>\n",
       "      <td>7408.64</td>\n",
       "      <td>1172.512500</td>\n",
       "      <td>4.246</td>\n",
       "      <td>3.220</td>\n",
       "      <td>5508.992</td>\n",
       "      <td>6762.02</td>\n",
       "      <td>10500.35</td>\n",
       "      <td>1111</td>\n",
       "    </tr>\n",
       "    <tr>\n",
       "      <th>2</th>\n",
       "      <td>3.0</td>\n",
       "      <td>7393.76</td>\n",
       "      <td>1112.992000</td>\n",
       "      <td>4.249</td>\n",
       "      <td>3.224</td>\n",
       "      <td>5508.993</td>\n",
       "      <td>6762.02</td>\n",
       "      <td>10420.38</td>\n",
       "      <td>1110</td>\n",
       "    </tr>\n",
       "    <tr>\n",
       "      <th>3</th>\n",
       "      <td>4.0</td>\n",
       "      <td>7385.50</td>\n",
       "      <td>1080.320667</td>\n",
       "      <td>4.250</td>\n",
       "      <td>3.225</td>\n",
       "      <td>5502.016</td>\n",
       "      <td>6762.02</td>\n",
       "      <td>10322.81</td>\n",
       "      <td>1109</td>\n",
       "    </tr>\n",
       "    <tr>\n",
       "      <th>4</th>\n",
       "      <td>6.0</td>\n",
       "      <td>65022.75</td>\n",
       "      <td>29813.487000</td>\n",
       "      <td>4.290</td>\n",
       "      <td>3.398</td>\n",
       "      <td>5480.992</td>\n",
       "      <td>53213.54</td>\n",
       "      <td>56699.65</td>\n",
       "      <td>1107</td>\n",
       "    </tr>\n",
       "  </tbody>\n",
       "</table>\n",
       "</div>"
      ],
      "text/plain": [
       "   Cycle_Index  Discharge Time (s)  Decrement 3.6-3.4V (s)  \\\n",
       "0          1.0             2595.30             1151.488500   \n",
       "1          2.0             7408.64             1172.512500   \n",
       "2          3.0             7393.76             1112.992000   \n",
       "3          4.0             7385.50             1080.320667   \n",
       "4          6.0            65022.75            29813.487000   \n",
       "\n",
       "   Max. Voltage Dischar. (V)  Min. Voltage Charg. (V)  Time at 4.15V (s)  \\\n",
       "0                      3.670                    3.211           5460.001   \n",
       "1                      4.246                    3.220           5508.992   \n",
       "2                      4.249                    3.224           5508.993   \n",
       "3                      4.250                    3.225           5502.016   \n",
       "4                      4.290                    3.398           5480.992   \n",
       "\n",
       "   Time constant current (s)  Charging time (s)   RUL  \n",
       "0                    6755.01           10777.82  1112  \n",
       "1                    6762.02           10500.35  1111  \n",
       "2                    6762.02           10420.38  1110  \n",
       "3                    6762.02           10322.81  1109  \n",
       "4                   53213.54           56699.65  1107  "
      ]
     },
     "execution_count": 66,
     "metadata": {},
     "output_type": "execute_result"
    }
   ],
   "source": [
    "data.head()"
   ]
  },
  {
   "cell_type": "code",
   "execution_count": 67,
   "metadata": {},
   "outputs": [
    {
     "data": {
      "text/plain": [
       "(15064, 9)"
      ]
     },
     "execution_count": 67,
     "metadata": {},
     "output_type": "execute_result"
    }
   ],
   "source": [
    "data.shape"
   ]
  },
  {
   "cell_type": "code",
   "execution_count": 68,
   "metadata": {},
   "outputs": [],
   "source": [
    "# 다음 컬럼들은 RUL에 관계가 없기 때문에 제거한다.\n",
    "data=data.drop(['Cycle_Index','Discharge Time (s)', 'Decrement 3.6-3.4V (s)', 'Time constant current (s)','Charging time (s)'],axis=1)"
   ]
  },
  {
   "cell_type": "code",
   "execution_count": 69,
   "metadata": {},
   "outputs": [
    {
     "data": {
      "text/html": [
       "<div>\n",
       "<style scoped>\n",
       "    .dataframe tbody tr th:only-of-type {\n",
       "        vertical-align: middle;\n",
       "    }\n",
       "\n",
       "    .dataframe tbody tr th {\n",
       "        vertical-align: top;\n",
       "    }\n",
       "\n",
       "    .dataframe thead th {\n",
       "        text-align: right;\n",
       "    }\n",
       "</style>\n",
       "<table border=\"1\" class=\"dataframe\">\n",
       "  <thead>\n",
       "    <tr style=\"text-align: right;\">\n",
       "      <th></th>\n",
       "      <th>Max. Voltage Dischar. (V)</th>\n",
       "      <th>Min. Voltage Charg. (V)</th>\n",
       "      <th>Time at 4.15V (s)</th>\n",
       "      <th>RUL</th>\n",
       "    </tr>\n",
       "  </thead>\n",
       "  <tbody>\n",
       "    <tr>\n",
       "      <th>0</th>\n",
       "      <td>3.670</td>\n",
       "      <td>3.211</td>\n",
       "      <td>5460.001</td>\n",
       "      <td>1112</td>\n",
       "    </tr>\n",
       "    <tr>\n",
       "      <th>1</th>\n",
       "      <td>4.246</td>\n",
       "      <td>3.220</td>\n",
       "      <td>5508.992</td>\n",
       "      <td>1111</td>\n",
       "    </tr>\n",
       "    <tr>\n",
       "      <th>2</th>\n",
       "      <td>4.249</td>\n",
       "      <td>3.224</td>\n",
       "      <td>5508.993</td>\n",
       "      <td>1110</td>\n",
       "    </tr>\n",
       "    <tr>\n",
       "      <th>3</th>\n",
       "      <td>4.250</td>\n",
       "      <td>3.225</td>\n",
       "      <td>5502.016</td>\n",
       "      <td>1109</td>\n",
       "    </tr>\n",
       "    <tr>\n",
       "      <th>4</th>\n",
       "      <td>4.290</td>\n",
       "      <td>3.398</td>\n",
       "      <td>5480.992</td>\n",
       "      <td>1107</td>\n",
       "    </tr>\n",
       "  </tbody>\n",
       "</table>\n",
       "</div>"
      ],
      "text/plain": [
       "   Max. Voltage Dischar. (V)  Min. Voltage Charg. (V)  Time at 4.15V (s)   RUL\n",
       "0                      3.670                    3.211           5460.001  1112\n",
       "1                      4.246                    3.220           5508.992  1111\n",
       "2                      4.249                    3.224           5508.993  1110\n",
       "3                      4.250                    3.225           5502.016  1109\n",
       "4                      4.290                    3.398           5480.992  1107"
      ]
     },
     "execution_count": 69,
     "metadata": {},
     "output_type": "execute_result"
    }
   ],
   "source": [
    "data.head()"
   ]
  },
  {
   "cell_type": "markdown",
   "metadata": {},
   "source": [
    "## Modeling and Predections"
   ]
  },
  {
   "cell_type": "code",
   "execution_count": 70,
   "metadata": {},
   "outputs": [],
   "source": [
    "class Pipeline:\n",
    "    def __init__(self, scalar):\n",
    "        self.scalar = scalar\n",
    "    \n",
    "    def fit(self, X, y):\n",
    "        X = self.scalar.fit_transform(X)\n",
    "        return X, y.to_numpy(dtype=np.float32)\n",
    "    \n",
    "    def transform(self, X, y):\n",
    "        X = self.scalar.transform(X)\n",
    "        return X, y.to_numpy(dtype=np.float32)"
   ]
  },
  {
   "cell_type": "code",
   "execution_count": 71,
   "metadata": {},
   "outputs": [],
   "source": [
    "data = data[data['RUL']!=0]\n",
    "\n",
    "X = data.drop(['RUL'], axis=1)\n",
    "y = data['RUL']"
   ]
  },
  {
   "cell_type": "code",
   "execution_count": 72,
   "metadata": {},
   "outputs": [],
   "source": [
    "X_train, X_val, y_train, y_val = train_test_split(X, y, test_size=0.3, shuffle =False)\n",
    "X_val, X_test, y_val, y_test = train_test_split(X_val, y_val, test_size=0.2, shuffle =False)\n",
    "    "
   ]
  },
  {
   "cell_type": "code",
   "execution_count": 73,
   "metadata": {},
   "outputs": [],
   "source": [
    "from sklearn.preprocessing import RobustScaler\n",
    "scaler = RobustScaler()\n",
    "pipeline = Pipeline(scaler)"
   ]
  },
  {
   "cell_type": "code",
   "execution_count": 74,
   "metadata": {},
   "outputs": [],
   "source": [
    "X_train_s, y_train_s = pipeline.fit(X_train, y_train)\n",
    "X_val_s, y_val_s = pipeline.transform(X_val, y_val)\n",
    "X_test_s, y_test_s = pipeline.transform(X_test, y_test)"
   ]
  },
  {
   "cell_type": "code",
   "execution_count": 75,
   "metadata": {},
   "outputs": [],
   "source": [
    "from torch.utils.data import Dataset, DataLoader"
   ]
  },
  {
   "cell_type": "code",
   "execution_count": 76,
   "metadata": {},
   "outputs": [],
   "source": [
    "class BatteryDataSet(Dataset):\n",
    "\n",
    "    def __init__(self, X,y):\n",
    "        # Data loading\n",
    "        # self.x = torch.from_numpy(dataset[:, :-1])\n",
    "        # self.y = torch.from_numpy(dataset[:, [-1]])\n",
    "        # self.n_samples = self.x.shape[0]\n",
    "        self.x = torch.FloatTensor(X)\n",
    "        self.y = torch.FloatTensor(y).unsqueeze(-1)\n",
    "        self.n_samples = self.x.shape[0]\n",
    "\n",
    "    def __getitem__(self, index):\n",
    "        return self.x[index], self.y[index]\n",
    "\n",
    "    def __len__(self):\n",
    "        # len(Dataset)\n",
    "        return self.n_samples"
   ]
  },
  {
   "cell_type": "code",
   "execution_count": 77,
   "metadata": {},
   "outputs": [],
   "source": [
    "train_dataset = BatteryDataSet(X_train_s, y_train_s)\n",
    "valid_dataset = BatteryDataSet(X_val_s, y_val_s)\n",
    "test_dataset = BatteryDataSet(X_test_s, y_test_s)"
   ]
  },
  {
   "cell_type": "code",
   "execution_count": 78,
   "metadata": {},
   "outputs": [],
   "source": [
    "train_indices = list(range(len(train_dataset)))\n",
    "valid_indices = list(range(len(valid_dataset)))\n",
    "test_indices = list(range(len(test_dataset)))"
   ]
  },
  {
   "cell_type": "code",
   "execution_count": 79,
   "metadata": {},
   "outputs": [],
   "source": [
    "from torch.utils.data.sampler import SubsetRandomSampler"
   ]
  },
  {
   "cell_type": "code",
   "execution_count": 80,
   "metadata": {},
   "outputs": [],
   "source": [
    "batch_size = 32"
   ]
  },
  {
   "cell_type": "code",
   "execution_count": 81,
   "metadata": {},
   "outputs": [],
   "source": [
    "train_sampler = SubsetRandomSampler(train_indices)\n",
    "train_loader = torch.utils.data.DataLoader(train_dataset, batch_size=batch_size, sampler=train_sampler)\n",
    "\n",
    "# set valid dataset ot samplers and loader\n",
    "valid_sampler = SubsetRandomSampler(valid_indices)\n",
    "valid_loader = torch.utils.data.DataLoader(valid_dataset, batch_size=batch_size, sampler=valid_sampler)\n",
    "\n",
    "\n",
    "# set test dataset ot samplers and loader\n",
    "test_sampler = SubsetRandomSampler(test_indices)\n",
    "test_loader = torch.utils.data.DataLoader(test_dataset, batch_size=batch_size, sampler=test_sampler)\n"
   ]
  },
  {
   "cell_type": "code",
   "execution_count": 82,
   "metadata": {},
   "outputs": [
    {
     "data": {
      "text/plain": [
       "((10535, 3), (10535,))"
      ]
     },
     "execution_count": 82,
     "metadata": {},
     "output_type": "execute_result"
    }
   ],
   "source": [
    "X_train_s.shape, y_train_s.shape"
   ]
  },
  {
   "cell_type": "code",
   "execution_count": 83,
   "metadata": {},
   "outputs": [],
   "source": [
    "class NeuralNet(nn.Module):\n",
    "    def __init__(self, input_size, hidden_size, num_classes):\n",
    "        super(NeuralNet, self).__init__()\n",
    "        self.l1 = nn.Linear(input_size, hidden_size)\n",
    "        self.l2 = nn.Linear(hidden_size, num_classes)\n",
    "        self.relu = nn.ReLU()\n",
    "\n",
    "    def forward(self, x):\n",
    "        out = self.l1(x)\n",
    "        out = self.relu(out)\n",
    "        out = self.l2(out)\n",
    "        return out"
   ]
  },
  {
   "cell_type": "code",
   "execution_count": 84,
   "metadata": {},
   "outputs": [],
   "source": [
    "input_size = X_train_s.shape[1] #num of columns\n",
    "hidden_size = 16\n",
    "num_classes = 1\n",
    "\n",
    "model = NeuralNet(input_size, hidden_size, num_classes)\n",
    "criterion = nn.MSELoss()\n",
    "optimizer = optim.Adam(model.parameters(), lr=0.1)\n",
    "scheduler = optim.lr_scheduler.ReduceLROnPlateau(optimizer, 'min')\n"
   ]
  },
  {
   "cell_type": "code",
   "execution_count": 85,
   "metadata": {},
   "outputs": [],
   "source": [
    "from tqdm import tqdm"
   ]
  },
  {
   "cell_type": "code",
   "execution_count": 86,
   "metadata": {},
   "outputs": [],
   "source": [
    "min_diff_dict = {}"
   ]
  },
  {
   "cell_type": "code",
   "execution_count": 87,
   "metadata": {},
   "outputs": [],
   "source": [
    "train_loss_list = []\n",
    "\n",
    "def train_loop(epoch, train_loader, model, loss_fn, optimizer):\n",
    "    size = len(train_loader)\n",
    "    train_loss = 0\n",
    "    with tqdm(train_loader) as pbar :\n",
    "        for idx, (inputs, y) in enumerate(pbar):\n",
    "            # Forward path\n",
    "            outputs = model(inputs)           # ([32, 6])\n",
    "            loss = loss_fn(outputs, y)\n",
    "\n",
    "            # Backwards path\n",
    "            optimizer.zero_grad()\n",
    "            loss.backward()\n",
    "            optimizer.step()\n",
    "            \n",
    "            train_loss += loss.item()\n",
    "            pbar.set_postfix({'loss' : f\"{loss.item()/batch_size}\"})\n",
    "\n",
    "    train_loss /= size\n",
    "    print('===> Epoch [{}] : loss : {:.5}'.format(epoch,  train_loss))\n",
    "    train_loss_list.append(train_loss)"
   ]
  },
  {
   "cell_type": "code",
   "execution_count": 96,
   "metadata": {},
   "outputs": [],
   "source": [
    "test_loss_list = []\n",
    "\n",
    "def val_loop(epoch, dataloader, model, loss_fn):\n",
    "    size = len(dataloader)\n",
    "    test_loss = 0\n",
    "\n",
    "    targets_list = []\n",
    "    pred_list = []\n",
    "\n",
    "    with torch.no_grad():\n",
    "        for X, y in dataloader:\n",
    "            pred = model(X)\n",
    "            test_loss += loss_fn(pred, y).item()\n",
    "\n",
    "            # # Target vs prediction\n",
    "            pred_np = pred.squeeze().tolist()\n",
    "            target_np = y.squeeze().tolist()\n",
    "\n",
    "            try:\n",
    "                for i,j in zip(pred_np,target_np):\n",
    "                    pred_list.append(i)\n",
    "                    targets_list.append(j)\n",
    "            except:\n",
    "                pass\n",
    "\n",
    "    # Average loss\n",
    "    test_loss /= size\n",
    "    test_loss_list.append(test_loss)\n",
    "    scheduler.step(test_loss)\n",
    "    \n",
    "    # pred = pred.detach().cpu().numpy()\n",
    "    # y = y_val_s.detach().cpu().numpy()\n",
    "    targets_list = np.array(targets_list)\n",
    "    pred_list = np.array(pred_list)\n",
    "    RMSE = mean_squared_error(targets_list, pred_list, squared=False)\n",
    "    MAE = mean_absolute_error(targets_list, pred_list)\n",
    "    MAPE = mean_absolute_percentage_error(targets_list, pred_list)\n",
    "    R2 = r2_score(targets_list, pred_list)\n",
    "    RUL_score = RUL_metric(targets_list, pred_list, threshold=100)\n",
    "    msg = f\"Test: \\n Avg loss: {test_loss:>8f}, \\n\"\n",
    "    print(msg) \n",
    "    msg = f\"- RMSE: {(RMSE):>0.2f}, - MAE: {(MAE):>0.2f}, - MAPE: {(MAPE):>0.2f},  - R2: {(R2):>0.2f},  - RUL_metric: {(RUL_score):>0.2f}, \\n\"\n",
    "    print(msg)\n",
    "    print('---'*20)\n",
    "    \n"
   ]
  },
  {
   "cell_type": "code",
   "execution_count": 97,
   "metadata": {},
   "outputs": [],
   "source": [
    "epochs = 100"
   ]
  },
  {
   "cell_type": "code",
   "execution_count": 98,
   "metadata": {},
   "outputs": [
    {
     "name": "stdout",
     "output_type": "stream",
     "text": [
      "Epoch 1\n",
      "-------------------------------\n"
     ]
    },
    {
     "name": "stderr",
     "output_type": "stream",
     "text": [
      "100%|██████████| 330/330 [00:00<00:00, 519.01it/s, loss=147.05752563476562]\n"
     ]
    },
    {
     "name": "stdout",
     "output_type": "stream",
     "text": [
      "===> Epoch [0] : loss : 1.0019e+04\n",
      "Test: \n",
      " Avg loss: 18345.717415, \n",
      "\n",
      "- RMSE: 135.47, - MAE: 102.58, - MAPE: 1.07,  - R2: 0.84,  - RUL_metric: 0.65, \n",
      "\n",
      "------------------------------------------------------------\n",
      "Epoch 2\n",
      "-------------------------------\n"
     ]
    },
    {
     "name": "stderr",
     "output_type": "stream",
     "text": [
      "100%|██████████| 330/330 [00:00<00:00, 573.70it/s, loss=385.4039611816406] \n"
     ]
    },
    {
     "name": "stdout",
     "output_type": "stream",
     "text": [
      "===> Epoch [1] : loss : 8931.4\n",
      "Test: \n",
      " Avg loss: 20787.106039, \n",
      "\n",
      "- RMSE: 144.19, - MAE: 116.73, - MAPE: 1.33,  - R2: 0.82,  - RUL_metric: 0.63, \n",
      "\n",
      "------------------------------------------------------------\n",
      "Epoch 3\n",
      "-------------------------------\n"
     ]
    },
    {
     "name": "stderr",
     "output_type": "stream",
     "text": [
      "100%|██████████| 330/330 [00:00<00:00, 545.98it/s, loss=1995.032470703125] \n"
     ]
    },
    {
     "name": "stdout",
     "output_type": "stream",
     "text": [
      "===> Epoch [2] : loss : 8884.4\n",
      "Test: \n",
      " Avg loss: 20510.665212, \n",
      "\n",
      "- RMSE: 143.20, - MAE: 110.01, - MAPE: 1.19,  - R2: 0.82,  - RUL_metric: 0.62, \n",
      "\n",
      "------------------------------------------------------------\n",
      "Epoch 4\n",
      "-------------------------------\n"
     ]
    },
    {
     "name": "stderr",
     "output_type": "stream",
     "text": [
      "100%|██████████| 330/330 [00:00<00:00, 535.59it/s, loss=309.0531921386719] \n"
     ]
    },
    {
     "name": "stdout",
     "output_type": "stream",
     "text": [
      "===> Epoch [3] : loss : 9092.5\n",
      "Test: \n",
      " Avg loss: 19845.060875, \n",
      "\n",
      "- RMSE: 140.89, - MAE: 105.00, - MAPE: 1.19,  - R2: 0.83,  - RUL_metric: 0.66, \n",
      "\n",
      "------------------------------------------------------------\n",
      "Epoch 5\n",
      "-------------------------------\n"
     ]
    },
    {
     "name": "stderr",
     "output_type": "stream",
     "text": [
      "100%|██████████| 330/330 [00:00<00:00, 576.36it/s, loss=128.99154663085938]\n"
     ]
    },
    {
     "name": "stdout",
     "output_type": "stream",
     "text": [
      "===> Epoch [4] : loss : 8885.9\n",
      "Test: \n",
      " Avg loss: 20883.368155, \n",
      "\n",
      "- RMSE: 144.49, - MAE: 105.07, - MAPE: 1.13,  - R2: 0.82,  - RUL_metric: 0.65, \n",
      "\n",
      "------------------------------------------------------------\n",
      "Epoch 6\n",
      "-------------------------------\n"
     ]
    },
    {
     "name": "stderr",
     "output_type": "stream",
     "text": [
      "100%|██████████| 330/330 [00:00<00:00, 554.58it/s, loss=29.98634910583496] \n"
     ]
    },
    {
     "name": "stdout",
     "output_type": "stream",
     "text": [
      "===> Epoch [5] : loss : 8960.5\n",
      "Test: \n",
      " Avg loss: 23249.689782, \n",
      "\n",
      "- RMSE: 152.51, - MAE: 111.40, - MAPE: 1.41,  - R2: 0.80,  - RUL_metric: 0.71, \n",
      "\n",
      "------------------------------------------------------------\n",
      "Epoch 7\n",
      "-------------------------------\n"
     ]
    },
    {
     "name": "stderr",
     "output_type": "stream",
     "text": [
      "100%|██████████| 330/330 [00:00<00:00, 570.39it/s, loss=1081.6590576171875]\n"
     ]
    },
    {
     "name": "stdout",
     "output_type": "stream",
     "text": [
      "===> Epoch [6] : loss : 8561.8\n",
      "Test: \n",
      " Avg loss: 19893.752964, \n",
      "\n",
      "- RMSE: 141.08, - MAE: 96.65, - MAPE: 1.14,  - R2: 0.83,  - RUL_metric: 0.66, \n",
      "\n",
      "------------------------------------------------------------\n",
      "Epoch 8\n",
      "-------------------------------\n"
     ]
    },
    {
     "name": "stderr",
     "output_type": "stream",
     "text": [
      "100%|██████████| 330/330 [00:00<00:00, 577.48it/s, loss=134.46641540527344]\n"
     ]
    },
    {
     "name": "stdout",
     "output_type": "stream",
     "text": [
      "===> Epoch [7] : loss : 8219.6\n",
      "Test: \n",
      " Avg loss: 19821.613229, \n",
      "\n",
      "- RMSE: 140.81, - MAE: 100.60, - MAPE: 1.16,  - R2: 0.83,  - RUL_metric: 0.66, \n",
      "\n",
      "------------------------------------------------------------\n",
      "Epoch 9\n",
      "-------------------------------\n"
     ]
    },
    {
     "name": "stderr",
     "output_type": "stream",
     "text": [
      "100%|██████████| 330/330 [00:00<00:00, 522.64it/s, loss=179.31748962402344]\n"
     ]
    },
    {
     "name": "stdout",
     "output_type": "stream",
     "text": [
      "===> Epoch [8] : loss : 8151.8\n",
      "Test: \n",
      " Avg loss: 19359.767924, \n",
      "\n",
      "- RMSE: 139.14, - MAE: 99.11, - MAPE: 1.13,  - R2: 0.83,  - RUL_metric: 0.66, \n",
      "\n",
      "------------------------------------------------------------\n",
      "Epoch 10\n",
      "-------------------------------\n"
     ]
    },
    {
     "name": "stderr",
     "output_type": "stream",
     "text": [
      "100%|██████████| 330/330 [00:00<00:00, 574.81it/s, loss=90.23491668701172] \n"
     ]
    },
    {
     "name": "stdout",
     "output_type": "stream",
     "text": [
      "===> Epoch [9] : loss : 8128.5\n",
      "Test: \n",
      " Avg loss: 19422.074456, \n",
      "\n",
      "- RMSE: 139.37, - MAE: 99.83, - MAPE: 1.10,  - R2: 0.83,  - RUL_metric: 0.65, \n",
      "\n",
      "------------------------------------------------------------\n",
      "Epoch 11\n",
      "-------------------------------\n"
     ]
    },
    {
     "name": "stderr",
     "output_type": "stream",
     "text": [
      "100%|██████████| 330/330 [00:00<00:00, 576.35it/s, loss=237.3551483154297] \n"
     ]
    },
    {
     "name": "stdout",
     "output_type": "stream",
     "text": [
      "===> Epoch [10] : loss : 8125.2\n",
      "Test: \n",
      " Avg loss: 19155.117028, \n",
      "\n",
      "- RMSE: 138.42, - MAE: 99.48, - MAPE: 1.15,  - R2: 0.83,  - RUL_metric: 0.67, \n",
      "\n",
      "------------------------------------------------------------\n",
      "Epoch 12\n",
      "-------------------------------\n"
     ]
    },
    {
     "name": "stderr",
     "output_type": "stream",
     "text": [
      "100%|██████████| 330/330 [00:00<00:00, 582.33it/s, loss=31.027515411376953]\n"
     ]
    },
    {
     "name": "stdout",
     "output_type": "stream",
     "text": [
      "===> Epoch [11] : loss : 8095.3\n",
      "Test: \n",
      " Avg loss: 18508.397331, \n",
      "\n",
      "- RMSE: 135.88, - MAE: 95.77, - MAPE: 1.10,  - R2: 0.84,  - RUL_metric: 0.66, \n",
      "\n",
      "------------------------------------------------------------\n",
      "Epoch 13\n",
      "-------------------------------\n"
     ]
    },
    {
     "name": "stderr",
     "output_type": "stream",
     "text": [
      "100%|██████████| 330/330 [00:00<00:00, 553.21it/s, loss=187.9547576904297] \n"
     ]
    },
    {
     "name": "stdout",
     "output_type": "stream",
     "text": [
      "===> Epoch [12] : loss : 8032.1\n",
      "Test: \n",
      " Avg loss: 18895.843413, \n",
      "\n",
      "- RMSE: 137.49, - MAE: 98.41, - MAPE: 1.11,  - R2: 0.84,  - RUL_metric: 0.66, \n",
      "\n",
      "------------------------------------------------------------\n",
      "Epoch 14\n",
      "-------------------------------\n"
     ]
    },
    {
     "name": "stderr",
     "output_type": "stream",
     "text": [
      "100%|██████████| 330/330 [00:00<00:00, 561.50it/s, loss=181.35057067871094]\n"
     ]
    },
    {
     "name": "stdout",
     "output_type": "stream",
     "text": [
      "===> Epoch [13] : loss : 8015.2\n",
      "Test: \n",
      " Avg loss: 18976.600150, \n",
      "\n",
      "- RMSE: 137.59, - MAE: 98.66, - MAPE: 1.12,  - R2: 0.83,  - RUL_metric: 0.66, \n",
      "\n",
      "------------------------------------------------------------\n",
      "Epoch 15\n",
      "-------------------------------\n"
     ]
    },
    {
     "name": "stderr",
     "output_type": "stream",
     "text": [
      "100%|██████████| 330/330 [00:00<00:00, 500.35it/s, loss=77.1610107421875]  \n"
     ]
    },
    {
     "name": "stdout",
     "output_type": "stream",
     "text": [
      "===> Epoch [14] : loss : 8005.8\n",
      "Test: \n",
      " Avg loss: 18886.758923, \n",
      "\n",
      "- RMSE: 137.46, - MAE: 98.45, - MAPE: 1.11,  - R2: 0.84,  - RUL_metric: 0.66, \n",
      "\n",
      "------------------------------------------------------------\n",
      "Epoch 16\n",
      "-------------------------------\n"
     ]
    },
    {
     "name": "stderr",
     "output_type": "stream",
     "text": [
      "100%|██████████| 330/330 [00:00<00:00, 579.64it/s, loss=113.56096649169922]\n"
     ]
    },
    {
     "name": "stdout",
     "output_type": "stream",
     "text": [
      "===> Epoch [15] : loss : 8005.3\n",
      "Test: \n",
      " Avg loss: 19071.947940, \n",
      "\n",
      "- RMSE: 138.02, - MAE: 99.25, - MAPE: 1.11,  - R2: 0.83,  - RUL_metric: 0.66, \n",
      "\n",
      "------------------------------------------------------------\n",
      "Epoch 17\n",
      "-------------------------------\n"
     ]
    },
    {
     "name": "stderr",
     "output_type": "stream",
     "text": [
      "100%|██████████| 330/330 [00:00<00:00, 565.04it/s, loss=74.611328125]      \n"
     ]
    },
    {
     "name": "stdout",
     "output_type": "stream",
     "text": [
      "===> Epoch [16] : loss : 8001.3\n",
      "Test: \n",
      " Avg loss: 18908.493289, \n",
      "\n",
      "- RMSE: 137.54, - MAE: 98.48, - MAPE: 1.11,  - R2: 0.83,  - RUL_metric: 0.66, \n",
      "\n",
      "------------------------------------------------------------\n",
      "Epoch 18\n",
      "-------------------------------\n"
     ]
    },
    {
     "name": "stderr",
     "output_type": "stream",
     "text": [
      "100%|██████████| 330/330 [00:00<00:00, 541.21it/s, loss=64.36985778808594] \n"
     ]
    },
    {
     "name": "stdout",
     "output_type": "stream",
     "text": [
      "===> Epoch [17] : loss : 7992.0\n",
      "Test: \n",
      " Avg loss: 18918.832105, \n",
      "\n",
      "- RMSE: 137.55, - MAE: 98.52, - MAPE: 1.11,  - R2: 0.83,  - RUL_metric: 0.66, \n",
      "\n",
      "------------------------------------------------------------\n",
      "Epoch 19\n",
      "-------------------------------\n"
     ]
    },
    {
     "name": "stderr",
     "output_type": "stream",
     "text": [
      "100%|██████████| 330/330 [00:00<00:00, 583.30it/s, loss=346.3094177246094] \n"
     ]
    },
    {
     "name": "stdout",
     "output_type": "stream",
     "text": [
      "===> Epoch [18] : loss : 8012.6\n",
      "Test: \n",
      " Avg loss: 18911.584092, \n",
      "\n",
      "- RMSE: 137.55, - MAE: 98.54, - MAPE: 1.11,  - R2: 0.83,  - RUL_metric: 0.66, \n",
      "\n",
      "------------------------------------------------------------\n",
      "Epoch 20\n",
      "-------------------------------\n"
     ]
    },
    {
     "name": "stderr",
     "output_type": "stream",
     "text": [
      "100%|██████████| 330/330 [00:00<00:00, 577.03it/s, loss=42.641780853271484]\n"
     ]
    },
    {
     "name": "stdout",
     "output_type": "stream",
     "text": [
      "===> Epoch [19] : loss : 7988.3\n",
      "Test: \n",
      " Avg loss: 18907.342047, \n",
      "\n",
      "- RMSE: 137.54, - MAE: 98.53, - MAPE: 1.11,  - R2: 0.83,  - RUL_metric: 0.66, \n",
      "\n",
      "------------------------------------------------------------\n",
      "Epoch 21\n",
      "-------------------------------\n"
     ]
    },
    {
     "name": "stderr",
     "output_type": "stream",
     "text": [
      "100%|██████████| 330/330 [00:00<00:00, 585.33it/s, loss=158.89126586914062]\n"
     ]
    },
    {
     "name": "stdout",
     "output_type": "stream",
     "text": [
      "===> Epoch [20] : loss : 7996.9\n",
      "Test: \n",
      " Avg loss: 18968.194383, \n",
      "\n",
      "- RMSE: 137.54, - MAE: 98.53, - MAPE: 1.11,  - R2: 0.83,  - RUL_metric: 0.66, \n",
      "\n",
      "------------------------------------------------------------\n",
      "Epoch 22\n",
      "-------------------------------\n"
     ]
    },
    {
     "name": "stderr",
     "output_type": "stream",
     "text": [
      "100%|██████████| 330/330 [00:00<00:00, 559.77it/s, loss=253.0676727294922] \n"
     ]
    },
    {
     "name": "stdout",
     "output_type": "stream",
     "text": [
      "===> Epoch [21] : loss : 8003.4\n",
      "Test: \n",
      " Avg loss: 18914.083505, \n",
      "\n",
      "- RMSE: 137.55, - MAE: 98.56, - MAPE: 1.11,  - R2: 0.83,  - RUL_metric: 0.66, \n",
      "\n",
      "------------------------------------------------------------\n",
      "Epoch 23\n",
      "-------------------------------\n"
     ]
    },
    {
     "name": "stderr",
     "output_type": "stream",
     "text": [
      "100%|██████████| 330/330 [00:00<00:00, 562.82it/s, loss=35.34864044189453] \n"
     ]
    },
    {
     "name": "stdout",
     "output_type": "stream",
     "text": [
      "===> Epoch [22] : loss : 7986.7\n",
      "Test: \n",
      " Avg loss: 18908.360632, \n",
      "\n",
      "- RMSE: 137.55, - MAE: 98.56, - MAPE: 1.11,  - R2: 0.83,  - RUL_metric: 0.66, \n",
      "\n",
      "------------------------------------------------------------\n",
      "Epoch 24\n",
      "-------------------------------\n"
     ]
    },
    {
     "name": "stderr",
     "output_type": "stream",
     "text": [
      "100%|██████████| 330/330 [00:00<00:00, 578.18it/s, loss=301.0169372558594] \n"
     ]
    },
    {
     "name": "stdout",
     "output_type": "stream",
     "text": [
      "===> Epoch [23] : loss : 8005.4\n",
      "Test: \n",
      " Avg loss: 18912.576885, \n",
      "\n",
      "- RMSE: 137.54, - MAE: 98.55, - MAPE: 1.11,  - R2: 0.83,  - RUL_metric: 0.66, \n",
      "\n",
      "------------------------------------------------------------\n",
      "Epoch 25\n",
      "-------------------------------\n"
     ]
    },
    {
     "name": "stderr",
     "output_type": "stream",
     "text": [
      "100%|██████████| 330/330 [00:00<00:00, 575.43it/s, loss=60.3326416015625]  \n"
     ]
    },
    {
     "name": "stdout",
     "output_type": "stream",
     "text": [
      "===> Epoch [24] : loss : 7987.2\n",
      "Test: \n",
      " Avg loss: 18913.038799, \n",
      "\n",
      "- RMSE: 137.54, - MAE: 98.55, - MAPE: 1.11,  - R2: 0.83,  - RUL_metric: 0.66, \n",
      "\n",
      "------------------------------------------------------------\n",
      "Epoch 26\n",
      "-------------------------------\n"
     ]
    },
    {
     "name": "stderr",
     "output_type": "stream",
     "text": [
      "100%|██████████| 330/330 [00:00<00:00, 481.89it/s, loss=561.8521728515625] \n"
     ]
    },
    {
     "name": "stdout",
     "output_type": "stream",
     "text": [
      "===> Epoch [25] : loss : 8025.2\n",
      "Test: \n",
      " Avg loss: 18911.458773, \n",
      "\n",
      "- RMSE: 137.54, - MAE: 98.55, - MAPE: 1.11,  - R2: 0.83,  - RUL_metric: 0.66, \n",
      "\n",
      "------------------------------------------------------------\n",
      "Epoch 27\n",
      "-------------------------------\n"
     ]
    },
    {
     "name": "stderr",
     "output_type": "stream",
     "text": [
      "100%|██████████| 330/330 [00:00<00:00, 575.51it/s, loss=212.14393615722656]\n"
     ]
    },
    {
     "name": "stdout",
     "output_type": "stream",
     "text": [
      "===> Epoch [26] : loss : 7998.7\n",
      "Test: \n",
      " Avg loss: 18919.742166, \n",
      "\n",
      "- RMSE: 137.54, - MAE: 98.55, - MAPE: 1.11,  - R2: 0.83,  - RUL_metric: 0.66, \n",
      "\n",
      "------------------------------------------------------------\n",
      "Epoch 28\n",
      "-------------------------------\n"
     ]
    },
    {
     "name": "stderr",
     "output_type": "stream",
     "text": [
      "100%|██████████| 330/330 [00:00<00:00, 539.67it/s, loss=1595.2742919921875]\n"
     ]
    },
    {
     "name": "stdout",
     "output_type": "stream",
     "text": [
      "===> Epoch [27] : loss : 8103.4\n",
      "Test: \n",
      " Avg loss: 18965.464567, \n",
      "\n",
      "- RMSE: 137.54, - MAE: 98.55, - MAPE: 1.11,  - R2: 0.83,  - RUL_metric: 0.66, \n",
      "\n",
      "------------------------------------------------------------\n",
      "Epoch 29\n",
      "-------------------------------\n"
     ]
    },
    {
     "name": "stderr",
     "output_type": "stream",
     "text": [
      "100%|██████████| 330/330 [00:00<00:00, 577.27it/s, loss=199.8851318359375] \n"
     ]
    },
    {
     "name": "stdout",
     "output_type": "stream",
     "text": [
      "===> Epoch [28] : loss : 7997.6\n",
      "Test: \n",
      " Avg loss: 18908.250951, \n",
      "\n",
      "- RMSE: 137.54, - MAE: 98.55, - MAPE: 1.11,  - R2: 0.83,  - RUL_metric: 0.66, \n",
      "\n",
      "------------------------------------------------------------\n",
      "Epoch 30\n",
      "-------------------------------\n"
     ]
    },
    {
     "name": "stderr",
     "output_type": "stream",
     "text": [
      "100%|██████████| 330/330 [00:00<00:00, 545.03it/s, loss=1557.6844482421875]\n"
     ]
    },
    {
     "name": "stdout",
     "output_type": "stream",
     "text": [
      "===> Epoch [29] : loss : 8100.4\n",
      "Test: \n",
      " Avg loss: 18910.454616, \n",
      "\n",
      "- RMSE: 137.54, - MAE: 98.55, - MAPE: 1.11,  - R2: 0.83,  - RUL_metric: 0.66, \n",
      "\n",
      "------------------------------------------------------------\n",
      "Epoch 31\n",
      "-------------------------------\n"
     ]
    },
    {
     "name": "stderr",
     "output_type": "stream",
     "text": [
      "100%|██████████| 330/330 [00:00<00:00, 570.44it/s, loss=106.76006317138672]\n"
     ]
    },
    {
     "name": "stdout",
     "output_type": "stream",
     "text": [
      "===> Epoch [30] : loss : 7990.5\n",
      "Test: \n",
      " Avg loss: 18903.027702, \n",
      "\n",
      "- RMSE: 137.54, - MAE: 98.56, - MAPE: 1.11,  - R2: 0.83,  - RUL_metric: 0.66, \n",
      "\n",
      "------------------------------------------------------------\n",
      "Epoch 32\n",
      "-------------------------------\n"
     ]
    },
    {
     "name": "stderr",
     "output_type": "stream",
     "text": [
      "100%|██████████| 330/330 [00:00<00:00, 548.40it/s, loss=119.19617462158203]\n"
     ]
    },
    {
     "name": "stdout",
     "output_type": "stream",
     "text": [
      "===> Epoch [31] : loss : 7991.5\n",
      "Test: \n",
      " Avg loss: 18967.494586, \n",
      "\n",
      "- RMSE: 137.54, - MAE: 98.56, - MAPE: 1.11,  - R2: 0.83,  - RUL_metric: 0.66, \n",
      "\n",
      "------------------------------------------------------------\n",
      "Epoch 33\n",
      "-------------------------------\n"
     ]
    },
    {
     "name": "stderr",
     "output_type": "stream",
     "text": [
      "100%|██████████| 330/330 [00:00<00:00, 557.10it/s, loss=69.53356170654297] \n"
     ]
    },
    {
     "name": "stdout",
     "output_type": "stream",
     "text": [
      "===> Epoch [32] : loss : 7987.7\n",
      "Test: \n",
      " Avg loss: 18915.350741, \n",
      "\n",
      "- RMSE: 137.54, - MAE: 98.56, - MAPE: 1.11,  - R2: 0.83,  - RUL_metric: 0.66, \n",
      "\n",
      "------------------------------------------------------------\n",
      "Epoch 34\n",
      "-------------------------------\n"
     ]
    },
    {
     "name": "stderr",
     "output_type": "stream",
     "text": [
      "100%|██████████| 330/330 [00:00<00:00, 548.78it/s, loss=169.82237243652344]\n"
     ]
    },
    {
     "name": "stdout",
     "output_type": "stream",
     "text": [
      "===> Epoch [33] : loss : 7995.3\n",
      "Test: \n",
      " Avg loss: 18912.113147, \n",
      "\n",
      "- RMSE: 137.54, - MAE: 98.56, - MAPE: 1.11,  - R2: 0.83,  - RUL_metric: 0.66, \n",
      "\n",
      "------------------------------------------------------------\n",
      "Epoch 35\n",
      "-------------------------------\n"
     ]
    },
    {
     "name": "stderr",
     "output_type": "stream",
     "text": [
      "100%|██████████| 330/330 [00:00<00:00, 570.45it/s, loss=376.66522216796875]\n"
     ]
    },
    {
     "name": "stdout",
     "output_type": "stream",
     "text": [
      "===> Epoch [34] : loss : 8010.9\n",
      "Test: \n",
      " Avg loss: 18909.460678, \n",
      "\n",
      "- RMSE: 137.54, - MAE: 98.56, - MAPE: 1.11,  - R2: 0.83,  - RUL_metric: 0.66, \n",
      "\n",
      "------------------------------------------------------------\n",
      "Epoch 36\n",
      "-------------------------------\n"
     ]
    },
    {
     "name": "stderr",
     "output_type": "stream",
     "text": [
      "100%|██████████| 330/330 [00:00<00:00, 572.67it/s, loss=115.6163330078125] \n"
     ]
    },
    {
     "name": "stdout",
     "output_type": "stream",
     "text": [
      "===> Epoch [35] : loss : 7991.2\n",
      "Test: \n",
      " Avg loss: 18908.523727, \n",
      "\n",
      "- RMSE: 137.54, - MAE: 98.56, - MAPE: 1.11,  - R2: 0.83,  - RUL_metric: 0.66, \n",
      "\n",
      "------------------------------------------------------------\n",
      "Epoch 37\n",
      "-------------------------------\n"
     ]
    },
    {
     "name": "stderr",
     "output_type": "stream",
     "text": [
      "100%|██████████| 330/330 [00:00<00:00, 541.46it/s, loss=229.31912231445312]\n"
     ]
    },
    {
     "name": "stdout",
     "output_type": "stream",
     "text": [
      "===> Epoch [36] : loss : 7999.8\n",
      "Test: \n",
      " Avg loss: 18909.074530, \n",
      "\n",
      "- RMSE: 137.54, - MAE: 98.56, - MAPE: 1.11,  - R2: 0.83,  - RUL_metric: 0.66, \n",
      "\n",
      "------------------------------------------------------------\n",
      "Epoch 38\n",
      "-------------------------------\n"
     ]
    },
    {
     "name": "stderr",
     "output_type": "stream",
     "text": [
      "100%|██████████| 330/330 [00:00<00:00, 487.66it/s, loss=275.32379150390625]\n"
     ]
    },
    {
     "name": "stdout",
     "output_type": "stream",
     "text": [
      "===> Epoch [37] : loss : 8003.3\n",
      "Test: \n",
      " Avg loss: 18912.512026, \n",
      "\n",
      "- RMSE: 137.54, - MAE: 98.56, - MAPE: 1.11,  - R2: 0.83,  - RUL_metric: 0.66, \n",
      "\n",
      "------------------------------------------------------------\n",
      "Epoch 39\n",
      "-------------------------------\n"
     ]
    },
    {
     "name": "stderr",
     "output_type": "stream",
     "text": [
      "100%|██████████| 330/330 [00:00<00:00, 576.07it/s, loss=51.3983268737793]  \n"
     ]
    },
    {
     "name": "stdout",
     "output_type": "stream",
     "text": [
      "===> Epoch [38] : loss : 7986.3\n",
      "Test: \n",
      " Avg loss: 18916.976701, \n",
      "\n",
      "- RMSE: 137.54, - MAE: 98.56, - MAPE: 1.11,  - R2: 0.83,  - RUL_metric: 0.66, \n",
      "\n",
      "------------------------------------------------------------\n",
      "Epoch 40\n",
      "-------------------------------\n"
     ]
    },
    {
     "name": "stderr",
     "output_type": "stream",
     "text": [
      "100%|██████████| 330/330 [00:00<00:00, 575.85it/s, loss=33.83852005004883] \n"
     ]
    },
    {
     "name": "stdout",
     "output_type": "stream",
     "text": [
      "===> Epoch [39] : loss : 7985.0\n",
      "Test: \n",
      " Avg loss: 18930.694059, \n",
      "\n",
      "- RMSE: 137.54, - MAE: 98.56, - MAPE: 1.11,  - R2: 0.83,  - RUL_metric: 0.66, \n",
      "\n",
      "------------------------------------------------------------\n",
      "Epoch 41\n",
      "-------------------------------\n"
     ]
    },
    {
     "name": "stderr",
     "output_type": "stream",
     "text": [
      "100%|██████████| 330/330 [00:00<00:00, 578.14it/s, loss=79.08917999267578] \n"
     ]
    },
    {
     "name": "stdout",
     "output_type": "stream",
     "text": [
      "===> Epoch [40] : loss : 7988.4\n",
      "Test: \n",
      " Avg loss: 18909.554139, \n",
      "\n",
      "- RMSE: 137.54, - MAE: 98.56, - MAPE: 1.11,  - R2: 0.83,  - RUL_metric: 0.66, \n",
      "\n",
      "------------------------------------------------------------\n",
      "Epoch 42\n",
      "-------------------------------\n"
     ]
    },
    {
     "name": "stderr",
     "output_type": "stream",
     "text": [
      "100%|██████████| 330/330 [00:00<00:00, 524.42it/s, loss=225.13546752929688]\n"
     ]
    },
    {
     "name": "stdout",
     "output_type": "stream",
     "text": [
      "===> Epoch [41] : loss : 7999.5\n",
      "Test: \n",
      " Avg loss: 18909.162805, \n",
      "\n",
      "- RMSE: 137.54, - MAE: 98.56, - MAPE: 1.11,  - R2: 0.83,  - RUL_metric: 0.66, \n",
      "\n",
      "------------------------------------------------------------\n",
      "Epoch 43\n",
      "-------------------------------\n"
     ]
    },
    {
     "name": "stderr",
     "output_type": "stream",
     "text": [
      "100%|██████████| 330/330 [00:00<00:00, 569.91it/s, loss=103.75529479980469]\n"
     ]
    },
    {
     "name": "stdout",
     "output_type": "stream",
     "text": [
      "===> Epoch [42] : loss : 7990.3\n",
      "Test: \n",
      " Avg loss: 18925.386468, \n",
      "\n",
      "- RMSE: 137.54, - MAE: 98.56, - MAPE: 1.11,  - R2: 0.83,  - RUL_metric: 0.66, \n",
      "\n",
      "------------------------------------------------------------\n",
      "Epoch 44\n",
      "-------------------------------\n"
     ]
    },
    {
     "name": "stderr",
     "output_type": "stream",
     "text": [
      "100%|██████████| 330/330 [00:00<00:00, 576.36it/s, loss=158.05966186523438]\n"
     ]
    },
    {
     "name": "stdout",
     "output_type": "stream",
     "text": [
      "===> Epoch [43] : loss : 7994.4\n",
      "Test: \n",
      " Avg loss: 18962.106661, \n",
      "\n",
      "- RMSE: 137.54, - MAE: 98.56, - MAPE: 1.11,  - R2: 0.83,  - RUL_metric: 0.66, \n",
      "\n",
      "------------------------------------------------------------\n",
      "Epoch 45\n",
      "-------------------------------\n"
     ]
    },
    {
     "name": "stderr",
     "output_type": "stream",
     "text": [
      "100%|██████████| 330/330 [00:00<00:00, 576.35it/s, loss=223.2713623046875] \n"
     ]
    },
    {
     "name": "stdout",
     "output_type": "stream",
     "text": [
      "===> Epoch [44] : loss : 7999.3\n",
      "Test: \n",
      " Avg loss: 18908.271329, \n",
      "\n",
      "- RMSE: 137.54, - MAE: 98.56, - MAPE: 1.11,  - R2: 0.83,  - RUL_metric: 0.66, \n",
      "\n",
      "------------------------------------------------------------\n",
      "Epoch 46\n",
      "-------------------------------\n"
     ]
    },
    {
     "name": "stderr",
     "output_type": "stream",
     "text": [
      "100%|██████████| 330/330 [00:00<00:00, 550.49it/s, loss=42.39182662963867] \n"
     ]
    },
    {
     "name": "stdout",
     "output_type": "stream",
     "text": [
      "===> Epoch [45] : loss : 7985.6\n",
      "Test: \n",
      " Avg loss: 18912.121293, \n",
      "\n",
      "- RMSE: 137.54, - MAE: 98.56, - MAPE: 1.11,  - R2: 0.83,  - RUL_metric: 0.66, \n",
      "\n",
      "------------------------------------------------------------\n",
      "Epoch 47\n",
      "-------------------------------\n"
     ]
    },
    {
     "name": "stderr",
     "output_type": "stream",
     "text": [
      "100%|██████████| 330/330 [00:00<00:00, 576.91it/s, loss=89.05546569824219] \n"
     ]
    },
    {
     "name": "stdout",
     "output_type": "stream",
     "text": [
      "===> Epoch [46] : loss : 7989.2\n",
      "Test: \n",
      " Avg loss: 18907.055465, \n",
      "\n",
      "- RMSE: 137.54, - MAE: 98.56, - MAPE: 1.11,  - R2: 0.83,  - RUL_metric: 0.66, \n",
      "\n",
      "------------------------------------------------------------\n",
      "Epoch 48\n",
      "-------------------------------\n"
     ]
    },
    {
     "name": "stderr",
     "output_type": "stream",
     "text": [
      "100%|██████████| 330/330 [00:00<00:00, 547.70it/s, loss=222.24954223632812]\n"
     ]
    },
    {
     "name": "stdout",
     "output_type": "stream",
     "text": [
      "===> Epoch [47] : loss : 7999.2\n",
      "Test: \n",
      " Avg loss: 18910.743467, \n",
      "\n",
      "- RMSE: 137.54, - MAE: 98.56, - MAPE: 1.11,  - R2: 0.83,  - RUL_metric: 0.66, \n",
      "\n",
      "------------------------------------------------------------\n",
      "Epoch 49\n",
      "-------------------------------\n"
     ]
    },
    {
     "name": "stderr",
     "output_type": "stream",
     "text": [
      "100%|██████████| 330/330 [00:00<00:00, 570.39it/s, loss=286.1554260253906] \n"
     ]
    },
    {
     "name": "stdout",
     "output_type": "stream",
     "text": [
      "===> Epoch [48] : loss : 8004.1\n",
      "Test: \n",
      " Avg loss: 18907.095301, \n",
      "\n",
      "- RMSE: 137.54, - MAE: 98.56, - MAPE: 1.11,  - R2: 0.83,  - RUL_metric: 0.66, \n",
      "\n",
      "------------------------------------------------------------\n",
      "Epoch 50\n",
      "-------------------------------\n"
     ]
    },
    {
     "name": "stderr",
     "output_type": "stream",
     "text": [
      "100%|██████████| 330/330 [00:00<00:00, 476.90it/s, loss=31.033565521240234]\n"
     ]
    },
    {
     "name": "stdout",
     "output_type": "stream",
     "text": [
      "===> Epoch [49] : loss : 7984.8\n",
      "Test: \n",
      " Avg loss: 18914.945896, \n",
      "\n",
      "- RMSE: 137.54, - MAE: 98.56, - MAPE: 1.11,  - R2: 0.83,  - RUL_metric: 0.66, \n",
      "\n",
      "------------------------------------------------------------\n",
      "Epoch 51\n",
      "-------------------------------\n"
     ]
    },
    {
     "name": "stderr",
     "output_type": "stream",
     "text": [
      "100%|██████████| 330/330 [00:00<00:00, 575.77it/s, loss=85.41252899169922] \n"
     ]
    },
    {
     "name": "stdout",
     "output_type": "stream",
     "text": [
      "===> Epoch [50] : loss : 7988.9\n",
      "Test: \n",
      " Avg loss: 18910.083077, \n",
      "\n",
      "- RMSE: 137.54, - MAE: 98.56, - MAPE: 1.11,  - R2: 0.83,  - RUL_metric: 0.66, \n",
      "\n",
      "------------------------------------------------------------\n",
      "Epoch 52\n",
      "-------------------------------\n"
     ]
    },
    {
     "name": "stderr",
     "output_type": "stream",
     "text": [
      "100%|██████████| 330/330 [00:00<00:00, 565.29it/s, loss=2012.7537841796875]\n"
     ]
    },
    {
     "name": "stdout",
     "output_type": "stream",
     "text": [
      "===> Epoch [51] : loss : 8134.9\n",
      "Test: \n",
      " Avg loss: 18914.220768, \n",
      "\n",
      "- RMSE: 137.54, - MAE: 98.56, - MAPE: 1.11,  - R2: 0.83,  - RUL_metric: 0.66, \n",
      "\n",
      "------------------------------------------------------------\n",
      "Epoch 53\n",
      "-------------------------------\n"
     ]
    },
    {
     "name": "stderr",
     "output_type": "stream",
     "text": [
      "100%|██████████| 330/330 [00:00<00:00, 568.42it/s, loss=2102.452880859375] \n"
     ]
    },
    {
     "name": "stdout",
     "output_type": "stream",
     "text": [
      "===> Epoch [52] : loss : 8141.7\n",
      "Test: \n",
      " Avg loss: 18908.031859, \n",
      "\n",
      "- RMSE: 137.54, - MAE: 98.56, - MAPE: 1.11,  - R2: 0.83,  - RUL_metric: 0.66, \n",
      "\n",
      "------------------------------------------------------------\n",
      "Epoch 54\n",
      "-------------------------------\n"
     ]
    },
    {
     "name": "stderr",
     "output_type": "stream",
     "text": [
      "100%|██████████| 330/330 [00:00<00:00, 558.98it/s, loss=214.57704162597656]\n"
     ]
    },
    {
     "name": "stdout",
     "output_type": "stream",
     "text": [
      "===> Epoch [53] : loss : 7998.7\n",
      "Test: \n",
      " Avg loss: 18967.828332, \n",
      "\n",
      "- RMSE: 137.54, - MAE: 98.56, - MAPE: 1.11,  - R2: 0.83,  - RUL_metric: 0.66, \n",
      "\n",
      "------------------------------------------------------------\n",
      "Epoch 55\n",
      "-------------------------------\n"
     ]
    },
    {
     "name": "stderr",
     "output_type": "stream",
     "text": [
      "100%|██████████| 330/330 [00:00<00:00, 569.91it/s, loss=125.7148208618164] \n"
     ]
    },
    {
     "name": "stdout",
     "output_type": "stream",
     "text": [
      "===> Epoch [54] : loss : 7991.9\n",
      "Test: \n",
      " Avg loss: 18906.685949, \n",
      "\n",
      "- RMSE: 137.54, - MAE: 98.56, - MAPE: 1.11,  - R2: 0.83,  - RUL_metric: 0.66, \n",
      "\n",
      "------------------------------------------------------------\n",
      "Epoch 56\n",
      "-------------------------------\n"
     ]
    },
    {
     "name": "stderr",
     "output_type": "stream",
     "text": [
      "100%|██████████| 330/330 [00:00<00:00, 573.97it/s, loss=194.69715881347656]\n"
     ]
    },
    {
     "name": "stdout",
     "output_type": "stream",
     "text": [
      "===> Epoch [55] : loss : 7997.2\n",
      "Test: \n",
      " Avg loss: 18929.299230, \n",
      "\n",
      "- RMSE: 137.54, - MAE: 98.56, - MAPE: 1.11,  - R2: 0.83,  - RUL_metric: 0.66, \n",
      "\n",
      "------------------------------------------------------------\n",
      "Epoch 57\n",
      "-------------------------------\n"
     ]
    },
    {
     "name": "stderr",
     "output_type": "stream",
     "text": [
      "100%|██████████| 330/330 [00:00<00:00, 569.91it/s, loss=75.2783432006836]  \n"
     ]
    },
    {
     "name": "stdout",
     "output_type": "stream",
     "text": [
      "===> Epoch [56] : loss : 7988.1\n",
      "Test: \n",
      " Avg loss: 18980.112767, \n",
      "\n",
      "- RMSE: 137.54, - MAE: 98.56, - MAPE: 1.11,  - R2: 0.83,  - RUL_metric: 0.66, \n",
      "\n",
      "------------------------------------------------------------\n",
      "Epoch 58\n",
      "-------------------------------\n"
     ]
    },
    {
     "name": "stderr",
     "output_type": "stream",
     "text": [
      "100%|██████████| 330/330 [00:00<00:00, 534.65it/s, loss=269.5872802734375] \n"
     ]
    },
    {
     "name": "stdout",
     "output_type": "stream",
     "text": [
      "===> Epoch [57] : loss : 8002.8\n",
      "Test: \n",
      " Avg loss: 18905.921827, \n",
      "\n",
      "- RMSE: 137.54, - MAE: 98.56, - MAPE: 1.11,  - R2: 0.83,  - RUL_metric: 0.66, \n",
      "\n",
      "------------------------------------------------------------\n",
      "Epoch 59\n",
      "-------------------------------\n"
     ]
    },
    {
     "name": "stderr",
     "output_type": "stream",
     "text": [
      "100%|██████████| 330/330 [00:00<00:00, 546.55it/s, loss=43.775001525878906]\n"
     ]
    },
    {
     "name": "stdout",
     "output_type": "stream",
     "text": [
      "===> Epoch [58] : loss : 7985.7\n",
      "Test: \n",
      " Avg loss: 18954.914006, \n",
      "\n",
      "- RMSE: 137.54, - MAE: 98.56, - MAPE: 1.11,  - R2: 0.83,  - RUL_metric: 0.66, \n",
      "\n",
      "------------------------------------------------------------\n",
      "Epoch 60\n",
      "-------------------------------\n"
     ]
    },
    {
     "name": "stderr",
     "output_type": "stream",
     "text": [
      "100%|██████████| 330/330 [00:00<00:00, 564.55it/s, loss=90.69737243652344] \n"
     ]
    },
    {
     "name": "stdout",
     "output_type": "stream",
     "text": [
      "===> Epoch [59] : loss : 7989.3\n",
      "Test: \n",
      " Avg loss: 18915.469666, \n",
      "\n",
      "- RMSE: 137.54, - MAE: 98.56, - MAPE: 1.11,  - R2: 0.83,  - RUL_metric: 0.66, \n",
      "\n",
      "------------------------------------------------------------\n",
      "Epoch 61\n",
      "-------------------------------\n"
     ]
    },
    {
     "name": "stderr",
     "output_type": "stream",
     "text": [
      "100%|██████████| 330/330 [00:00<00:00, 576.20it/s, loss=59.44379806518555] \n"
     ]
    },
    {
     "name": "stdout",
     "output_type": "stream",
     "text": [
      "===> Epoch [60] : loss : 7986.9\n",
      "Test: \n",
      " Avg loss: 18911.567750, \n",
      "\n",
      "- RMSE: 137.54, - MAE: 98.56, - MAPE: 1.11,  - R2: 0.83,  - RUL_metric: 0.66, \n",
      "\n",
      "------------------------------------------------------------\n",
      "Epoch 62\n",
      "-------------------------------\n"
     ]
    },
    {
     "name": "stderr",
     "output_type": "stream",
     "text": [
      "100%|██████████| 330/330 [00:00<00:00, 497.75it/s, loss=158.93533325195312]\n"
     ]
    },
    {
     "name": "stdout",
     "output_type": "stream",
     "text": [
      "===> Epoch [61] : loss : 7994.4\n",
      "Test: \n",
      " Avg loss: 18909.468219, \n",
      "\n",
      "- RMSE: 137.54, - MAE: 98.56, - MAPE: 1.11,  - R2: 0.83,  - RUL_metric: 0.66, \n",
      "\n",
      "------------------------------------------------------------\n",
      "Epoch 63\n",
      "-------------------------------\n"
     ]
    },
    {
     "name": "stderr",
     "output_type": "stream",
     "text": [
      "100%|██████████| 330/330 [00:00<00:00, 515.23it/s, loss=392.7990417480469] \n"
     ]
    },
    {
     "name": "stdout",
     "output_type": "stream",
     "text": [
      "===> Epoch [62] : loss : 8012.2\n",
      "Test: \n",
      " Avg loss: 18917.594761, \n",
      "\n",
      "- RMSE: 137.54, - MAE: 98.56, - MAPE: 1.11,  - R2: 0.83,  - RUL_metric: 0.66, \n",
      "\n",
      "------------------------------------------------------------\n",
      "Epoch 64\n",
      "-------------------------------\n"
     ]
    },
    {
     "name": "stderr",
     "output_type": "stream",
     "text": [
      "100%|██████████| 330/330 [00:00<00:00, 567.74it/s, loss=55.5471305847168]  \n"
     ]
    },
    {
     "name": "stdout",
     "output_type": "stream",
     "text": [
      "===> Epoch [63] : loss : 7986.6\n",
      "Test: \n",
      " Avg loss: 18914.121560, \n",
      "\n",
      "- RMSE: 137.54, - MAE: 98.56, - MAPE: 1.11,  - R2: 0.83,  - RUL_metric: 0.66, \n",
      "\n",
      "------------------------------------------------------------\n",
      "Epoch 65\n",
      "-------------------------------\n"
     ]
    },
    {
     "name": "stderr",
     "output_type": "stream",
     "text": [
      "100%|██████████| 330/330 [00:00<00:00, 568.93it/s, loss=90.18804168701172] \n"
     ]
    },
    {
     "name": "stdout",
     "output_type": "stream",
     "text": [
      "===> Epoch [64] : loss : 7989.2\n",
      "Test: \n",
      " Avg loss: 18910.979803, \n",
      "\n",
      "- RMSE: 137.54, - MAE: 98.56, - MAPE: 1.11,  - R2: 0.83,  - RUL_metric: 0.66, \n",
      "\n",
      "------------------------------------------------------------\n",
      "Epoch 66\n",
      "-------------------------------\n"
     ]
    },
    {
     "name": "stderr",
     "output_type": "stream",
     "text": [
      "100%|██████████| 330/330 [00:00<00:00, 571.01it/s, loss=639.5570068359375] \n"
     ]
    },
    {
     "name": "stdout",
     "output_type": "stream",
     "text": [
      "===> Epoch [65] : loss : 8030.9\n",
      "Test: \n",
      " Avg loss: 18920.708302, \n",
      "\n",
      "- RMSE: 137.54, - MAE: 98.56, - MAPE: 1.11,  - R2: 0.83,  - RUL_metric: 0.66, \n",
      "\n",
      "------------------------------------------------------------\n",
      "Epoch 67\n",
      "-------------------------------\n"
     ]
    },
    {
     "name": "stderr",
     "output_type": "stream",
     "text": [
      "100%|██████████| 330/330 [00:00<00:00, 537.57it/s, loss=215.44650268554688]\n"
     ]
    },
    {
     "name": "stdout",
     "output_type": "stream",
     "text": [
      "===> Epoch [66] : loss : 7998.7\n",
      "Test: \n",
      " Avg loss: 18910.136360, \n",
      "\n",
      "- RMSE: 137.54, - MAE: 98.56, - MAPE: 1.11,  - R2: 0.83,  - RUL_metric: 0.66, \n",
      "\n",
      "------------------------------------------------------------\n",
      "Epoch 68\n",
      "-------------------------------\n"
     ]
    },
    {
     "name": "stderr",
     "output_type": "stream",
     "text": [
      "100%|██████████| 330/330 [00:00<00:00, 564.12it/s, loss=228.16929626464844]\n"
     ]
    },
    {
     "name": "stdout",
     "output_type": "stream",
     "text": [
      "===> Epoch [67] : loss : 7999.7\n",
      "Test: \n",
      " Avg loss: 18923.318917, \n",
      "\n",
      "- RMSE: 137.54, - MAE: 98.56, - MAPE: 1.11,  - R2: 0.83,  - RUL_metric: 0.66, \n",
      "\n",
      "------------------------------------------------------------\n",
      "Epoch 69\n",
      "-------------------------------\n"
     ]
    },
    {
     "name": "stderr",
     "output_type": "stream",
     "text": [
      "100%|██████████| 330/330 [00:00<00:00, 573.44it/s, loss=92.21955871582031] \n"
     ]
    },
    {
     "name": "stdout",
     "output_type": "stream",
     "text": [
      "===> Epoch [68] : loss : 7989.4\n",
      "Test: \n",
      " Avg loss: 18924.825485, \n",
      "\n",
      "- RMSE: 137.54, - MAE: 98.56, - MAPE: 1.11,  - R2: 0.83,  - RUL_metric: 0.66, \n",
      "\n",
      "------------------------------------------------------------\n",
      "Epoch 70\n",
      "-------------------------------\n"
     ]
    },
    {
     "name": "stderr",
     "output_type": "stream",
     "text": [
      "100%|██████████| 330/330 [00:00<00:00, 574.33it/s, loss=196.7156982421875] \n"
     ]
    },
    {
     "name": "stdout",
     "output_type": "stream",
     "text": [
      "===> Epoch [69] : loss : 7997.3\n",
      "Test: \n",
      " Avg loss: 18909.768650, \n",
      "\n",
      "- RMSE: 137.54, - MAE: 98.56, - MAPE: 1.11,  - R2: 0.83,  - RUL_metric: 0.66, \n",
      "\n",
      "------------------------------------------------------------\n",
      "Epoch 71\n",
      "-------------------------------\n"
     ]
    },
    {
     "name": "stderr",
     "output_type": "stream",
     "text": [
      "100%|██████████| 330/330 [00:00<00:00, 534.19it/s, loss=231.19583129882812]\n"
     ]
    },
    {
     "name": "stdout",
     "output_type": "stream",
     "text": [
      "===> Epoch [70] : loss : 7999.9\n",
      "Test: \n",
      " Avg loss: 18909.247135, \n",
      "\n",
      "- RMSE: 137.54, - MAE: 98.56, - MAPE: 1.11,  - R2: 0.83,  - RUL_metric: 0.66, \n",
      "\n",
      "------------------------------------------------------------\n",
      "Epoch 72\n",
      "-------------------------------\n"
     ]
    },
    {
     "name": "stderr",
     "output_type": "stream",
     "text": [
      "100%|██████████| 330/330 [00:00<00:00, 567.95it/s, loss=32.1152229309082]  \n"
     ]
    },
    {
     "name": "stdout",
     "output_type": "stream",
     "text": [
      "===> Epoch [71] : loss : 7984.8\n",
      "Test: \n",
      " Avg loss: 18908.798578, \n",
      "\n",
      "- RMSE: 137.54, - MAE: 98.56, - MAPE: 1.11,  - R2: 0.83,  - RUL_metric: 0.66, \n",
      "\n",
      "------------------------------------------------------------\n",
      "Epoch 73\n",
      "-------------------------------\n"
     ]
    },
    {
     "name": "stderr",
     "output_type": "stream",
     "text": [
      "100%|██████████| 330/330 [00:00<00:00, 567.47it/s, loss=40.08366775512695] \n"
     ]
    },
    {
     "name": "stdout",
     "output_type": "stream",
     "text": [
      "===> Epoch [72] : loss : 7985.4\n",
      "Test: \n",
      " Avg loss: 18910.629032, \n",
      "\n",
      "- RMSE: 137.54, - MAE: 98.56, - MAPE: 1.11,  - R2: 0.83,  - RUL_metric: 0.66, \n",
      "\n",
      "------------------------------------------------------------\n",
      "Epoch 74\n",
      "-------------------------------\n"
     ]
    },
    {
     "name": "stderr",
     "output_type": "stream",
     "text": [
      "100%|██████████| 330/330 [00:00<00:00, 497.05it/s, loss=162.4356689453125] \n"
     ]
    },
    {
     "name": "stdout",
     "output_type": "stream",
     "text": [
      "===> Epoch [73] : loss : 7994.7\n",
      "Test: \n",
      " Avg loss: 18904.346278, \n",
      "\n",
      "- RMSE: 137.54, - MAE: 98.56, - MAPE: 1.11,  - R2: 0.83,  - RUL_metric: 0.66, \n",
      "\n",
      "------------------------------------------------------------\n",
      "Epoch 75\n",
      "-------------------------------\n"
     ]
    },
    {
     "name": "stderr",
     "output_type": "stream",
     "text": [
      "100%|██████████| 330/330 [00:00<00:00, 545.90it/s, loss=63.49872589111328] \n"
     ]
    },
    {
     "name": "stdout",
     "output_type": "stream",
     "text": [
      "===> Epoch [74] : loss : 7987.2\n",
      "Test: \n",
      " Avg loss: 18907.262860, \n",
      "\n",
      "- RMSE: 137.54, - MAE: 98.56, - MAPE: 1.11,  - R2: 0.83,  - RUL_metric: 0.66, \n",
      "\n",
      "------------------------------------------------------------\n",
      "Epoch 76\n",
      "-------------------------------\n"
     ]
    },
    {
     "name": "stderr",
     "output_type": "stream",
     "text": [
      "100%|██████████| 330/330 [00:00<00:00, 563.58it/s, loss=640.8035278320312] \n"
     ]
    },
    {
     "name": "stdout",
     "output_type": "stream",
     "text": [
      "===> Epoch [75] : loss : 8031.0\n",
      "Test: \n",
      " Avg loss: 18909.198437, \n",
      "\n",
      "- RMSE: 137.54, - MAE: 98.56, - MAPE: 1.11,  - R2: 0.83,  - RUL_metric: 0.66, \n",
      "\n",
      "------------------------------------------------------------\n",
      "Epoch 77\n",
      "-------------------------------\n"
     ]
    },
    {
     "name": "stderr",
     "output_type": "stream",
     "text": [
      "100%|██████████| 330/330 [00:00<00:00, 569.40it/s, loss=590.0508422851562] \n"
     ]
    },
    {
     "name": "stdout",
     "output_type": "stream",
     "text": [
      "===> Epoch [76] : loss : 8027.1\n",
      "Test: \n",
      " Avg loss: 18910.998068, \n",
      "\n",
      "- RMSE: 137.54, - MAE: 98.56, - MAPE: 1.11,  - R2: 0.83,  - RUL_metric: 0.66, \n",
      "\n",
      "------------------------------------------------------------\n",
      "Epoch 78\n",
      "-------------------------------\n"
     ]
    },
    {
     "name": "stderr",
     "output_type": "stream",
     "text": [
      "100%|██████████| 330/330 [00:00<00:00, 566.52it/s, loss=127.13267517089844]\n"
     ]
    },
    {
     "name": "stdout",
     "output_type": "stream",
     "text": [
      "===> Epoch [77] : loss : 7992.0\n",
      "Test: \n",
      " Avg loss: 18906.767448, \n",
      "\n",
      "- RMSE: 137.54, - MAE: 98.56, - MAPE: 1.11,  - R2: 0.83,  - RUL_metric: 0.66, \n",
      "\n",
      "------------------------------------------------------------\n",
      "Epoch 79\n",
      "-------------------------------\n"
     ]
    },
    {
     "name": "stderr",
     "output_type": "stream",
     "text": [
      "100%|██████████| 330/330 [00:00<00:00, 535.31it/s, loss=56.400325775146484]\n"
     ]
    },
    {
     "name": "stdout",
     "output_type": "stream",
     "text": [
      "===> Epoch [78] : loss : 7986.7\n",
      "Test: \n",
      " Avg loss: 18910.190382, \n",
      "\n",
      "- RMSE: 137.54, - MAE: 98.56, - MAPE: 1.11,  - R2: 0.83,  - RUL_metric: 0.66, \n",
      "\n",
      "------------------------------------------------------------\n",
      "Epoch 80\n",
      "-------------------------------\n"
     ]
    },
    {
     "name": "stderr",
     "output_type": "stream",
     "text": [
      "100%|██████████| 330/330 [00:00<00:00, 557.15it/s, loss=127.46845245361328]\n"
     ]
    },
    {
     "name": "stdout",
     "output_type": "stream",
     "text": [
      "===> Epoch [79] : loss : 7992.1\n",
      "Test: \n",
      " Avg loss: 18910.793703, \n",
      "\n",
      "- RMSE: 137.54, - MAE: 98.56, - MAPE: 1.11,  - R2: 0.83,  - RUL_metric: 0.66, \n",
      "\n",
      "------------------------------------------------------------\n",
      "Epoch 81\n",
      "-------------------------------\n"
     ]
    },
    {
     "name": "stderr",
     "output_type": "stream",
     "text": [
      "100%|██████████| 330/330 [00:00<00:00, 566.37it/s, loss=388.8271789550781] \n"
     ]
    },
    {
     "name": "stdout",
     "output_type": "stream",
     "text": [
      "===> Epoch [80] : loss : 8011.9\n",
      "Test: \n",
      " Avg loss: 18906.001633, \n",
      "\n",
      "- RMSE: 137.54, - MAE: 98.56, - MAPE: 1.11,  - R2: 0.83,  - RUL_metric: 0.66, \n",
      "\n",
      "------------------------------------------------------------\n",
      "Epoch 82\n",
      "-------------------------------\n"
     ]
    },
    {
     "name": "stderr",
     "output_type": "stream",
     "text": [
      "100%|██████████| 330/330 [00:00<00:00, 571.63it/s, loss=102.51250457763672]\n"
     ]
    },
    {
     "name": "stdout",
     "output_type": "stream",
     "text": [
      "===> Epoch [81] : loss : 7990.2\n",
      "Test: \n",
      " Avg loss: 18909.210458, \n",
      "\n",
      "- RMSE: 137.54, - MAE: 98.56, - MAPE: 1.11,  - R2: 0.83,  - RUL_metric: 0.66, \n",
      "\n",
      "------------------------------------------------------------\n",
      "Epoch 83\n",
      "-------------------------------\n"
     ]
    },
    {
     "name": "stderr",
     "output_type": "stream",
     "text": [
      "100%|██████████| 330/330 [00:00<00:00, 543.57it/s, loss=135.80319213867188]\n"
     ]
    },
    {
     "name": "stdout",
     "output_type": "stream",
     "text": [
      "===> Epoch [82] : loss : 7992.7\n",
      "Test: \n",
      " Avg loss: 18917.888927, \n",
      "\n",
      "- RMSE: 137.54, - MAE: 98.56, - MAPE: 1.11,  - R2: 0.83,  - RUL_metric: 0.66, \n",
      "\n",
      "------------------------------------------------------------\n",
      "Epoch 84\n",
      "-------------------------------\n"
     ]
    },
    {
     "name": "stderr",
     "output_type": "stream",
     "text": [
      "100%|██████████| 330/330 [00:00<00:00, 557.85it/s, loss=155.565185546875]  \n"
     ]
    },
    {
     "name": "stdout",
     "output_type": "stream",
     "text": [
      "===> Epoch [83] : loss : 7994.2\n",
      "Test: \n",
      " Avg loss: 18920.749045, \n",
      "\n",
      "- RMSE: 137.54, - MAE: 98.56, - MAPE: 1.11,  - R2: 0.83,  - RUL_metric: 0.66, \n",
      "\n",
      "------------------------------------------------------------\n",
      "Epoch 85\n",
      "-------------------------------\n"
     ]
    },
    {
     "name": "stderr",
     "output_type": "stream",
     "text": [
      "100%|██████████| 330/330 [00:00<00:00, 556.01it/s, loss=275.2286071777344] \n"
     ]
    },
    {
     "name": "stdout",
     "output_type": "stream",
     "text": [
      "===> Epoch [84] : loss : 8003.3\n",
      "Test: \n",
      " Avg loss: 18912.365645, \n",
      "\n",
      "- RMSE: 137.54, - MAE: 98.56, - MAPE: 1.11,  - R2: 0.83,  - RUL_metric: 0.66, \n",
      "\n",
      "------------------------------------------------------------\n",
      "Epoch 86\n",
      "-------------------------------\n"
     ]
    },
    {
     "name": "stderr",
     "output_type": "stream",
     "text": [
      "100%|██████████| 330/330 [00:00<00:00, 491.71it/s, loss=95.2137680053711]  \n"
     ]
    },
    {
     "name": "stdout",
     "output_type": "stream",
     "text": [
      "===> Epoch [85] : loss : 7989.6\n",
      "Test: \n",
      " Avg loss: 18913.627225, \n",
      "\n",
      "- RMSE: 137.54, - MAE: 98.56, - MAPE: 1.11,  - R2: 0.83,  - RUL_metric: 0.66, \n",
      "\n",
      "------------------------------------------------------------\n",
      "Epoch 87\n",
      "-------------------------------\n"
     ]
    },
    {
     "name": "stderr",
     "output_type": "stream",
     "text": [
      "100%|██████████| 330/330 [00:00<00:00, 545.58it/s, loss=218.8129425048828] \n"
     ]
    },
    {
     "name": "stdout",
     "output_type": "stream",
     "text": [
      "===> Epoch [86] : loss : 7999.0\n",
      "Test: \n",
      " Avg loss: 18910.961460, \n",
      "\n",
      "- RMSE: 137.54, - MAE: 98.56, - MAPE: 1.11,  - R2: 0.83,  - RUL_metric: 0.66, \n",
      "\n",
      "------------------------------------------------------------\n",
      "Epoch 88\n",
      "-------------------------------\n"
     ]
    },
    {
     "name": "stderr",
     "output_type": "stream",
     "text": [
      "100%|██████████| 330/330 [00:00<00:00, 564.68it/s, loss=71.511474609375]   \n"
     ]
    },
    {
     "name": "stdout",
     "output_type": "stream",
     "text": [
      "===> Epoch [87] : loss : 7987.8\n",
      "Test: \n",
      " Avg loss: 18927.744067, \n",
      "\n",
      "- RMSE: 137.54, - MAE: 98.56, - MAPE: 1.11,  - R2: 0.83,  - RUL_metric: 0.66, \n",
      "\n",
      "------------------------------------------------------------\n",
      "Epoch 89\n",
      "-------------------------------\n"
     ]
    },
    {
     "name": "stderr",
     "output_type": "stream",
     "text": [
      "100%|██████████| 330/330 [00:00<00:00, 540.48it/s, loss=232.20191955566406]\n"
     ]
    },
    {
     "name": "stdout",
     "output_type": "stream",
     "text": [
      "===> Epoch [88] : loss : 8000.0\n",
      "Test: \n",
      " Avg loss: 18908.594217, \n",
      "\n",
      "- RMSE: 137.54, - MAE: 98.56, - MAPE: 1.11,  - R2: 0.83,  - RUL_metric: 0.66, \n",
      "\n",
      "------------------------------------------------------------\n",
      "Epoch 90\n",
      "-------------------------------\n"
     ]
    },
    {
     "name": "stderr",
     "output_type": "stream",
     "text": [
      "100%|██████████| 330/330 [00:00<00:00, 557.58it/s, loss=173.63284301757812]\n"
     ]
    },
    {
     "name": "stdout",
     "output_type": "stream",
     "text": [
      "===> Epoch [89] : loss : 7995.6\n",
      "Test: \n",
      " Avg loss: 18909.505617, \n",
      "\n",
      "- RMSE: 137.54, - MAE: 98.56, - MAPE: 1.11,  - R2: 0.83,  - RUL_metric: 0.66, \n",
      "\n",
      "------------------------------------------------------------\n",
      "Epoch 91\n",
      "-------------------------------\n"
     ]
    },
    {
     "name": "stderr",
     "output_type": "stream",
     "text": [
      "100%|██████████| 330/330 [00:00<00:00, 573.82it/s, loss=98.85003662109375] \n"
     ]
    },
    {
     "name": "stdout",
     "output_type": "stream",
     "text": [
      "===> Epoch [90] : loss : 7989.9\n",
      "Test: \n",
      " Avg loss: 18909.677108, \n",
      "\n",
      "- RMSE: 137.54, - MAE: 98.56, - MAPE: 1.11,  - R2: 0.83,  - RUL_metric: 0.66, \n",
      "\n",
      "------------------------------------------------------------\n",
      "Epoch 92\n",
      "-------------------------------\n"
     ]
    },
    {
     "name": "stderr",
     "output_type": "stream",
     "text": [
      "100%|██████████| 330/330 [00:00<00:00, 569.61it/s, loss=75.85713195800781] \n"
     ]
    },
    {
     "name": "stdout",
     "output_type": "stream",
     "text": [
      "===> Epoch [91] : loss : 7988.2\n",
      "Test: \n",
      " Avg loss: 18918.174118, \n",
      "\n",
      "- RMSE: 137.54, - MAE: 98.56, - MAPE: 1.11,  - R2: 0.83,  - RUL_metric: 0.66, \n",
      "\n",
      "------------------------------------------------------------\n",
      "Epoch 93\n",
      "-------------------------------\n"
     ]
    },
    {
     "name": "stderr",
     "output_type": "stream",
     "text": [
      "100%|██████████| 330/330 [00:00<00:00, 567.93it/s, loss=280.56365966796875]\n"
     ]
    },
    {
     "name": "stdout",
     "output_type": "stream",
     "text": [
      "===> Epoch [92] : loss : 8003.7\n",
      "Test: \n",
      " Avg loss: 18909.358096, \n",
      "\n",
      "- RMSE: 137.54, - MAE: 98.56, - MAPE: 1.11,  - R2: 0.83,  - RUL_metric: 0.66, \n",
      "\n",
      "------------------------------------------------------------\n",
      "Epoch 94\n",
      "-------------------------------\n"
     ]
    },
    {
     "name": "stderr",
     "output_type": "stream",
     "text": [
      "100%|██████████| 330/330 [00:00<00:00, 574.23it/s, loss=118.47591400146484]\n"
     ]
    },
    {
     "name": "stdout",
     "output_type": "stream",
     "text": [
      "===> Epoch [93] : loss : 7991.4\n",
      "Test: \n",
      " Avg loss: 18924.506719, \n",
      "\n",
      "- RMSE: 137.54, - MAE: 98.56, - MAPE: 1.11,  - R2: 0.83,  - RUL_metric: 0.66, \n",
      "\n",
      "------------------------------------------------------------\n",
      "Epoch 95\n",
      "-------------------------------\n"
     ]
    },
    {
     "name": "stderr",
     "output_type": "stream",
     "text": [
      "100%|██████████| 330/330 [00:00<00:00, 518.87it/s, loss=175.62367248535156]\n"
     ]
    },
    {
     "name": "stdout",
     "output_type": "stream",
     "text": [
      "===> Epoch [94] : loss : 7995.7\n",
      "Test: \n",
      " Avg loss: 18909.975162, \n",
      "\n",
      "- RMSE: 137.54, - MAE: 98.56, - MAPE: 1.11,  - R2: 0.83,  - RUL_metric: 0.66, \n",
      "\n",
      "------------------------------------------------------------\n",
      "Epoch 96\n",
      "-------------------------------\n"
     ]
    },
    {
     "name": "stderr",
     "output_type": "stream",
     "text": [
      "100%|██████████| 330/330 [00:00<00:00, 566.98it/s, loss=64.4427261352539]  \n"
     ]
    },
    {
     "name": "stdout",
     "output_type": "stream",
     "text": [
      "===> Epoch [95] : loss : 7987.3\n",
      "Test: \n",
      " Avg loss: 18932.846585, \n",
      "\n",
      "- RMSE: 137.54, - MAE: 98.56, - MAPE: 1.11,  - R2: 0.83,  - RUL_metric: 0.66, \n",
      "\n",
      "------------------------------------------------------------\n",
      "Epoch 97\n",
      "-------------------------------\n"
     ]
    },
    {
     "name": "stderr",
     "output_type": "stream",
     "text": [
      "100%|██████████| 330/330 [00:00<00:00, 568.05it/s, loss=30.933366775512695]\n"
     ]
    },
    {
     "name": "stdout",
     "output_type": "stream",
     "text": [
      "===> Epoch [96] : loss : 7984.7\n",
      "Test: \n",
      " Avg loss: 18911.561627, \n",
      "\n",
      "- RMSE: 137.54, - MAE: 98.56, - MAPE: 1.11,  - R2: 0.83,  - RUL_metric: 0.66, \n",
      "\n",
      "------------------------------------------------------------\n",
      "Epoch 98\n",
      "-------------------------------\n"
     ]
    },
    {
     "name": "stderr",
     "output_type": "stream",
     "text": [
      "100%|██████████| 330/330 [00:00<00:00, 474.28it/s, loss=111.63221740722656]\n"
     ]
    },
    {
     "name": "stdout",
     "output_type": "stream",
     "text": [
      "===> Epoch [97] : loss : 7990.9\n",
      "Test: \n",
      " Avg loss: 18911.515426, \n",
      "\n",
      "- RMSE: 137.54, - MAE: 98.56, - MAPE: 1.11,  - R2: 0.83,  - RUL_metric: 0.66, \n",
      "\n",
      "------------------------------------------------------------\n",
      "Epoch 99\n",
      "-------------------------------\n"
     ]
    },
    {
     "name": "stderr",
     "output_type": "stream",
     "text": [
      "100%|██████████| 330/330 [00:00<00:00, 566.36it/s, loss=54.816749572753906]\n"
     ]
    },
    {
     "name": "stdout",
     "output_type": "stream",
     "text": [
      "===> Epoch [98] : loss : 7986.6\n",
      "Test: \n",
      " Avg loss: 18906.220746, \n",
      "\n",
      "- RMSE: 137.54, - MAE: 98.56, - MAPE: 1.11,  - R2: 0.83,  - RUL_metric: 0.66, \n",
      "\n",
      "------------------------------------------------------------\n",
      "Epoch 100\n",
      "-------------------------------\n"
     ]
    },
    {
     "name": "stderr",
     "output_type": "stream",
     "text": [
      "100%|██████████| 330/330 [00:00<00:00, 524.13it/s, loss=75.87885284423828] \n"
     ]
    },
    {
     "name": "stdout",
     "output_type": "stream",
     "text": [
      "===> Epoch [99] : loss : 7988.2\n",
      "Test: \n",
      " Avg loss: 18910.472107, \n",
      "\n",
      "- RMSE: 137.54, - MAE: 98.56, - MAPE: 1.11,  - R2: 0.83,  - RUL_metric: 0.66, \n",
      "\n",
      "------------------------------------------------------------\n",
      "Fertig!\n"
     ]
    }
   ],
   "source": [
    "\n",
    "for epoch in range(epochs):\n",
    "    print(f\"Epoch {epoch+1}\\n-------------------------------\")\n",
    "\n",
    "    train_loop(epoch, train_loader, model, criterion, optimizer)\n",
    "    val_loop(epoch, valid_loader, model, criterion)\n",
    "\n",
    "\n",
    "print(\"Fertig!\")\n"
   ]
  },
  {
   "cell_type": "code",
   "execution_count": 99,
   "metadata": {},
   "outputs": [],
   "source": [
    "# 함수로 만들어서 사용합시다.\n",
    "def dl_history_plot(history):\n",
    "    plt.figure(figsize=(10,6))\n",
    "    plt.plot(history['loss'], label='train_err', marker = '.')\n",
    "    plt.plot(history['val_loss'], label='val_err', marker = '.')\n",
    "\n",
    "    plt.ylabel('Loss')\n",
    "    plt.xlabel('Epoch')\n",
    "    plt.legend()\n",
    "    plt.grid()\n",
    "    plt.show()"
   ]
  },
  {
   "cell_type": "code",
   "execution_count": 100,
   "metadata": {},
   "outputs": [],
   "source": [
    "def visualization_result(y_val,pred, size=100):\n",
    "  sns.lineplot(y_val[:size].values, label='valid train')\n",
    "  sns.lineplot(pred.reshape(pred.shape[0],)[:size], label='pred')\n",
    "  plt.legend(loc='upper right')\n",
    "  plt.show()"
   ]
  },
  {
   "cell_type": "code",
   "execution_count": 101,
   "metadata": {},
   "outputs": [
    {
     "ename": "NameError",
     "evalue": "name 'test_loss_list' is not defined",
     "output_type": "error",
     "traceback": [
      "\u001b[1;31m---------------------------------------------------------------------------\u001b[0m",
      "\u001b[1;31mNameError\u001b[0m                                 Traceback (most recent call last)",
      "Cell \u001b[1;32mIn[101], line 1\u001b[0m\n\u001b[1;32m----> 1\u001b[0m dl_history_plot(train_loss_list, test_loss_list)\n",
      "\u001b[1;31mNameError\u001b[0m: name 'test_loss_list' is not defined"
     ]
    }
   ],
   "source": [
    "dl_history_plot(train_loss_list, test_loss_list)"
   ]
  },
  {
   "cell_type": "code",
   "execution_count": 29,
   "metadata": {},
   "outputs": [],
   "source": [
    "clear_session()\n",
    "\n",
    "model = Sequential([\n",
    "    Dense(32, input_shape=(nfeatures,), activation='ELU'),\n",
    "    Dense(16, input_shape=(32,), activation='ELU'),\n",
    "    Dropout(0.5),\n",
    "    Dense(1, input_shape=(16,), activation='ELU')\n",
    "])\n",
    "\n",
    "model.compile(optimizer=Adam(learning_rate=0.01), loss='mse')\n",
    "\n",
    "hist = model.fit(X_train_s, y_train_s, epochs=100, validation_split=0.2, verbose=0).history"
   ]
  },
  {
   "cell_type": "code",
   "execution_count": 30,
   "metadata": {},
   "outputs": [
    {
     "data": {
      "image/png": "[encoded data removed]",
      "text/plain": [
       "<Figure size 1000x600 with 1 Axes>"
      ]
     },
     "metadata": {},
     "output_type": "display_data"
    }
   ],
   "source": [
    "dl_history_plot(hist)"
   ]
  },
  {
   "cell_type": "code",
   "execution_count": 31,
   "metadata": {},
   "outputs": [
    {
     "name": "stdout",
     "output_type": "stream",
     "text": [
      "RMSE : 70.70289189255601\n",
      "MAE  : 54.542563414679165\n",
      "MAPE : 1886268809472397.5\n",
      "R2 : 0.9516721659815035\n"
     ]
    }
   ],
   "source": [
    "pred = model.predict(X_test_s)\n",
    "\n",
    "print(f'RMSE : {mean_squared_error(y_test_s, pred, squared=False)}')\n",
    "print(f'MAE  : {mean_absolute_error(y_test_s, pred)}')\n",
    "print(f'MAPE : {mean_absolute_percentage_error(y_test_s, pred)}')\n",
    "print(f'R2 : {r2_score(y_test_s, pred)}')"
   ]
  },
  {
   "cell_type": "code",
   "execution_count": 32,
   "metadata": {},
   "outputs": [
    {
     "data": {
      "image/png": "[encoded data removed]",
      "text/plain": [
       "<Figure size 640x480 with 1 Axes>"
      ]
     },
     "metadata": {},
     "output_type": "display_data"
    }
   ],
   "source": [
    "visualization_result(y_test_s,pred,size=100)"
   ]
  },
  {
   "cell_type": "code",
   "execution_count": 33,
   "metadata": {},
   "outputs": [],
   "source": [
    "clear_session()\n",
    "from tensorflow.keras.regularizers import l1, l2\n",
    "\n",
    "model = Sequential([\n",
    "    Dense(32, input_shape=(nfeatures,), activation='ELU', kernel_regularizer = l1(0.01)),\n",
    "    Dense(16, input_shape=(32,), activation='ELU', kernel_regularizer = l1(0.01)),\n",
    "    Dropout(0.5),\n",
    "    Dense(1, input_shape=(16,), activation='ELU')\n",
    "])\n",
    "\n",
    "model.compile(optimizer=Adam(learning_rate=0.01), loss='mse')\n",
    "\n",
    "hist = model.fit(X_train_s, y_train_s, epochs=100, validation_split=0.2, verbose=0).history"
   ]
  },
  {
   "cell_type": "code",
   "execution_count": 34,
   "metadata": {},
   "outputs": [
    {
     "data": {
      "image/png": "[encoded data removed]",
      "text/plain": [
       "<Figure size 1000x600 with 1 Axes>"
      ]
     },
     "metadata": {},
     "output_type": "display_data"
    },
    {
     "name": "stdout",
     "output_type": "stream",
     "text": [
      "RMSE : 61.69550065151493\n",
      "MAE  : 46.079332333534644\n",
      "MAPE : 1827158615447511.2\n",
      "R2 : 0.9632015131060703\n"
     ]
    },
    {
     "data": {
      "image/png": "[encoded data removed]",
      "text/plain": [
       "<Figure size 640x480 with 1 Axes>"
      ]
     },
     "metadata": {},
     "output_type": "display_data"
    }
   ],
   "source": [
    "dl_history_plot(hist)\n",
    "\n",
    "pred = model.predict(X_test_s)\n",
    "\n",
    "print(f'RMSE : {mean_squared_error(y_test_s, pred, squared=False)}')\n",
    "print(f'MAE  : {mean_absolute_error(y_test_s, pred)}')\n",
    "print(f'MAPE : {mean_absolute_percentage_error(y_test_s, pred)}')\n",
    "print(f'R2 : {r2_score(y_test_s, pred)}')\n",
    "\n",
    "visualization_result(y_test_s,pred,size=100)"
   ]
  },
  {
   "cell_type": "code",
   "execution_count": null,
   "metadata": {},
   "outputs": [],
   "source": []
  },
  {
   "cell_type": "code",
   "execution_count": null,
   "metadata": {},
   "outputs": [],
   "source": []
  }
 ],
 "metadata": {
  "kernelspec": {
   "display_name": "base",
   "language": "python",
   "name": "python3"
  },
  "language_info": {
   "codemirror_mode": {
    "name": "ipython",
    "version": 3
   },
   "file_extension": ".py",
   "mimetype": "text/x-python",
   "name": "python",
   "nbconvert_exporter": "python",
   "pygments_lexer": "ipython3",
   "version": "3.11.5"
  }
 },
 "nbformat": 4,
 "nbformat_minor": 2
}
